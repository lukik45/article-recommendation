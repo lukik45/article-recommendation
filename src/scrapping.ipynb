{
 "cells": [
  {
   "cell_type": "markdown",
   "metadata": {},
   "source": [
    "TODO\n",
    "- [ ] wordcloud\n",
    "- [ ] graphs, charts, statistics\n",
    "- [ ] dalex"
   ]
  },
  {
   "cell_type": "code",
   "execution_count": 2,
   "metadata": {},
   "outputs": [],
   "source": [
    "import bs4\n",
    "import requests\n",
    "import pandas as pd\n",
    "import re\n",
    "import fandom\n",
    "import random\n",
    "import time"
   ]
  },
  {
   "cell_type": "code",
   "execution_count": 3,
   "metadata": {},
   "outputs": [],
   "source": [
    "domain_address = 'https://rickandmorty.fandom.com/'\n",
    "all_pages_subpage = '/wiki/Special:AllPages'"
   ]
  },
  {
   "cell_type": "code",
   "execution_count": 6,
   "metadata": {},
   "outputs": [
    {
     "name": "stdout",
     "output_type": "stream",
     "text": [
      "[<a href=\"/wiki/Special:AllPages?from=Charred+Morty\" title=\"Special:AllPages\">Next page (Charred Morty)</a>]\n",
      "https://rickandmorty.fandom.com//wiki/Special:AllPages?from=Charred+Morty\n",
      "[<a href=\"/wiki/Special:AllPages?from=%22Lawyer%22+Morty\" title=\"Special:AllPages\">Previous page (\"Lawyer\" Morty)</a>, <a href=\"/wiki/Special:AllPages?from=Female+Jerry\" title=\"Special:AllPages\">Next page (Female Jerry)</a>]\n",
      "https://rickandmorty.fandom.com//wiki/Special:AllPages?from=Female+Jerry\n",
      "[<a href=\"/wiki/Special:AllPages?from=Charred+Morty\" title=\"Special:AllPages\">Previous page (Charred Morty)</a>, <a href=\"/wiki/Special:AllPages?from=Jerry+Smith+%28C-137%29\" title=\"Special:AllPages\">Next page (Jerry Smith (C-137))</a>]\n",
      "https://rickandmorty.fandom.com//wiki/Special:AllPages?from=Jerry+Smith+%28C-137%29\n",
      "[<a href=\"/wiki/Special:AllPages?from=Female+Jerry\" title=\"Special:AllPages\">Previous page (Female Jerry)</a>, <a href=\"/wiki/Special:AllPages?from=Mr.+Goldenfold+%28Wasp+Universe%29\" title=\"Special:AllPages\">Next page (Mr. Goldenfold (Wasp Universe))</a>]\n",
      "https://rickandmorty.fandom.com//wiki/Special:AllPages?from=Mr.+Goldenfold+%28Wasp+Universe%29\n",
      "[<a href=\"/wiki/Special:AllPages?from=Jerry+Smith+%28C-137%29\" title=\"Special:AllPages\">Previous page (Jerry Smith (C-137))</a>, <a href=\"/wiki/Special:AllPages?from=Rainbow+Suspenders+Guy\" title=\"Special:AllPages\">Next page (Rainbow Suspenders Guy)</a>]\n",
      "https://rickandmorty.fandom.com//wiki/Special:AllPages?from=Rainbow+Suspenders+Guy\n"
     ]
    }
   ],
   "source": [
    "# next_page_link = domain_address + all_pages_subpage\n",
    "\n",
    "\n",
    "# list_of_pages = []\n",
    "\n",
    "# # collect all links\n",
    "# count = 0\n",
    "\n",
    "# re_next = re.compile(r'Next page')\n",
    "\n",
    "# while count < 5:\n",
    "#     response = requests.get(next_page_link)\n",
    "#     parsed = bs4.BeautifulSoup(response.text)\n",
    "\n",
    "#     div_with_list_of_links = parsed.find_all('div', {'class':'mw-allpages-body'})[0]\n",
    "\n",
    "#     for a_element in div_with_list_of_links.find_all('a', href=True):\n",
    "#         list_of_pages.append(a_element['href'])\n",
    "    \n",
    "#     next_page_div = parsed.find_all('div', {'class':'mw-allpages-nav'})[0]\n",
    "#     page_routes = next_page_div.find_all('a', href=True)\n",
    "#     for page_route in page_routes:\n",
    "#         if re.search(re_next, page_route.contents[0]):\n",
    "#             next_page_route = page_route['href']\n",
    "#         print(next_page_routes)\n",
    "#     next_page_link = None\n",
    "#     next_page_link =domain_address +  next_page_div.find_all('a', href=True)[-1]['href']\n",
    "#     print(next_page_link)\n",
    "\n",
    "#     count +=1\n",
    "    "
   ]
  },
  {
   "cell_type": "markdown",
   "metadata": {},
   "source": [
    "Scrapping the links of all subpages in a fandom"
   ]
  },
  {
   "cell_type": "code",
   "execution_count": 6,
   "metadata": {},
   "outputs": [
    {
     "name": "stdout",
     "output_type": "stream",
     "text": [
      "https://rickandmorty.fandom.com//wiki/Special:AllPages?from=Charred+Morty\n",
      "https://rickandmorty.fandom.com//wiki/Special:AllPages?from=Female+Jerry\n",
      "https://rickandmorty.fandom.com//wiki/Special:AllPages?from=Jerry+Smith+%28C-137%29\n",
      "https://rickandmorty.fandom.com//wiki/Special:AllPages?from=Mr.+Goldenfold+%28Wasp+Universe%29\n",
      "https://rickandmorty.fandom.com//wiki/Special:AllPages?from=Rainbow+Suspenders+Guy\n",
      "https://rickandmorty.fandom.com//wiki/Special:AllPages?from=Samantha\n",
      "https://rickandmorty.fandom.com//wiki/Special:AllPages?from=The+Non-Canonical+Adventures\n"
     ]
    }
   ],
   "source": [
    "# Backup cell\n",
    "\n",
    "next_page_link = domain_address + all_pages_subpage\n",
    "\n",
    "\n",
    "list_of_pages = []\n",
    "\n",
    "# collect all links\n",
    "count = 0\n",
    "\n",
    "re_next = re.compile(r'Next page')\n",
    "\n",
    "while count < 20:\n",
    "    response = requests.get(next_page_link)\n",
    "    parsed = bs4.BeautifulSoup(response.text)\n",
    "\n",
    "    div_with_list_of_links = parsed.find_all('div', {'class':'mw-allpages-body'})[0]\n",
    "\n",
    "    for a_element in div_with_list_of_links.find_all('a', href=True):\n",
    "        list_of_pages.append(domain_address + a_element['href'])\n",
    "    \n",
    "    next_page_div = parsed.find_all('div', {'class':'mw-allpages-nav'})[0]\n",
    "    page_routes = next_page_div.find_all('a', href=True)\n",
    "    next_page_route = None\n",
    "    for page_route in page_routes:\n",
    "        if re.search(re_next, page_route.contents[0]):\n",
    "            next_page_route = page_route['href']\n",
    "    if next_page_route is None:\n",
    "        break\n",
    "    next_page_link =domain_address +  next_page_route\n",
    "    print(next_page_link)\n",
    "\n",
    "    count +=1\n",
    "    "
   ]
  },
  {
   "cell_type": "code",
   "execution_count": 306,
   "metadata": {},
   "outputs": [
    {
     "data": {
      "text/plain": [
       "2705"
      ]
     },
     "execution_count": 306,
     "metadata": {},
     "output_type": "execute_result"
    }
   ],
   "source": [
    "len(list_of_pages)"
   ]
  },
  {
   "cell_type": "code",
   "execution_count": 7,
   "metadata": {},
   "outputs": [
    {
     "data": {
      "text/plain": [
       "'https://rickandmorty.fandom.com//wiki/2001:_A_Space_Odyssey'"
      ]
     },
     "execution_count": 7,
     "metadata": {},
     "output_type": "execute_result"
    }
   ],
   "source": [
    "list_of_pages[3]"
   ]
  },
  {
   "cell_type": "markdown",
   "metadata": {},
   "source": [
    "Scrapping text from all pages in the fandom"
   ]
  },
  {
   "cell_type": "code",
   "execution_count": 23,
   "metadata": {},
   "outputs": [],
   "source": [
    "fandom.set_wiki('rickandmorty')\n",
    "fp = fandom.page(title='2001:_A_Space_Odyssey')"
   ]
  },
  {
   "cell_type": "code",
   "execution_count": 24,
   "metadata": {},
   "outputs": [
    {
     "data": {
      "text/plain": [
       "\"2001: A Space Odyssey\\n2001: A Space Odyssey is a claymation short from Rick and Morty's The Non-Canonical Adventures.\\nOverview\\nThis short is a parody of the 1968 film, 2001: A Space Odyssey.\\nPlot\\nMorty is seen in a Space Shuttle wearing a Space suit. He asks Rick to open the door. Rick says that he can't do that. Morty asks what is the problem but Rick replies that this conversation can serve no purpose and tells Morty Goodbye in multiple languages.\\nCharacters\\nMorty Smith\\nRick Sanchez (voice)\""
      ]
     },
     "execution_count": 24,
     "metadata": {},
     "output_type": "execute_result"
    }
   ],
   "source": [
    "fp.plain_text"
   ]
  },
  {
   "cell_type": "code",
   "execution_count": 41,
   "metadata": {},
   "outputs": [],
   "source": [
    "def get_text_from_page(link:str)-> str:\n",
    "    response = requests.get(link)\n",
    "    parsed = bs4.BeautifulSoup(response.text)\n",
    "\n",
    "    title = link.split('/')[-1]\n",
    "    page = fandom.page(title=title)\n",
    "    \n",
    "    content = page.plain_text\n",
    "    \n",
    "    return content\n",
    "    "
   ]
  },
  {
   "cell_type": "code",
   "execution_count": 219,
   "metadata": {},
   "outputs": [
    {
     "data": {
      "text/plain": [
       "'Zombodians\\nZombodians are an alien species that appears in the Rick and Morty universe. They appear throughout the show. One such member of this race is Gar Gloonch\\nAppearance\\nZombodians are shorter in height that the average human, ranging around three feet tall. They have a mix of light blue and seafoam green skin with two eyes with eyestalks that bend down to the face. Their blood color is orange.\\nSection heading\\nWrite the second section of your page here.'"
      ]
     },
     "execution_count": 219,
     "metadata": {},
     "output_type": "execute_result"
    }
   ],
   "source": [
    "get_text_from_page(list_of_pages[-2])"
   ]
  },
  {
   "cell_type": "code",
   "execution_count": 43,
   "metadata": {},
   "outputs": [
    {
     "name": "stdout",
     "output_type": "stream",
     "text": [
      "cannot find: https://rickandmorty.fandom.com//wiki/%22Lawyer%22_Morty\n",
      "cannot find: https://rickandmorty.fandom.com//wiki/1%25_Visible\n",
      "https://rickandmorty.fandom.com//wiki/A_Matter_of_Rick_or_Death article is empty\n",
      "https://rickandmorty.fandom.com//wiki/A_Rick_and_His_Morty article is empty\n",
      "https://rickandmorty.fandom.com//wiki/A_Rick_and_His_Morty_(Quest) article is empty\n"
     ]
    }
   ],
   "source": [
    "articles = []\n",
    "for page_link in list_of_pages[:10]:\n",
    "    try:\n",
    "        try:\n",
    "            content = get_text_from_page(page_link)\n",
    "            articles.append((page_link, content))\n",
    "        except ValueError as ve:\n",
    "            print(f'{page_link} article is empty')\n",
    "    except fandom.error.PageError as pe:\n",
    "        print(f'cannot find: {page_link}')\n"
   ]
  },
  {
   "cell_type": "code",
   "execution_count": 28,
   "metadata": {},
   "outputs": [
    {
     "data": {
      "text/plain": [
       "['https://rickandmorty.fandom.com//wiki/%22Lawyer%22_Morty',\n",
       " 'https://rickandmorty.fandom.com//wiki/1%25_Visible',\n",
       " 'https://rickandmorty.fandom.com//wiki/1950s_Guy',\n",
       " 'https://rickandmorty.fandom.com//wiki/2001:_A_Space_Odyssey',\n",
       " 'https://rickandmorty.fandom.com//wiki/4th_Dimensional_Time_Cop_Headquarters',\n",
       " 'https://rickandmorty.fandom.com//wiki/A_Bit_of_Pasta',\n",
       " 'https://rickandmorty.fandom.com//wiki/A_Clockwork_Orange',\n",
       " 'https://rickandmorty.fandom.com//wiki/A_Matter_of_Rick_or_Death',\n",
       " 'https://rickandmorty.fandom.com//wiki/A_Rick_and_His_Morty',\n",
       " 'https://rickandmorty.fandom.com//wiki/A_Rick_and_His_Morty_(Quest)']"
      ]
     },
     "execution_count": 28,
     "metadata": {},
     "output_type": "execute_result"
    }
   ],
   "source": [
    "list_of_pages[:10]"
   ]
  },
  {
   "cell_type": "code",
   "execution_count": 33,
   "metadata": {},
   "outputs": [
    {
     "data": {
      "text/plain": [
       "[('https://rickandmorty.fandom.com//wiki/1950s_Guy',\n",
       "  '1950s Guy\\n1950s Guy is a minor character from The Real Animated Adventures of Doc and Mharti\\nAppearance\\n1950s Guy wears a white t-shirt with the year \"1955\" written on it, with a black vest worn over it. He wears blue jeans and a black belt.\\nHe is seen carrying a bag of tree seeds.\\nHistory\\n1950s guy was a character who appeared in The Real Animated Adventures of Doc and Mharti. In one of the shorts, Mharti McDonhalds is flying a kite, but it unfortunately gets stuck in a tree.\\nDoc and Mharti travel back in time to the 1950s to prevent the tree from ever being planted. When the 1950s Guy arrives to plant the seed of the tree, Mharti licks Doc\\'s balls. Once 1950s Guy sees this, he starts screaming in pain and eventually fades from the timeline, and is unable to plant the tree seed.\\nLater, Mharti starts fading from the timeline in the present day, revealing that 1950\\'s guy must be Mharti\\'s great-great-great-great-great grandfather.\\nv • e Rick and Morty Characters \\nMain characters\\nCurrent cast\\nRick Sanchez • Morty Smith • Summer Smith • Jerry Smith • Beth Smith • Space Beth\\nMinor characters\\nHumans\\nAbrodolph Lincoler • Agency Director • Alan Rails • Albert Einstein • Alexander • Angie Flint • Annie • Ants in my Eyes Johnson • Armothy • Baby Legs • Blazen • Bobby Moynihan • Brad • Bruce Chutback • Bullies • Chang • Colossus • Coop • Creepy Little Girl • Danny Publitz • David Letterman • Davin • Diane Sanchez • Doom-Nomitron • Dwayne • Dr. Wong • Eddie • Eli • Eli\\'s Girlfriend • Eric McMan • Ethan • Father Bob • Frank Palicky • Gene • Gene Vagina • General Nathan • Gordon Lunis • Grace Smith • Hemorrhage • Hephaestus • Holly Hooks • Hunter • Hunter\\'s Dad • Jacob Philip • Jacqueline • Jaguar • Jamey • Jan Michael Vincent • Jeff • Jessica • Jesus Christ • Jim • Jodie • Joseph Lipnip • Josiah • Joyce Smith • Judge • Kathy Ireland • Larry • Leonard Smith • Logic • Lord Henderfinger • Lucy • Maggie • Marta • Morty\\'s Girlfriend • Lucius Needful • Lucy • MC Haps • Mr. Goldenfold • Mr. Goldmanbachmajorian • Mr. Marklovitz • Mrs. Pancakes • Mrs. Spencer • Mrs. Sullivan • Nancy • Naruto • Nick • Paul Fleishman • Poncho • President Leland • Priest Witherspoon • Professor Shabooboo • Professor Tock • Real Fake Doors Salesman •Regular Legs • Richard • Roger • Roy • Ruben • Running Bird • Samantha • Stacy • Steve • Story Lord • Simon • Taddy Mason • Tammy • Terry • The President of the United States • The Wizard • Tickets Please Guy • Toby Matthews • Tom Randolph • Tommy Lipkip • Tommy\\'s Clone • Tricia Lange • Vance Maximus • Xander • Xing Ho\\nAliens / Monsters\\nAdam • Alien Googah • Alien Parasites • Alyson Hannigan • Amy • Armagheadon • Arthricia • Baby Poopybutthole • Beebo • Benjamin • Beta-Seven • Birdperson • Blamphs • Blim Blam • Bova • Chachi • Chris • Class-2 Clonerbeast • Coach Feratu • Concept of Time • Concerto • Cornvelious Daniel • Cromulons • Crowscare • Crystal Poachers • Cynthia • Dale • Dale\\'s Son • Daphne • Darth Poopybutthole • Diablo Verde • Diseases • Dr. Xenon Bloom • Eyehole Man • Fart • Fleeb • Franklin Roosevelt • Fungo • Gaia • Galactic Federation President • Gar Gloonch • Garmanarnar • Gazorpazorpfield • Geardude • Gearhead • General Store Owner • Glar • Glenn • Glexo Slim Slom • Glootie • Gobo • Goomby • Harold The Garbage Goober • Helium-Q • Hoovy • Hydrogen-F • Ice-T • Jagoff • Japheth • Jon • Keara • Kendra • Kevin • Kyle • King Flippy Nips • King Jellybean • Kirkland Meeseeks • Krombopulos Michael • Kyle • Lighthouse Keeper • Lil B • Little Dipper • Ma-Sha • Magnesium-J • Melissa • Miles Knightly • Mr. Always Wants To Be Hunted • Mr. Booby Buyer • Mr. Frundles • Mr. Jellybean • Mr. Meeseeks • Mr. Nimbus • Mr. Poopybutthole • Mrs. Poopybutthole • Noob-Noob • Pawnshop Clerk • Peacock Jones • Planetina • Presidentress of The Mega Gargantuans • Prince Nebulon • Purge Planet Ruler • Rebel Doctor • Reggie • Risotto Groupon • Rose • Scary Brandon • Scary Glenn • Scary Olderson • Scary Terry • Scroopy Noopers • Scropon • Shlaammi • Shleemypants • Shmooglite Runner • Shnoopy Bloopers • Slippery Stair • Slow Mobius • Shrimply Pibbles • Sperm Queen • Squanchy • Stealy • Sticky • Stu • Sulfur-P • Supernova • Testicle Monster • The President of the Miniverse • Tony • Tony\\'s Wife • Tophat Jones • Trandor • Tree People • Triple Trunks • Truckula • Trunk People • Unity • Ventriloquiver • Vermigurber • Voltematron • Worldender • Yaarb • Zarbadar Gloonch • Zeep Xanflorp • Zick Zack\\nHuman hybrids\\nBirdperson\\'s Daughter • Calypso • Centaur • Elon Tusk • Florflok • Morty Jr. • Octopus Man • Rick\\'s Foal • Squeeb • Ticktock\\nAnimals\\nBalthromaw • Bill • Chud King • Crocubot • Diesel Weasel • Giant Telepathic Spiders • Gibble Snake • Izzy • Lizard People • Million Ants • Poneta • Pussifer • Slippy • Snuffles • Squirrels • Talking Cat • Time Bird • Truth Tortoise • Tough Rat • Two Crows\\nRobots\\nPurpose Robot • Conroy • Delivery Drone • Donna Guterman • Gwendolyn • Heistotron • Lady Katana • Pat Guterman • Space Cruiser • The Garage\\nAlternate versions of the main characters\\nRicks\\nAdjudicator Rick • Afro Rick • Alien Rick • Antenna Rick • Aqua Rick • Bald Rick • Big Fat Rick • Bootleg Portal Chemist Rick • C-131 • C-132 • Cat Rick • Commander Rick • Cop Rick • Cowboy Rick • Cronenberg Rick • Curly-haired Rick • Cyclops Rick • D-99 • D716 • D716-B • D716-C • Dumb Rick • Evil Rick • Evil Rick\\'s Target Dimension • Fancy Rick • Fascist Rick • Female Doofus Rick • Garment District Rick • Giant butt-eating Rick • Goo Monster Target • Guard Rick • Hologram Rick • Hothead Rick • Insurance Rick • Investigator Rick • J-22 • J19α7 • J19ζ7 • Josuke Rick • Juggling Rick • K-22 • K-83 • Little Ricky Wrap-it-up • Lizard Rick • Maximums Rickimus • Mechanical Rick • Mega Fruit Farmer Rick • Memory Rick • Morty Rick • Plumber Rick • Private Sector Rick • Quantum Rick • Radar Rick • Regional Manager Rick • Retired General Rick • Reverse Rick Outrage • Ricardo Montoya • Rick D. Sanchez III • Rick Guilt Rick • Rick Prime • Rick Prime (Council of Ricks) • Ricktiminus Sancheziminius • Riq IV • Robot Rick • S-223 • Salesman Rick • Simple Rick • Shrimp Rick • Slow Jamz Rick • Slow Rick • Solicitor Rick • Supreme Guard Ricks • Barber Rick • Teacher Rick • Teddy Rick • The Scientist Formerly Known as Rick • Toxic Rick • Wasp Rick • Woman Rick • Yellow Shirt Rick • Yo-Yo Rick • Zeta Alpha Rick\\nMortys\\n304-X • 9-2184C • Alien Morty • Antenna Morty • Aqua Morty • Artist Morty • Bald Morty • Bartender Morty • Big Head Morty • Big Morty • Blue Shirt Morty • C-131 • C-132 • Campaign Manager Morty • Cat Morty • Construction Dancer Morty • Cop Morty • Cowboy Dancer Morty • Cowboy Morty • Cronenberg Morty • Crop Top Morty • Cult Leader Morty • Cyclops Morty • Dipper Morty • Eric Stoltz Mask Morty • Evil Morty • Evil Rick\\'s Target Dimension • Fascism-fighting Morty • Fascist Morty • Flower Morty • Freckled Morty • Genius Morty • Giant butt-eating Morty • Glasses Morty • Goo Monster Target • Hammerhead Morty • K-22 • Lawyer Morty • Left-Handed Morty • Lizard Morty • Long Sleeved Morty • Mabel Morty • Mechanical Morty • Morty Mart Manager Morty • Mortytown Locos • Purple Morty • Robot Morty • Rodent Morty • Simulation Morty • Shrimp Morty • Slick Morty • Tortured Mortys • Toxic Morty • Toy Morty • Trunk Morty • Waiter Morty • Wasp Morty\\nSummers\\n304-X • C-1239 • C-132 • Summer (Cronenberged dimension) • Evil Rick\\'s Target Dimension • Evil Summer Clone • Mechanical Summer • Night Summer • S-223 • Wasp Summer\\nJerrys\\n304-X • Abandoned Jerrys • C-132 • Jerry (Cronenberged dimension) • C-500A • D-324 • Evil Jerry Clone • Evil Rick\\'s Target Dimension • Female Jerry • Ideal Jerry • J19α7 • Mytholog • President Jerry • Self-Congratulatory Jerry • Wasp Jerry\\nBeths\\n304-X • Beauty Mark Beth • C-1239 • C-132 • Beth (Cronenberged dimension) • C-137 • C-500A • Cat Beth • Cowgirl Beth • Evil Beth Clone • Evil Rick\\'s Target Dimension • Goddess Beth • Mytholog • Wasp Beth'),\n",
       " ('https://rickandmorty.fandom.com//wiki/2001:_A_Space_Odyssey',\n",
       "  \"2001: A Space Odyssey\\n2001: A Space Odyssey is a claymation short from Rick and Morty's The Non-Canonical Adventures.\\nOverview\\nThis short is a parody of the 1968 film, 2001: A Space Odyssey.\\nPlot\\nMorty is seen in a Space Shuttle wearing a Space suit. He asks Rick to open the door. Rick says that he can't do that. Morty asks what is the problem but Rick replies that this conversation can serve no purpose and tells Morty Goodbye in multiple languages.\\nCharacters\\nMorty Smith\\nRick Sanchez (voice)\"),\n",
       " ('https://rickandmorty.fandom.com//wiki/4th_Dimensional_Time_Cop_Headquarters',\n",
       "  '4th Dimensional Time Cop Headquarters\\n4th Dimensional Time Cop Headquarters is, as its name suggests, a fourth-dimensional base of operations for the Time Cops. It first appeared in the Season 4 episode \"Rattlestar Ricklactica\".\\nEmployees\\nShleemypants\\nTrivia\\nThere are free-floating cats around the headquarters, which also appeared in the Season 2 opener \"A Rickle in Time\" around the Smith Residence. This was the first time we saw a Time Cop in the series, namely Shleemypants.\\nThe term \"Time Cop\" might be a reference to the film Timecop from 1994 where agents worked for the Time Enforcement Commission to prevent illicit use of time travel.\\nSite Navigation\\nv • e Locations in Rick and Morty\\nPlaces on Earth\\nBlurtFeed • Camp Flabanabba • Curse Purge Plus! • Fancy Eats • Garage • Haas & Milan • Harry Herpson High School • Israel • Mega Gargantuan Republic • Morty\\'s Room • Needful Things • Shoney\\'s • Smith Residence • St. Equis Hospital • Summer\\'s Room • Titanic 2 • Wholesome Delight • Yard\\nPlaces on other worlds\\nBlips and Chitz • Birding manapalooza flargabarg • Butthole Ice Cream • Citadel of Ricks • Clackspire Labyrinth • Cogspot • Egan Cinema • Furp Rock Plaza • Galactic Federation Outpost • Galactic Federation Prison • Galactic Sauce Vault • Giant Court • Holographic Simulation • Immortality Field Resort • Interdimensional Customs • Jerryboree • Lil\\' Bits • Morty Day Care • Morty Mart • Mortytown • Nuptia 4 • Plim Plom Tavern • Shady Garage • Simple Rick’s Wafer Cookie factory • St. Gloopy Noops Hospital • The Creepy Morty • The Menagerie • The Wishing Portal • Thirsty Step • Time Prison • Tuskla • Waste Disposal Plant\\nPlanets\\nAlphabetrium • Arboles Mentirosos • Biggum • Big Pluto • Bird World • Delphi 6 • Dorian 5 • Dwarf Terrace-9 • Earth (Moon) • Flarbellon-7 • Flump • Forbodulon Prime • Fran Dreslicar • Furp Rock • Gaia • Gazorpazorp • Gear World • Glapflap • Glorfingr 7 • Gramuflack • Granitor 7 • Gromflom Prime • Hideout Planet • Krootabulon • Krumpf • M-9999 • On a Cob Planet • Parblesnops • Pawn Shop Planet • Planet MWA739 • Planet Squanch • Pluto • Purge Planet • Resort planet • Screaming Sun Earth • Shongi the Living Planet • Snake Planet • Snorlab • Spikky Remis • Terraneous system • Timbus • Titan • Trumpdorian planet • Tryonicon-5 • Unity\\'s Planet • Venzenulon 7 • Venzenulon 9 • Windshield Washing Planet • Yarple-7 • Zipple • Zorpantheon 9\\nDimensions\\n35-C • 304-X • 9-2184C • C-131 • C-132 • C-137 • C-500A • C-1239 • C-4499 • J19α7 • J19ζ7 • Blender Dimension • Blumbus Dimension • Buttworld • Corn Universe • Cromulon Dimension • Cronenberg World • Cronenberged dimension • Dog Dimension • Doopidoo Dimension • Fantasy World • Fascist dimension • Fascist Dystopian Universe • Fourth Dimension • Froopyland • Furniture Universe • Greasy Grandma World • Hamster in Butt World • Hell • Merged Universe • Narnia Dimension • Parmesan dimension • Pantless Universe • Phone Universe • Pizza Universe • Post-Apocalyptic Dimension • Reverse Height Universe • Shrimp Universe • Teddy Universe • Toilet Dimension • Tusk Dimension • Wasp Universe\\nFourth-dimensional places\\n4th Dimensional Time Cop Headquarters\\nMicroverses\\nAnatomy Park • Microverse • Miniverse • Teenyverse\\nPortions of the Multiverse\\nCentral Finite Curve • Fascist Dimensions'),\n",
       " ('https://rickandmorty.fandom.com//wiki/A_Bit_of_Pasta',\n",
       "  'A Bit of Pasta\\n\"A Bit of Pasta\" is a song in the episode Gotron Jerrysis Rickvangelion.\\nLyrics\\nHey hey!\\nMama Mia\\'s gotta plate\\nOf spaghetti for the takin\\'\\nPapa Pia\\'s gotta great big\\nRobot that he\\'s makin\\nI got the mood\\nAnd both of my eyes\\nYou gotta bowl of pizza pie\\nHey\\nA bit of pasta with some\\nAnime combined, yeah\\nPlay that thang\\nTake it away boys\\nA bit of pasta with some\\nAnime combined\\n\\'Cause they\\'re two genres but\\nEach one is intertwined, yeah\\nHey hey\\nPapa Pia\\'s got a pan of\\nLasagna in the oven\\nMama Mia\\'s gotta monster\\nThat needs a little shovin\\'\\nTwo dozen androids\\nForm into one and\\nWe have only just begun\\nHey\\nA bit of pasta with some\\nAnimе combined, yeah\\nAnime combinеd\\nAnime combined\\nAnime combined\\nAnime combined\\nA bit of pasta with some\\nAnime combined\\nReferences\\n↑ Rick and Morty Official Soundtrack - A Bit of Pasta feat. Darren Criss & Ryan Elder - Rick and Morty. Retrieved on September 19, 2021.\\n↑ A Bit of Pasta (feat. Darren Criss & Ryan Elder) (From Rick and Morty: Season 5). Retrieved on September 19, 2021.\\nFeat. Darren Criss, Additional Vocals by Ryan Elder\\nExternal links\\nChoose music service to stream or download\\nSite navigation\\nv • e Music of Rick and Morty\\nRick and Morty Theme Song\\nSeason 1\\nOriginal music\\nChristmas Drums • Flu Hatin\\' Rap • Handy Hands • Human Music • It\\'s a Small, Small Intestine • Run From Your Youth • The Gear War Song • The Rick Dance\\nReal world songs\\nFor the Damaged Coda • Last King Christmas • Look On Down From The Bridge • Shake That Ass Bitch • Sweet Home Alabama • Tutti Frutti • X Gon\\' Give it to Ya\\nSeason 2\\nOriginal music\\nAlien Jazz Rap • Get Schwifty • Goodbye Moonmen • Head Bent Over • I\\'m a Tax Attorney • Let Me Out • Love Connection Experience • Luppoo Luppoo Luppa Lups • Summer & Tinkles Song • Tiny Rick Song\\nReal world songs\\nDo You Feel It? • Feels Good • Hurt\\nSeason 3\\nOriginal music\\nTerryfold • Fathers and Daughters (Doo-Doo in My Butt)\\nReal world songs\\nIn the City • For the Damaged Coda\\nSeason 4\\nOriginal music\\nLosing a Friend • Snake Jazz • Glory to Glorzo • Camping • Don\\'t Look Back\\nReal world songs\\nSeason 5\\nOriginal music\\nFlowers • Turnin\\' Turkey • A Bit of Pasta • Boob World • The Battle of Blood Ridge\\nReal world songs\\nMiscellaneous\\nPocket Mortys\\nList of Pocket Mortys music'),\n",
       " ('https://rickandmorty.fandom.com//wiki/A_Clockwork_Orange',\n",
       "  \"A Clockwork Orange\\nA Clockwork Orange is a claymation short from Rick and Morty's The Non-Canonical Adventures series.\\nOverview\\nThis short is a parody of the 1971 film, A Clockwork Orange.\\nPlot\\nEpisode starts with a shot at Rick's face. He is drinking as the camera zooms out. He is surrounded by friends - Birdperson, Mr. Meeseeks and Mr. Poopybutthole. They are drinking surrounded by furniture and Statues that look like Morty.\\nCharacters\\nRick Sanchez\\nBirdperson\\nMr. Meeseeks\\nMr. Poopybutthole\\nMorty Smith\\nTrvia\\nRick is parody of Alex DeLarge.\\nAdult Swim sign is seen behid the gang.\")]"
      ]
     },
     "execution_count": 33,
     "metadata": {},
     "output_type": "execute_result"
    }
   ],
   "source": [
    "articles"
   ]
  },
  {
   "cell_type": "markdown",
   "metadata": {},
   "source": [
    "- remove site navigation \n",
    "- remove non alphanumeric characters"
   ]
  },
  {
   "cell_type": "code",
   "execution_count": 288,
   "metadata": {},
   "outputs": [],
   "source": [
    "df_articles = pd.DataFrame(articles, columns=['link', 'content'])\n"
   ]
  },
  {
   "cell_type": "code",
   "execution_count": 225,
   "metadata": {},
   "outputs": [],
   "source": [
    "# df_articles.content = df_articles.content.str.lower()\n",
    "# df_articles.content = df_articles.content.replace('\\\\n', value='', regex=True)\n",
    "\n",
    "# df_articles.content = df_articles.content.replace('[^\\w\\s]', value=' ', regex=True)\n",
    "# df_articles.content = df_articles.content.replace(to_replace='site navigation.*', value='', regex=True)"
   ]
  },
  {
   "cell_type": "code",
   "execution_count": 284,
   "metadata": {},
   "outputs": [
    {
     "data": {
      "text/plain": [
       "'1950s Guy\\n1950s Guy is a minor character from The Real Animated Adventures of Doc and Mharti\\nAppearance\\n1950s Guy wears a white t-shirt with the year \"1955\" written on it, with a black vest worn over it. He wears blue jeans and a black belt.\\nHe is seen carrying a bag of tree seeds.\\nHistory\\n1950s guy was a character who appeared in The Real Animated Adventures of Doc and Mharti. In one of the shorts, Mharti McDonhalds is flying a kite, but it unfortunately gets stuck in a tree.\\nDoc and Mharti travel back in time to the 1950s to prevent the tree from ever being planted. When the 1950s Guy arrives to plant the seed of the tree, Mharti licks Doc\\'s balls. Once 1950s Guy sees this, he starts screaming in pain and eventually fades from the timeline, and is unable to plant the tree seed.\\nLater, Mharti starts fading from the timeline in the present day, revealing that 1950\\'s guy must be Mharti\\'s great-great-great-great-great grandfather.\\nv • e Rick and Morty Characters \\nMain characters\\nCurrent cast\\nRick Sanchez • Morty Smith • Summer Smith • Jerry Smith • Beth Smith • Space Beth\\nMinor characters\\nHumans\\nAbrodolph Lincoler • Agency Director • Alan Rails • Albert Einstein • Alexander • Angie Flint • Annie • Ants in my Eyes Johnson • Armothy • Baby Legs • Blazen • Bobby Moynihan • Brad • Bruce Chutback • Bullies • Chang • Colossus • Coop • Creepy Little Girl • Danny Publitz • David Letterman • Davin • Diane Sanchez • Doom-Nomitron • Dwayne • Dr. Wong • Eddie • Eli • Eli\\'s Girlfriend • Eric McMan • Ethan • Father Bob • Frank Palicky • Gene • Gene Vagina • General Nathan • Gordon Lunis • Grace Smith • Hemorrhage • Hephaestus • Holly Hooks • Hunter • Hunter\\'s Dad • Jacob Philip • Jacqueline • Jaguar • Jamey • Jan Michael Vincent • Jeff • Jessica • Jesus Christ • Jim • Jodie • Joseph Lipnip • Josiah • Joyce Smith • Judge • Kathy Ireland • Larry • Leonard Smith • Logic • Lord Henderfinger • Lucy • Maggie • Marta • Morty\\'s Girlfriend • Lucius Needful • Lucy • MC Haps • Mr. Goldenfold • Mr. Goldmanbachmajorian • Mr. Marklovitz • Mrs. Pancakes • Mrs. Spencer • Mrs. Sullivan • Nancy • Naruto • Nick • Paul Fleishman • Poncho • President Leland • Priest Witherspoon • Professor Shabooboo • Professor Tock • Real Fake Doors Salesman •Regular Legs • Richard • Roger • Roy • Ruben • Running Bird • Samantha • Stacy • Steve • Story Lord • Simon • Taddy Mason • Tammy • Terry • The President of the United States • The Wizard • Tickets Please Guy • Toby Matthews • Tom Randolph • Tommy Lipkip • Tommy\\'s Clone • Tricia Lange • Vance Maximus • Xander • Xing Ho\\nAliens / Monsters\\nAdam • Alien Googah • Alien Parasites • Alyson Hannigan • Amy • Armagheadon • Arthricia • Baby Poopybutthole • Beebo • Benjamin • Beta-Seven • Birdperson • Blamphs • Blim Blam • Bova • Chachi • Chris • Class-2 Clonerbeast • Coach Feratu • Concept of Time • Concerto • Cornvelious Daniel • Cromulons • Crowscare • Crystal Poachers • Cynthia • Dale • Dale\\'s Son • Daphne • Darth Poopybutthole • Diablo Verde • Diseases • Dr. Xenon Bloom • Eyehole Man • Fart • Fleeb • Franklin Roosevelt • Fungo • Gaia • Galactic Federation President • Gar Gloonch • Garmanarnar • Gazorpazorpfield • Geardude • Gearhead • General Store Owner • Glar • Glenn • Glexo Slim Slom • Glootie • Gobo • Goomby • Harold The Garbage Goober • Helium-Q • Hoovy • Hydrogen-F • Ice-T • Jagoff • Japheth • Jon • Keara • Kendra • Kevin • Kyle • King Flippy Nips • King Jellybean • Kirkland Meeseeks • Krombopulos Michael • Kyle • Lighthouse Keeper • Lil B • Little Dipper • Ma-Sha • Magnesium-J • Melissa • Miles Knightly • Mr. Always Wants To Be Hunted • Mr. Booby Buyer • Mr. Frundles • Mr. Jellybean • Mr. Meeseeks • Mr. Nimbus • Mr. Poopybutthole • Mrs. Poopybutthole • Noob-Noob • Pawnshop Clerk • Peacock Jones • Planetina • Presidentress of The Mega Gargantuans • Prince Nebulon • Purge Planet Ruler • Rebel Doctor • Reggie • Risotto Groupon • Rose • Scary Brandon • Scary Glenn • Scary Olderson • Scary Terry • Scroopy Noopers • Scropon • Shlaammi • Shleemypants • Shmooglite Runner • Shnoopy Bloopers • Slippery Stair • Slow Mobius • Shrimply Pibbles • Sperm Queen • Squanchy • Stealy • Sticky • Stu • Sulfur-P • Supernova • Testicle Monster • The President of the Miniverse • Tony • Tony\\'s Wife • Tophat Jones • Trandor • Tree People • Triple Trunks • Truckula • Trunk People • Unity • Ventriloquiver • Vermigurber • Voltematron • Worldender • Yaarb • Zarbadar Gloonch • Zeep Xanflorp • Zick Zack\\nHuman hybrids\\nBirdperson\\'s Daughter • Calypso • Centaur • Elon Tusk • Florflok • Morty Jr. • Octopus Man • Rick\\'s Foal • Squeeb • Ticktock\\nAnimals\\nBalthromaw • Bill • Chud King • Crocubot • Diesel Weasel • Giant Telepathic Spiders • Gibble Snake • Izzy • Lizard People • Million Ants • Poneta • Pussifer • Slippy • Snuffles • Squirrels • Talking Cat • Time Bird • Truth Tortoise • Tough Rat • Two Crows\\nRobots\\nPurpose Robot • Conroy • Delivery Drone • Donna Guterman • Gwendolyn • Heistotron • Lady Katana • Pat Guterman • Space Cruiser • The Garage\\nAlternate versions of the main characters\\nRicks\\nAdjudicator Rick • Afro Rick • Alien Rick • Antenna Rick • Aqua Rick • Bald Rick • Big Fat Rick • Bootleg Portal Chemist Rick • C-131 • C-132 • Cat Rick • Commander Rick • Cop Rick • Cowboy Rick • Cronenberg Rick • Curly-haired Rick • Cyclops Rick • D-99 • D716 • D716-B • D716-C • Dumb Rick • Evil Rick • Evil Rick\\'s Target Dimension • Fancy Rick • Fascist Rick • Female Doofus Rick • Garment District Rick • Giant butt-eating Rick • Goo Monster Target • Guard Rick • Hologram Rick • Hothead Rick • Insurance Rick • Investigator Rick • J-22 • J19α7 • J19ζ7 • Josuke Rick • Juggling Rick • K-22 • K-83 • Little Ricky Wrap-it-up • Lizard Rick • Maximums Rickimus • Mechanical Rick • Mega Fruit Farmer Rick • Memory Rick • Morty Rick • Plumber Rick • Private Sector Rick • Quantum Rick • Radar Rick • Regional Manager Rick • Retired General Rick • Reverse Rick Outrage • Ricardo Montoya • Rick D. Sanchez III • Rick Guilt Rick • Rick Prime • Rick Prime (Council of Ricks) • Ricktiminus Sancheziminius • Riq IV • Robot Rick • S-223 • Salesman Rick • Simple Rick • Shrimp Rick • Slow Jamz Rick • Slow Rick • Solicitor Rick • Supreme Guard Ricks • Barber Rick • Teacher Rick • Teddy Rick • The Scientist Formerly Known as Rick • Toxic Rick • Wasp Rick • Woman Rick • Yellow Shirt Rick • Yo-Yo Rick • Zeta Alpha Rick\\nMortys\\n304-X • 9-2184C • Alien Morty • Antenna Morty • Aqua Morty • Artist Morty • Bald Morty • Bartender Morty • Big Head Morty • Big Morty • Blue Shirt Morty • C-131 • C-132 • Campaign Manager Morty • Cat Morty • Construction Dancer Morty • Cop Morty • Cowboy Dancer Morty • Cowboy Morty • Cronenberg Morty • Crop Top Morty • Cult Leader Morty • Cyclops Morty • Dipper Morty • Eric Stoltz Mask Morty • Evil Morty • Evil Rick\\'s Target Dimension • Fascism-fighting Morty • Fascist Morty • Flower Morty • Freckled Morty • Genius Morty • Giant butt-eating Morty • Glasses Morty • Goo Monster Target • Hammerhead Morty • K-22 • Lawyer Morty • Left-Handed Morty • Lizard Morty • Long Sleeved Morty • Mabel Morty • Mechanical Morty • Morty Mart Manager Morty • Mortytown Locos • Purple Morty • Robot Morty • Rodent Morty • Simulation Morty • Shrimp Morty • Slick Morty • Tortured Mortys • Toxic Morty • Toy Morty • Trunk Morty • Waiter Morty • Wasp Morty\\nSummers\\n304-X • C-1239 • C-132 • Summer (Cronenberged dimension) • Evil Rick\\'s Target Dimension • Evil Summer Clone • Mechanical Summer • Night Summer • S-223 • Wasp Summer\\nJerrys\\n304-X • Abandoned Jerrys • C-132 • Jerry (Cronenberged dimension) • C-500A • D-324 • Evil Jerry Clone • Evil Rick\\'s Target Dimension • Female Jerry • Ideal Jerry • J19α7 • Mytholog • President Jerry • Self-Congratulatory Jerry • Wasp Jerry\\nBeths\\n304-X • Beauty Mark Beth • C-1239 • C-132 • Beth (Cronenberged dimension) • C-137 • C-500A • Cat Beth • Cowgirl Beth • Evil Beth Clone • Evil Rick\\'s Target Dimension • Goddess Beth • Mytholog • Wasp Beth'"
      ]
     },
     "execution_count": 284,
     "metadata": {},
     "output_type": "execute_result"
    }
   ],
   "source": [
    "# df_articles.content = df_articles.content[0]\n",
    "df_articles.content.iloc[0]"
   ]
  },
  {
   "cell_type": "markdown",
   "metadata": {},
   "source": [
    "Now, as dataframe is clean, we perform NLP processing"
   ]
  },
  {
   "cell_type": "code",
   "execution_count": 207,
   "metadata": {},
   "outputs": [],
   "source": [
    "from nltk.stem import WordNetLemmatizer\n",
    "from nltk.corpus import stopwords\n",
    "from nltk.tokenize import word_tokenize\n"
   ]
  },
  {
   "cell_type": "code",
   "execution_count": 214,
   "metadata": {},
   "outputs": [
    {
     "data": {
      "text/plain": [
       "<WordListCorpusReader in '/home/lukik46/nltk_data/corpora/stopwords'>"
      ]
     },
     "execution_count": 214,
     "metadata": {},
     "output_type": "execute_result"
    }
   ],
   "source": [
    "stopwords\n"
   ]
  },
  {
   "cell_type": "code",
   "execution_count": 289,
   "metadata": {},
   "outputs": [],
   "source": [
    "def preprocess(raw_text:str):\n",
    "    text = raw_text.lower()\n",
    "\n",
    "    text = re.sub('\\\\nv(.|\\n)*', ' ', text)\n",
    "    text = re.sub('\\\\n', ' ', text)\n",
    "    text = re.sub('[^\\w\\s]', ' ', text)\n",
    "    # text = re.sub('site navigation.*', '', text)\n",
    "    text = re.sub(' s ', '', text)\n",
    "\n",
    "    # tokenize\n",
    "    tokens = word_tokenize(text)\n",
    "\n",
    "    # lemmatize\n",
    "    lemmatizer = WordNetLemmatizer()\n",
    "    tokens = [lemmatizer.lemmatize(token) for token in tokens]\n",
    "\n",
    "    # drop stopwords\n",
    "    # english_stopwords = stopwords.words('english')\n",
    "    \n",
    "    return ' '.join(tokens)"
   ]
  },
  {
   "cell_type": "code",
   "execution_count": 290,
   "metadata": {},
   "outputs": [],
   "source": [
    "df_articles.content = df_articles.content.apply(preprocess)"
   ]
  },
  {
   "cell_type": "code",
   "execution_count": 291,
   "metadata": {},
   "outputs": [
    {
     "data": {
      "text/plain": [
       "'a bit of pasta a bit of pasta is a song in the episode gotron jerrysis rickvangelion lyric hey hey mama miagotta plate of spaghetti for the takin papa piagotta great big robot that hemakin i got the mood and both of my eye you got ta bowl of pizza pie hey a bit of pasta with some anime combined yeah play that thang take it away boy a bit of pasta with some anime combined cause they re two genre but each one is intertwined yeah hey hey papa piagot a pan of lasagna in the oven mama miagotta monster that need a little shovin two dozen android form into one and we have only just begun hey a bit of pasta with some animе combined yeah anime combinеd anime combined anime combined anime combined a bit of pasta with some anime combined reference rick and morty official soundtrack a bit of pasta feat darren criss ryan elder rick and morty retrieved on september 19 2021 a bit of pasta feat darren criss ryan elder from rick and morty season 5 retrieved on september 19 2021 feat darren criss additional vocal by ryan elder external link choose music service to stream or download site navigation'"
      ]
     },
     "execution_count": 291,
     "metadata": {},
     "output_type": "execute_result"
    }
   ],
   "source": [
    "df_articles.content.iloc[-2]"
   ]
  },
  {
   "cell_type": "markdown",
   "metadata": {},
   "source": [
    "Now the dataframe is ready to be processed by TfIdf"
   ]
  },
  {
   "cell_type": "code",
   "execution_count": 240,
   "metadata": {},
   "outputs": [],
   "source": [
    "from sklearn.feature_extraction.text import TfidfVectorizer"
   ]
  },
  {
   "cell_type": "code",
   "execution_count": 293,
   "metadata": {},
   "outputs": [],
   "source": [
    "vectorizer = TfidfVectorizer(stop_words='english', ngram_range=(1,2))\n",
    "\n",
    "X = vectorizer.fit_transform(df_articles.content)\n"
   ]
  },
  {
   "cell_type": "code",
   "execution_count": 294,
   "metadata": {},
   "outputs": [
    {
     "data": {
      "text/plain": [
       "(5, 551)"
      ]
     },
     "execution_count": 294,
     "metadata": {},
     "output_type": "execute_result"
    }
   ],
   "source": [
    "X.toarray().shape"
   ]
  },
  {
   "cell_type": "code",
   "execution_count": 295,
   "metadata": {},
   "outputs": [],
   "source": [
    "df = pd.DataFrame(X.toarray(),\n",
    "    columns = vectorizer.get_feature_names_out())"
   ]
  },
  {
   "cell_type": "code",
   "execution_count": 296,
   "metadata": {},
   "outputs": [
    {
     "data": {
      "text/html": [
       "<div>\n",
       "<style scoped>\n",
       "    .dataframe tbody tr th:only-of-type {\n",
       "        vertical-align: middle;\n",
       "    }\n",
       "\n",
       "    .dataframe tbody tr th {\n",
       "        vertical-align: top;\n",
       "    }\n",
       "\n",
       "    .dataframe thead th {\n",
       "        text-align: right;\n",
       "    }\n",
       "</style>\n",
       "<table border=\"1\" class=\"dataframe\">\n",
       "  <thead>\n",
       "    <tr style=\"text-align: right;\">\n",
       "      <th></th>\n",
       "      <th>19</th>\n",
       "      <th>19 2021</th>\n",
       "      <th>1950guy</th>\n",
       "      <th>1950guy mhartigreat</th>\n",
       "      <th>1950s</th>\n",
       "      <th>1950s guy</th>\n",
       "      <th>1950s prevent</th>\n",
       "      <th>1955</th>\n",
       "      <th>1955 written</th>\n",
       "      <th>1968</th>\n",
       "      <th>...</th>\n",
       "      <th>written</th>\n",
       "      <th>written black</th>\n",
       "      <th>yeah</th>\n",
       "      <th>yeah anime</th>\n",
       "      <th>yeah hey</th>\n",
       "      <th>yeah play</th>\n",
       "      <th>year</th>\n",
       "      <th>year 1955</th>\n",
       "      <th>zoom</th>\n",
       "      <th>zoom surrounded</th>\n",
       "    </tr>\n",
       "  </thead>\n",
       "  <tbody>\n",
       "    <tr>\n",
       "      <th>0</th>\n",
       "      <td>0.000000</td>\n",
       "      <td>0.000000</td>\n",
       "      <td>0.050588</td>\n",
       "      <td>0.050588</td>\n",
       "      <td>0.354115</td>\n",
       "      <td>0.303527</td>\n",
       "      <td>0.050588</td>\n",
       "      <td>0.050588</td>\n",
       "      <td>0.050588</td>\n",
       "      <td>0.000000</td>\n",
       "      <td>...</td>\n",
       "      <td>0.050588</td>\n",
       "      <td>0.050588</td>\n",
       "      <td>0.000000</td>\n",
       "      <td>0.000000</td>\n",
       "      <td>0.000000</td>\n",
       "      <td>0.000000</td>\n",
       "      <td>0.050588</td>\n",
       "      <td>0.050588</td>\n",
       "      <td>0.000000</td>\n",
       "      <td>0.000000</td>\n",
       "    </tr>\n",
       "    <tr>\n",
       "      <th>1</th>\n",
       "      <td>0.000000</td>\n",
       "      <td>0.000000</td>\n",
       "      <td>0.000000</td>\n",
       "      <td>0.000000</td>\n",
       "      <td>0.000000</td>\n",
       "      <td>0.000000</td>\n",
       "      <td>0.000000</td>\n",
       "      <td>0.000000</td>\n",
       "      <td>0.000000</td>\n",
       "      <td>0.080808</td>\n",
       "      <td>...</td>\n",
       "      <td>0.000000</td>\n",
       "      <td>0.000000</td>\n",
       "      <td>0.000000</td>\n",
       "      <td>0.000000</td>\n",
       "      <td>0.000000</td>\n",
       "      <td>0.000000</td>\n",
       "      <td>0.000000</td>\n",
       "      <td>0.000000</td>\n",
       "      <td>0.000000</td>\n",
       "      <td>0.000000</td>\n",
       "    </tr>\n",
       "    <tr>\n",
       "      <th>2</th>\n",
       "      <td>0.000000</td>\n",
       "      <td>0.000000</td>\n",
       "      <td>0.000000</td>\n",
       "      <td>0.000000</td>\n",
       "      <td>0.000000</td>\n",
       "      <td>0.000000</td>\n",
       "      <td>0.000000</td>\n",
       "      <td>0.000000</td>\n",
       "      <td>0.000000</td>\n",
       "      <td>0.000000</td>\n",
       "      <td>...</td>\n",
       "      <td>0.000000</td>\n",
       "      <td>0.000000</td>\n",
       "      <td>0.000000</td>\n",
       "      <td>0.000000</td>\n",
       "      <td>0.000000</td>\n",
       "      <td>0.000000</td>\n",
       "      <td>0.000000</td>\n",
       "      <td>0.000000</td>\n",
       "      <td>0.000000</td>\n",
       "      <td>0.000000</td>\n",
       "    </tr>\n",
       "    <tr>\n",
       "      <th>3</th>\n",
       "      <td>0.076672</td>\n",
       "      <td>0.076672</td>\n",
       "      <td>0.000000</td>\n",
       "      <td>0.000000</td>\n",
       "      <td>0.000000</td>\n",
       "      <td>0.000000</td>\n",
       "      <td>0.000000</td>\n",
       "      <td>0.000000</td>\n",
       "      <td>0.000000</td>\n",
       "      <td>0.000000</td>\n",
       "      <td>...</td>\n",
       "      <td>0.000000</td>\n",
       "      <td>0.000000</td>\n",
       "      <td>0.115009</td>\n",
       "      <td>0.038336</td>\n",
       "      <td>0.038336</td>\n",
       "      <td>0.038336</td>\n",
       "      <td>0.000000</td>\n",
       "      <td>0.000000</td>\n",
       "      <td>0.000000</td>\n",
       "      <td>0.000000</td>\n",
       "    </tr>\n",
       "    <tr>\n",
       "      <th>4</th>\n",
       "      <td>0.000000</td>\n",
       "      <td>0.000000</td>\n",
       "      <td>0.000000</td>\n",
       "      <td>0.000000</td>\n",
       "      <td>0.000000</td>\n",
       "      <td>0.000000</td>\n",
       "      <td>0.000000</td>\n",
       "      <td>0.000000</td>\n",
       "      <td>0.000000</td>\n",
       "      <td>0.000000</td>\n",
       "      <td>...</td>\n",
       "      <td>0.000000</td>\n",
       "      <td>0.000000</td>\n",
       "      <td>0.000000</td>\n",
       "      <td>0.000000</td>\n",
       "      <td>0.000000</td>\n",
       "      <td>0.000000</td>\n",
       "      <td>0.000000</td>\n",
       "      <td>0.000000</td>\n",
       "      <td>0.078498</td>\n",
       "      <td>0.078498</td>\n",
       "    </tr>\n",
       "  </tbody>\n",
       "</table>\n",
       "<p>5 rows × 551 columns</p>\n",
       "</div>"
      ],
      "text/plain": [
       "         19   19 2021   1950guy  1950guy mhartigreat     1950s  1950s guy  \\\n",
       "0  0.000000  0.000000  0.050588             0.050588  0.354115   0.303527   \n",
       "1  0.000000  0.000000  0.000000             0.000000  0.000000   0.000000   \n",
       "2  0.000000  0.000000  0.000000             0.000000  0.000000   0.000000   \n",
       "3  0.076672  0.076672  0.000000             0.000000  0.000000   0.000000   \n",
       "4  0.000000  0.000000  0.000000             0.000000  0.000000   0.000000   \n",
       "\n",
       "   1950s prevent      1955  1955 written      1968  ...   written  \\\n",
       "0       0.050588  0.050588      0.050588  0.000000  ...  0.050588   \n",
       "1       0.000000  0.000000      0.000000  0.080808  ...  0.000000   \n",
       "2       0.000000  0.000000      0.000000  0.000000  ...  0.000000   \n",
       "3       0.000000  0.000000      0.000000  0.000000  ...  0.000000   \n",
       "4       0.000000  0.000000      0.000000  0.000000  ...  0.000000   \n",
       "\n",
       "   written black      yeah  yeah anime  yeah hey  yeah play      year  \\\n",
       "0       0.050588  0.000000    0.000000  0.000000   0.000000  0.050588   \n",
       "1       0.000000  0.000000    0.000000  0.000000   0.000000  0.000000   \n",
       "2       0.000000  0.000000    0.000000  0.000000   0.000000  0.000000   \n",
       "3       0.000000  0.115009    0.038336  0.038336   0.038336  0.000000   \n",
       "4       0.000000  0.000000    0.000000  0.000000   0.000000  0.000000   \n",
       "\n",
       "   year 1955      zoom  zoom surrounded  \n",
       "0   0.050588  0.000000         0.000000  \n",
       "1   0.000000  0.000000         0.000000  \n",
       "2   0.000000  0.000000         0.000000  \n",
       "3   0.000000  0.000000         0.000000  \n",
       "4   0.000000  0.078498         0.078498  \n",
       "\n",
       "[5 rows x 551 columns]"
      ]
     },
     "execution_count": 296,
     "metadata": {},
     "output_type": "execute_result"
    }
   ],
   "source": [
    "df.head()"
   ]
  },
  {
   "cell_type": "markdown",
   "metadata": {},
   "source": [
    "We can sort the idf vectors by frequency\n"
   ]
  },
  {
   "cell_type": "code",
   "execution_count": 297,
   "metadata": {},
   "outputs": [
    {
     "data": {
      "text/html": [
       "<div>\n",
       "<style scoped>\n",
       "    .dataframe tbody tr th:only-of-type {\n",
       "        vertical-align: middle;\n",
       "    }\n",
       "\n",
       "    .dataframe tbody tr th {\n",
       "        vertical-align: top;\n",
       "    }\n",
       "\n",
       "    .dataframe thead th {\n",
       "        text-align: right;\n",
       "    }\n",
       "</style>\n",
       "<table border=\"1\" class=\"dataframe\">\n",
       "  <thead>\n",
       "    <tr style=\"text-align: right;\">\n",
       "      <th></th>\n",
       "      <th>idf_weights</th>\n",
       "    </tr>\n",
       "  </thead>\n",
       "  <tbody>\n",
       "    <tr>\n",
       "      <th>seen</th>\n",
       "      <td>1.405465</td>\n",
       "    </tr>\n",
       "    <tr>\n",
       "      <th>character</th>\n",
       "      <td>1.405465</td>\n",
       "    </tr>\n",
       "    <tr>\n",
       "      <th>smith</th>\n",
       "      <td>1.405465</td>\n",
       "    </tr>\n",
       "    <tr>\n",
       "      <th>adventure</th>\n",
       "      <td>1.405465</td>\n",
       "    </tr>\n",
       "    <tr>\n",
       "      <th>short</th>\n",
       "      <td>1.405465</td>\n",
       "    </tr>\n",
       "    <tr>\n",
       "      <th>film</th>\n",
       "      <td>1.405465</td>\n",
       "    </tr>\n",
       "    <tr>\n",
       "      <th>rick</th>\n",
       "      <td>1.405465</td>\n",
       "    </tr>\n",
       "    <tr>\n",
       "      <th>episode</th>\n",
       "      <td>1.405465</td>\n",
       "    </tr>\n",
       "    <tr>\n",
       "      <th>morty</th>\n",
       "      <td>1.405465</td>\n",
       "    </tr>\n",
       "    <tr>\n",
       "      <th>parody</th>\n",
       "      <td>1.693147</td>\n",
       "    </tr>\n",
       "    <tr>\n",
       "      <th>time</th>\n",
       "      <td>1.693147</td>\n",
       "    </tr>\n",
       "    <tr>\n",
       "      <th>canonical</th>\n",
       "      <td>1.693147</td>\n",
       "    </tr>\n",
       "    <tr>\n",
       "      <th>canonical adventure</th>\n",
       "      <td>1.693147</td>\n",
       "    </tr>\n",
       "    <tr>\n",
       "      <th>mortythe non</th>\n",
       "      <td>1.693147</td>\n",
       "    </tr>\n",
       "    <tr>\n",
       "      <th>start</th>\n",
       "      <td>1.693147</td>\n",
       "    </tr>\n",
       "    <tr>\n",
       "      <th>claymation</th>\n",
       "      <td>1.693147</td>\n",
       "    </tr>\n",
       "    <tr>\n",
       "      <th>claymation short</th>\n",
       "      <td>1.693147</td>\n",
       "    </tr>\n",
       "    <tr>\n",
       "      <th>site navigation</th>\n",
       "      <td>1.693147</td>\n",
       "    </tr>\n",
       "    <tr>\n",
       "      <th>navigation</th>\n",
       "      <td>1.693147</td>\n",
       "    </tr>\n",
       "    <tr>\n",
       "      <th>site</th>\n",
       "      <td>1.693147</td>\n",
       "    </tr>\n",
       "  </tbody>\n",
       "</table>\n",
       "</div>"
      ],
      "text/plain": [
       "                     idf_weights\n",
       "seen                    1.405465\n",
       "character               1.405465\n",
       "smith                   1.405465\n",
       "adventure               1.405465\n",
       "short                   1.405465\n",
       "film                    1.405465\n",
       "rick                    1.405465\n",
       "episode                 1.405465\n",
       "morty                   1.405465\n",
       "parody                  1.693147\n",
       "time                    1.693147\n",
       "canonical               1.693147\n",
       "canonical adventure     1.693147\n",
       "mortythe non            1.693147\n",
       "start                   1.693147\n",
       "claymation              1.693147\n",
       "claymation short        1.693147\n",
       "site navigation         1.693147\n",
       "navigation              1.693147\n",
       "site                    1.693147"
      ]
     },
     "execution_count": 297,
     "metadata": {},
     "output_type": "execute_result"
    }
   ],
   "source": [
    "idf_df = pd.DataFrame(\n",
    "    vectorizer.idf_,\n",
    "    index=vectorizer.get_feature_names_out(),\n",
    "    columns=['idf_weights']\n",
    ")\n",
    "\n",
    "idf_df.sort_values(by=['idf_weights']).head(20)\n"
   ]
  },
  {
   "cell_type": "code",
   "execution_count": 301,
   "metadata": {},
   "outputs": [],
   "source": [
    "# compute cosine similarities  of each cluster]\n",
    "from sklearn.metrics.pairwise import cosine_similarity\n",
    "\n",
    "query = 'birdperson'\n",
    "\n",
    "query_clean = preprocess(query)\n",
    "\n",
    "query_vector = vectorizer.transform([query_clean])"
   ]
  },
  {
   "cell_type": "code",
   "execution_count": 302,
   "metadata": {},
   "outputs": [
    {
     "data": {
      "text/plain": [
       "(1, 551)"
      ]
     },
     "execution_count": 302,
     "metadata": {},
     "output_type": "execute_result"
    }
   ],
   "source": [
    "query_vector.toarray().shape"
   ]
  },
  {
   "cell_type": "code",
   "execution_count": 303,
   "metadata": {},
   "outputs": [
    {
     "data": {
      "text/plain": [
       "array([[0.        , 0.        , 0.        , 0.        , 0.15699589]])"
      ]
     },
     "execution_count": 303,
     "metadata": {},
     "output_type": "execute_result"
    }
   ],
   "source": [
    "cosine_similarity(query_vector, X)"
   ]
  },
  {
   "cell_type": "code",
   "execution_count": 305,
   "metadata": {},
   "outputs": [
    {
     "data": {
      "text/plain": [
       "'a clockwork orange a clockwork orange is a claymation short from rick and mortythe non canonical adventure series overview this short is a parody of the 1971 film a clockwork orange plot episode start with a shot at rickface he is drinking a the camera zoom out he is surrounded by friend birdperson mr meeseeks and mr poopybutthole they are drinking surrounded by furniture and statue that look like morty character rick sanchez birdperson mr meeseeks mr poopybutthole morty smith trvia rick is parody of alex delarge adult swim sign is seen behid the gang'"
      ]
     },
     "execution_count": 305,
     "metadata": {},
     "output_type": "execute_result"
    }
   ],
   "source": [
    "df_articles.iloc[-1,-1]"
   ]
  },
  {
   "cell_type": "markdown",
   "metadata": {},
   "source": [
    "Dimensionality reduction"
   ]
  },
  {
   "cell_type": "code",
   "execution_count": null,
   "metadata": {},
   "outputs": [],
   "source": []
  }
 ],
 "metadata": {
  "kernelspec": {
   "display_name": "Python 3.10.6 ('ir-1')",
   "language": "python",
   "name": "python3"
  },
  "language_info": {
   "codemirror_mode": {
    "name": "ipython",
    "version": 3
   },
   "file_extension": ".py",
   "mimetype": "text/x-python",
   "name": "python",
   "nbconvert_exporter": "python",
   "pygments_lexer": "ipython3",
   "version": "3.10.6"
  },
  "orig_nbformat": 4,
  "vscode": {
   "interpreter": {
    "hash": "243ee4934acc533e3f4f2172c14a9748c592e0f7da7fb5f44f964b5417915cb3"
   }
  }
 },
 "nbformat": 4,
 "nbformat_minor": 2
}
