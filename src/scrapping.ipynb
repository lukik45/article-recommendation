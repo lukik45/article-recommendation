{
 "cells": [
  {
   "cell_type": "markdown",
   "metadata": {},
   "source": [
    "TODO\n",
    "- [ ] wordcloud\n",
    "- [ ] graphs, charts, statistics\n"
   ]
  },
  {
   "cell_type": "code",
   "execution_count": 1,
   "metadata": {},
   "outputs": [],
   "source": [
    "import bs4\n",
    "import requests\n",
    "import pandas as pd\n",
    "import re\n",
    "import fandom\n",
    "import random\n",
    "import time\n",
    "import pickle"
   ]
  },
  {
   "cell_type": "code",
   "execution_count": 2,
   "metadata": {},
   "outputs": [],
   "source": [
    "# \n",
    "\n",
    "LOAD = False\n",
    "SAVE = True"
   ]
  },
  {
   "cell_type": "code",
   "execution_count": 3,
   "metadata": {},
   "outputs": [],
   "source": [
    "domain_address = 'https://rickandmorty.fandom.com/'\n",
    "all_pages_subpage = '/wiki/Special:AllPages'"
   ]
  },
  {
   "cell_type": "code",
   "execution_count": 4,
   "metadata": {},
   "outputs": [],
   "source": [
    "# next_page_link = domain_address + all_pages_subpage\n",
    "\n",
    "\n",
    "# list_of_pages = []\n",
    "\n",
    "# # collect all links\n",
    "# count = 0\n",
    "\n",
    "# re_next = re.compile(r'Next page')\n",
    "\n",
    "# while count < 5:\n",
    "#     response = requests.get(next_page_link)\n",
    "#     parsed = bs4.BeautifulSoup(response.text)\n",
    "\n",
    "#     div_with_list_of_links = parsed.find_all('div', {'class':'mw-allpages-body'})[0]\n",
    "\n",
    "#     for a_element in div_with_list_of_links.find_all('a', href=True):\n",
    "#         list_of_pages.append(a_element['href'])\n",
    "    \n",
    "#     next_page_div = parsed.find_all('div', {'class':'mw-allpages-nav'})[0]\n",
    "#     page_routes = next_page_div.find_all('a', href=True)\n",
    "#     for page_route in page_routes:\n",
    "#         if re.search(re_next, page_route.contents[0]):\n",
    "#             next_page_route = page_route['href']\n",
    "#         print(next_page_routes)\n",
    "#     next_page_link = None\n",
    "#     next_page_link =domain_address +  next_page_div.find_all('a', href=True)[-1]['href']\n",
    "#     print(next_page_link)\n",
    "\n",
    "#     count +=1\n",
    "    "
   ]
  },
  {
   "cell_type": "markdown",
   "metadata": {},
   "source": [
    "Scrapping the links of all subpages in a fandom"
   ]
  },
  {
   "cell_type": "code",
   "execution_count": 5,
   "metadata": {},
   "outputs": [
    {
     "name": "stdout",
     "output_type": "stream",
     "text": [
      "https://rickandmorty.fandom.com//wiki/Special:AllPages?from=Charred+Morty\n",
      "https://rickandmorty.fandom.com//wiki/Special:AllPages?from=Female+Jerry\n",
      "https://rickandmorty.fandom.com//wiki/Special:AllPages?from=Jerry+Smith+%28C-137%29\n",
      "https://rickandmorty.fandom.com//wiki/Special:AllPages?from=Mr.+Goldenfold+%28Wasp+Universe%29\n",
      "https://rickandmorty.fandom.com//wiki/Special:AllPages?from=Rainbow+Suspenders+Guy\n",
      "https://rickandmorty.fandom.com//wiki/Special:AllPages?from=Samantha\n",
      "https://rickandmorty.fandom.com//wiki/Special:AllPages?from=The+Non-Canonical+Adventures\n"
     ]
    }
   ],
   "source": [
    "if not LOAD:\n",
    "\n",
    "    next_page_link = domain_address + all_pages_subpage\n",
    "    list_of_pages = []\n",
    "\n",
    "    # collect all links\n",
    "    count = 0\n",
    "\n",
    "    re_next = re.compile(r'Next page')\n",
    "\n",
    "    while count < 50:\n",
    "        time.sleep(random.randrange(3, 7)*0.1)\n",
    "        response = requests.get(next_page_link)\n",
    "        parsed = bs4.BeautifulSoup(response.text)\n",
    "\n",
    "        div_with_list_of_links = parsed.find_all('div', {'class':'mw-allpages-body'})[0]\n",
    "\n",
    "        for a_element in div_with_list_of_links.find_all('a', href=True):\n",
    "            list_of_pages.append(domain_address + a_element['href'])\n",
    "        \n",
    "        next_page_div = parsed.find_all('div', {'class':'mw-allpages-nav'})[0]\n",
    "        page_routes = next_page_div.find_all('a', href=True)\n",
    "        next_page_route = None\n",
    "        for page_route in page_routes:\n",
    "            if re.search(re_next, page_route.contents[0]):\n",
    "                next_page_route = page_route['href']\n",
    "        if next_page_route is None:\n",
    "            break\n",
    "        next_page_link =domain_address +  next_page_route\n",
    "        print(next_page_link)\n",
    "\n",
    "        count +=1\n",
    "        "
   ]
  },
  {
   "cell_type": "code",
   "execution_count": 6,
   "metadata": {},
   "outputs": [],
   "source": [
    "if SAVE:\n",
    "\n",
    "    with open('./data/list-of-pages.txt', 'w') as outfile:\n",
    "        for page in list_of_pages:\n",
    "            outfile.write(f'{page}\\n')\n",
    "\n",
    "\n",
    "\n"
   ]
  },
  {
   "cell_type": "markdown",
   "metadata": {},
   "source": [
    "Scrapping text from all pages in the fandom"
   ]
  },
  {
   "cell_type": "code",
   "execution_count": 7,
   "metadata": {},
   "outputs": [],
   "source": [
    "# Używam jakiegoś scrappere którego ktoś napisał dla fandom, ale jest trochę wolny\n",
    "\n",
    "fandom.set_wiki('rickandmorty')\n",
    "fp = fandom.page(title='2001:_A_Space_Odyssey')"
   ]
  },
  {
   "cell_type": "code",
   "execution_count": 8,
   "metadata": {},
   "outputs": [
    {
     "data": {
      "text/plain": [
       "\"2001: A Space Odyssey\\n2001: A Space Odyssey is a claymation short from Rick and Morty's The Non-Canonical Adventures.\\nOverview\\nThis short is a parody of the 1968 film, 2001: A Space Odyssey.\\nPlot\\nMorty is seen in a Space Shuttle wearing a Space suit. He asks Rick to open the door. Rick says that he can't do that. Morty asks what is the problem but Rick replies that this conversation can serve no purpose and tells Morty Goodbye in multiple languages.\\nCharacters\\nMorty Smith\\nRick Sanchez (voice)\""
      ]
     },
     "execution_count": 8,
     "metadata": {},
     "output_type": "execute_result"
    }
   ],
   "source": [
    "fp.plain_text"
   ]
  },
  {
   "cell_type": "code",
   "execution_count": 9,
   "metadata": {},
   "outputs": [],
   "source": [
    "def get_text_from_page(link:str)-> str:\n",
    "    response = requests.get(link)\n",
    "    parsed = bs4.BeautifulSoup(response.text)\n",
    "\n",
    "    title = link.split('/')[-1]\n",
    "    page = fandom.page(title=title)\n",
    "    \n",
    "    content = page.plain_text\n",
    "    \n",
    "    return content\n",
    "    "
   ]
  },
  {
   "cell_type": "code",
   "execution_count": 10,
   "metadata": {},
   "outputs": [
    {
     "data": {
      "text/plain": [
       "'Zombodians\\nZombodians are an alien species that appears in the Rick and Morty universe. They appear throughout the show. One such member of this race is Gar Gloonch\\nAppearance\\nZombodians are shorter in height that the average human, ranging around three feet tall. They have a mix of light blue and seafoam green skin with two eyes with eyestalks that bend down to the face. Their blood color is orange.\\nSection heading\\nWrite the second section of your page here.'"
      ]
     },
     "execution_count": 10,
     "metadata": {},
     "output_type": "execute_result"
    }
   ],
   "source": [
    "get_text_from_page(list_of_pages[-2])"
   ]
  },
  {
   "cell_type": "code",
   "execution_count": 11,
   "metadata": {},
   "outputs": [],
   "source": [
    "from tqdm import tqdm"
   ]
  },
  {
   "cell_type": "code",
   "execution_count": 12,
   "metadata": {},
   "outputs": [
    {
     "name": "stderr",
     "output_type": "stream",
     "text": [
      "  0%|          | 1/2705 [00:01<1:01:32,  1.37s/it]"
     ]
    },
    {
     "name": "stdout",
     "output_type": "stream",
     "text": [
      "cannot find: https://rickandmorty.fandom.com//wiki/%22Lawyer%22_Morty\n"
     ]
    },
    {
     "name": "stderr",
     "output_type": "stream",
     "text": [
      "  0%|          | 2/2705 [00:02<1:07:31,  1.50s/it]"
     ]
    },
    {
     "name": "stdout",
     "output_type": "stream",
     "text": [
      "cannot find: https://rickandmorty.fandom.com//wiki/1%25_Visible\n"
     ]
    },
    {
     "name": "stderr",
     "output_type": "stream",
     "text": [
      "  0%|          | 8/2705 [00:16<1:40:15,  2.23s/it]"
     ]
    },
    {
     "name": "stdout",
     "output_type": "stream",
     "text": [
      "https://rickandmorty.fandom.com//wiki/A_Matter_of_Rick_or_Death article is empty\n"
     ]
    },
    {
     "name": "stderr",
     "output_type": "stream",
     "text": [
      "  0%|          | 9/2705 [00:18<1:41:52,  2.27s/it]"
     ]
    },
    {
     "name": "stdout",
     "output_type": "stream",
     "text": [
      "https://rickandmorty.fandom.com//wiki/A_Rick_and_His_Morty article is empty\n"
     ]
    },
    {
     "name": "stderr",
     "output_type": "stream",
     "text": [
      "  0%|          | 10/2705 [00:21<1:39:30,  2.22s/it]"
     ]
    },
    {
     "name": "stdout",
     "output_type": "stream",
     "text": [
      "https://rickandmorty.fandom.com//wiki/A_Rick_and_His_Morty_(Quest) article is empty\n"
     ]
    },
    {
     "name": "stderr",
     "output_type": "stream",
     "text": [
      "  0%|          | 11/2705 [00:22<1:28:52,  1.98s/it]"
     ]
    },
    {
     "name": "stdout",
     "output_type": "stream",
     "text": [
      "cannot find: https://rickandmorty.fandom.com//wiki/A_Rick_in_King_Mortur%27s_Mort\n"
     ]
    },
    {
     "name": "stderr",
     "output_type": "stream",
     "text": [
      "  0%|          | 13/2705 [00:25<1:19:43,  1.78s/it]"
     ]
    },
    {
     "name": "stdout",
     "output_type": "stream",
     "text": [
      "cannot find: https://rickandmorty.fandom.com//wiki/A_Rickconvenient_Mort_/Transcript\n"
     ]
    },
    {
     "name": "stderr",
     "output_type": "stream",
     "text": [
      "  1%|          | 15/2705 [00:29<1:17:38,  1.73s/it]"
     ]
    },
    {
     "name": "stdout",
     "output_type": "stream",
     "text": [
      "cannot find: https://rickandmorty.fandom.com//wiki/A_Rickle_in_Time/Gallery\n"
     ]
    },
    {
     "name": "stderr",
     "output_type": "stream",
     "text": [
      "  1%|          | 16/2705 [00:30<1:16:16,  1.70s/it]"
     ]
    },
    {
     "name": "stdout",
     "output_type": "stream",
     "text": [
      "cannot find: https://rickandmorty.fandom.com//wiki/A_Rickle_in_Time/Transcript\n"
     ]
    },
    {
     "name": "stderr",
     "output_type": "stream",
     "text": [
      "  1%|          | 17/2705 [00:32<1:12:57,  1.63s/it]"
     ]
    },
    {
     "name": "stdout",
     "output_type": "stream",
     "text": [
      "cannot find: https://rickandmorty.fandom.com//wiki/A_Trip_to_%E2%80%98Spongebob_Universe_Show%E2%80%99\n"
     ]
    },
    {
     "name": "stderr",
     "output_type": "stream",
     "text": [
      "  2%|▏         | 51/2705 [01:47<1:27:10,  1.97s/it]"
     ]
    },
    {
     "name": "stdout",
     "output_type": "stream",
     "text": [
      "cannot find: https://rickandmorty.fandom.com//wiki/Alien:_Covenant_Rick_and_Morty/Transcript\n"
     ]
    },
    {
     "name": "stderr",
     "output_type": "stream",
     "text": [
      "  3%|▎         | 71/2705 [02:33<1:32:29,  2.11s/it]"
     ]
    },
    {
     "name": "stdout",
     "output_type": "stream",
     "text": [
      "cannot find: https://rickandmorty.fandom.com//wiki/Anatomy_Park/Gallery\n"
     ]
    },
    {
     "name": "stderr",
     "output_type": "stream",
     "text": [
      "  3%|▎         | 77/2705 [02:45<1:24:04,  1.92s/it]"
     ]
    },
    {
     "name": "stdout",
     "output_type": "stream",
     "text": [
      "cannot find: https://rickandmorty.fandom.com//wiki/Anatomy_Park_(episode)/Gallery\n"
     ]
    },
    {
     "name": "stderr",
     "output_type": "stream",
     "text": [
      "  3%|▎         | 78/2705 [02:47<1:22:02,  1.87s/it]"
     ]
    },
    {
     "name": "stdout",
     "output_type": "stream",
     "text": [
      "cannot find: https://rickandmorty.fandom.com//wiki/Anatomy_Park_(episode)/Transcript\n"
     ]
    },
    {
     "name": "stderr",
     "output_type": "stream",
     "text": [
      "  4%|▍         | 117/2705 [04:13<1:39:01,  2.30s/it]"
     ]
    },
    {
     "name": "stdout",
     "output_type": "stream",
     "text": [
      "https://rickandmorty.fandom.com//wiki/Attack_Mega_Seed article is empty\n"
     ]
    },
    {
     "name": "stderr",
     "output_type": "stream",
     "text": [
      "  4%|▍         | 118/2705 [04:15<1:36:19,  2.23s/it]"
     ]
    },
    {
     "name": "stdout",
     "output_type": "stream",
     "text": [
      "https://rickandmorty.fandom.com//wiki/Attack_Mega_Seed_(Pocket_Mortys) article is empty\n"
     ]
    },
    {
     "name": "stderr",
     "output_type": "stream",
     "text": [
      "  4%|▍         | 121/2705 [04:21<1:27:28,  2.03s/it]"
     ]
    },
    {
     "name": "stdout",
     "output_type": "stream",
     "text": [
      "cannot find: https://rickandmorty.fandom.com//wiki/Auto_Erotic_Assimilation/Gallery\n"
     ]
    },
    {
     "name": "stderr",
     "output_type": "stream",
     "text": [
      "  5%|▍         | 122/2705 [04:22<1:21:27,  1.89s/it]"
     ]
    },
    {
     "name": "stdout",
     "output_type": "stream",
     "text": [
      "cannot find: https://rickandmorty.fandom.com//wiki/Auto_Erotic_Assimilation/Transcript\n"
     ]
    },
    {
     "name": "stderr",
     "output_type": "stream",
     "text": [
      "  5%|▍         | 128/2705 [04:36<1:35:06,  2.21s/it]"
     ]
    },
    {
     "name": "stdout",
     "output_type": "stream",
     "text": [
      "https://rickandmorty.fandom.com//wiki/Bacteria_Cell article is empty\n"
     ]
    },
    {
     "name": "stderr",
     "output_type": "stream",
     "text": [
      "  5%|▍         | 129/2705 [04:38<1:31:42,  2.14s/it]"
     ]
    },
    {
     "name": "stdout",
     "output_type": "stream",
     "text": [
      "https://rickandmorty.fandom.com//wiki/Bacteria_Cell_(Pocket_Mortys) article is empty\n"
     ]
    },
    {
     "name": "stderr",
     "output_type": "stream",
     "text": [
      "  5%|▌         | 144/2705 [05:12<1:37:56,  2.29s/it]"
     ]
    },
    {
     "name": "stdout",
     "output_type": "stream",
     "text": [
      "https://rickandmorty.fandom.com//wiki/Battery article is empty\n"
     ]
    },
    {
     "name": "stderr",
     "output_type": "stream",
     "text": [
      "  5%|▌         | 145/2705 [05:14<1:36:35,  2.26s/it]"
     ]
    },
    {
     "name": "stdout",
     "output_type": "stream",
     "text": [
      "https://rickandmorty.fandom.com//wiki/Battery_(Pocket_Mortys) article is empty\n"
     ]
    },
    {
     "name": "stderr",
     "output_type": "stream",
     "text": [
      "  6%|▌         | 152/2705 [05:31<1:36:10,  2.26s/it]"
     ]
    },
    {
     "name": "stdout",
     "output_type": "stream",
     "text": [
      "https://rickandmorty.fandom.com//wiki/Behind_Every_Lover,_There_is_a_Rick article is empty\n"
     ]
    },
    {
     "name": "stderr",
     "output_type": "stream",
     "text": [
      "  6%|▌         | 153/2705 [05:33<1:32:46,  2.18s/it]"
     ]
    },
    {
     "name": "stdout",
     "output_type": "stream",
     "text": [
      "https://rickandmorty.fandom.com//wiki/Behind_Every_Lover,_There_is_a_Rick_(Quest) article is empty\n"
     ]
    },
    {
     "name": "stderr",
     "output_type": "stream",
     "text": [
      "  6%|▌         | 161/2705 [05:49<1:20:22,  1.90s/it]"
     ]
    },
    {
     "name": "stdout",
     "output_type": "stream",
     "text": [
      "cannot find: https://rickandmorty.fandom.com//wiki/Beth%27s_Mytholog\n"
     ]
    },
    {
     "name": "stderr",
     "output_type": "stream",
     "text": [
      "  6%|▌         | 162/2705 [05:50<1:17:15,  1.82s/it]"
     ]
    },
    {
     "name": "stdout",
     "output_type": "stream",
     "text": [
      "cannot find: https://rickandmorty.fandom.com//wiki/Beth%27s_Pet_Morty\n"
     ]
    },
    {
     "name": "stderr",
     "output_type": "stream",
     "text": [
      "  6%|▌         | 167/2705 [06:00<1:19:25,  1.88s/it]"
     ]
    },
    {
     "name": "stdout",
     "output_type": "stream",
     "text": [
      "cannot find: https://rickandmorty.fandom.com//wiki/Beth_Sanchez_(Simple_Rick%27s_Dimension)\n"
     ]
    },
    {
     "name": "stderr",
     "output_type": "stream",
     "text": [
      "  6%|▋         | 175/2705 [06:18<1:22:16,  1.95s/it]"
     ]
    },
    {
     "name": "stdout",
     "output_type": "stream",
     "text": [
      "cannot find: https://rickandmorty.fandom.com//wiki/Beth_Smith_(Evil_Rick%27s_Target_Dimension)\n"
     ]
    },
    {
     "name": "stderr",
     "output_type": "stream",
     "text": [
      "  7%|▋         | 176/2705 [06:19<1:12:05,  1.71s/it]"
     ]
    },
    {
     "name": "stdout",
     "output_type": "stream",
     "text": [
      "cannot find: https://rickandmorty.fandom.com//wiki/Beth_Smith_(Jerry%27s_original_dimension)\n"
     ]
    },
    {
     "name": "stderr",
     "output_type": "stream",
     "text": [
      "  7%|▋         | 180/2705 [06:27<1:18:28,  1.86s/it]"
     ]
    },
    {
     "name": "stdout",
     "output_type": "stream",
     "text": [
      "cannot find: https://rickandmorty.fandom.com//wiki/Beth_and_Jerry%27s_Room\n"
     ]
    },
    {
     "name": "stderr",
     "output_type": "stream",
     "text": [
      "  7%|▋         | 190/2705 [06:48<1:23:02,  1.98s/it]"
     ]
    },
    {
     "name": "stdout",
     "output_type": "stream",
     "text": [
      "cannot find: https://rickandmorty.fandom.com//wiki/Big_Morty%27s_Body_Guard_Mortys\n"
     ]
    },
    {
     "name": "stderr",
     "output_type": "stream",
     "text": [
      "  7%|▋         | 191/2705 [06:49<1:14:50,  1.79s/it]"
     ]
    },
    {
     "name": "stdout",
     "output_type": "stream",
     "text": [
      "cannot find: https://rickandmorty.fandom.com//wiki/Big_Morty%27s_Bodyguard_Mortys\n"
     ]
    },
    {
     "name": "stderr",
     "output_type": "stream",
     "text": [
      "  7%|▋         | 195/2705 [06:57<1:19:58,  1.91s/it]"
     ]
    },
    {
     "name": "stdout",
     "output_type": "stream",
     "text": [
      "cannot find: https://rickandmorty.fandom.com//wiki/Big_Trouble_In_Little_Sanchez/Gallery\n"
     ]
    },
    {
     "name": "stderr",
     "output_type": "stream",
     "text": [
      "  7%|▋         | 196/2705 [06:58<1:13:51,  1.77s/it]"
     ]
    },
    {
     "name": "stdout",
     "output_type": "stream",
     "text": [
      "cannot find: https://rickandmorty.fandom.com//wiki/Big_Trouble_In_Little_Sanchez/Transcript\n"
     ]
    },
    {
     "name": "stderr",
     "output_type": "stream",
     "text": [
      "  7%|▋         | 198/2705 [07:02<1:08:13,  1.63s/it]"
     ]
    },
    {
     "name": "stdout",
     "output_type": "stream",
     "text": [
      "cannot find: https://rickandmorty.fandom.com//wiki/Big_Trouble_in_Little_Sanchez/Gallery\n"
     ]
    },
    {
     "name": "stderr",
     "output_type": "stream",
     "text": [
      "  7%|▋         | 199/2705 [07:03<1:06:31,  1.59s/it]"
     ]
    },
    {
     "name": "stdout",
     "output_type": "stream",
     "text": [
      "cannot find: https://rickandmorty.fandom.com//wiki/Big_Trouble_in_Little_Sanchez/Transcript\n"
     ]
    },
    {
     "name": "stderr",
     "output_type": "stream",
     "text": [
      "  8%|▊         | 213/2705 [07:32<1:18:37,  1.89s/it]"
     ]
    },
    {
     "name": "stdout",
     "output_type": "stream",
     "text": [
      "cannot find: https://rickandmorty.fandom.com//wiki/Birdperson%27s_Daughter\n"
     ]
    },
    {
     "name": "stderr",
     "output_type": "stream",
     "text": [
      "  9%|▉         | 240/2705 [08:30<1:19:11,  1.93s/it]"
     ]
    },
    {
     "name": "stdout",
     "output_type": "stream",
     "text": [
      "cannot find: https://rickandmorty.fandom.com//wiki/Blog:_I_made_a_Fanon\n"
     ]
    },
    {
     "name": "stderr",
     "output_type": "stream",
     "text": [
      "  9%|▉         | 255/2705 [09:02<1:18:57,  1.93s/it]"
     ]
    },
    {
     "name": "stdout",
     "output_type": "stream",
     "text": [
      "cannot find: https://rickandmorty.fandom.com//wiki/Bl%C3%BCd\n"
     ]
    },
    {
     "name": "stderr",
     "output_type": "stream",
     "text": [
      " 11%|█         | 298/2705 [10:34<1:25:13,  2.12s/it]"
     ]
    },
    {
     "name": "stdout",
     "output_type": "stream",
     "text": [
      "https://rickandmorty.fandom.com//wiki/Butter_Me_Up_Rick article is empty\n"
     ]
    },
    {
     "name": "stderr",
     "output_type": "stream",
     "text": [
      " 11%|█         | 299/2705 [10:36<1:25:12,  2.13s/it]"
     ]
    },
    {
     "name": "stdout",
     "output_type": "stream",
     "text": [
      "https://rickandmorty.fandom.com//wiki/Butter_Robot article is empty\n"
     ]
    },
    {
     "name": "stderr",
     "output_type": "stream",
     "text": [
      " 12%|█▏        | 312/2705 [11:05<1:36:47,  2.43s/it]"
     ]
    },
    {
     "name": "stdout",
     "output_type": "stream",
     "text": [
      "https://rickandmorty.fandom.com//wiki/Cable article is empty\n"
     ]
    },
    {
     "name": "stderr",
     "output_type": "stream",
     "text": [
      " 12%|█▏        | 313/2705 [11:07<1:36:03,  2.41s/it]"
     ]
    },
    {
     "name": "stdout",
     "output_type": "stream",
     "text": [
      "https://rickandmorty.fandom.com//wiki/Cable_(Pocket_Mortys) article is empty\n"
     ]
    },
    {
     "name": "stderr",
     "output_type": "stream",
     "text": [
      " 12%|█▏        | 322/2705 [11:26<1:15:32,  1.90s/it]"
     ]
    },
    {
     "name": "stdout",
     "output_type": "stream",
     "text": [
      "cannot find: https://rickandmorty.fandom.com//wiki/Can_You_Feel_It%3F\n"
     ]
    },
    {
     "name": "stderr",
     "output_type": "stream",
     "text": [
      " 12%|█▏        | 324/2705 [11:29<1:10:45,  1.78s/it]"
     ]
    },
    {
     "name": "stdout",
     "output_type": "stream",
     "text": [
      "cannot find: https://rickandmorty.fandom.com//wiki/Cap%27n_Morty\n"
     ]
    },
    {
     "name": "stderr",
     "output_type": "stream",
     "text": [
      " 12%|█▏        | 330/2705 [11:42<1:17:32,  1.96s/it]"
     ]
    },
    {
     "name": "stdout",
     "output_type": "stream",
     "text": [
      "cannot find: https://rickandmorty.fandom.com//wiki/Carl%E2%80%99s_Jr_and_Hardee%E2%80%99s\n"
     ]
    },
    {
     "name": "stderr",
     "output_type": "stream",
     "text": [
      " 12%|█▏        | 333/2705 [11:48<1:18:12,  1.98s/it]"
     ]
    },
    {
     "name": "stdout",
     "output_type": "stream",
     "text": [
      "cannot find: https://rickandmorty.fandom.com//wiki/Cast/Crew\n"
     ]
    },
    {
     "name": "stderr",
     "output_type": "stream",
     "text": [
      " 14%|█▍        | 373/2705 [13:16<1:24:03,  2.16s/it]"
     ]
    },
    {
     "name": "stdout",
     "output_type": "stream",
     "text": [
      "https://rickandmorty.fandom.com//wiki/Circuit_Board article is empty\n"
     ]
    },
    {
     "name": "stderr",
     "output_type": "stream",
     "text": [
      " 14%|█▍        | 374/2705 [13:18<1:22:03,  2.11s/it]"
     ]
    },
    {
     "name": "stdout",
     "output_type": "stream",
     "text": [
      "https://rickandmorty.fandom.com//wiki/Circuit_Board_(Pocket_Mortys) article is empty\n"
     ]
    },
    {
     "name": "stderr",
     "output_type": "stream",
     "text": [
      " 14%|█▍        | 375/2705 [13:19<1:12:28,  1.87s/it]"
     ]
    },
    {
     "name": "stdout",
     "output_type": "stream",
     "text": [
      "cannot find: https://rickandmorty.fandom.com//wiki/Citadel%27s_militia\n"
     ]
    },
    {
     "name": "stderr",
     "output_type": "stream",
     "text": [
      " 14%|█▍        | 381/2705 [13:32<1:15:03,  1.94s/it]"
     ]
    },
    {
     "name": "stdout",
     "output_type": "stream",
     "text": [
      "cannot find: https://rickandmorty.fandom.com//wiki/Claw_and_Hoarder:_Special_Ricktim%27s_Morty\n"
     ]
    },
    {
     "name": "stderr",
     "output_type": "stream",
     "text": [
      " 14%|█▍        | 382/2705 [13:34<1:15:36,  1.95s/it]"
     ]
    },
    {
     "name": "stdout",
     "output_type": "stream",
     "text": [
      "cannot find: https://rickandmorty.fandom.com//wiki/Claw_and_Hoarder:_Special_Ricktim%27s_Morty/Gallery\n"
     ]
    },
    {
     "name": "stderr",
     "output_type": "stream",
     "text": [
      " 14%|█▍        | 383/2705 [13:35<1:09:26,  1.79s/it]"
     ]
    },
    {
     "name": "stdout",
     "output_type": "stream",
     "text": [
      "cannot find: https://rickandmorty.fandom.com//wiki/Claw_and_Hoarder:_Special_Ricktim%27s_Morty/Transcript\n"
     ]
    },
    {
     "name": "stderr",
     "output_type": "stream",
     "text": [
      " 14%|█▍        | 388/2705 [13:45<1:14:10,  1.92s/it]"
     ]
    },
    {
     "name": "stdout",
     "output_type": "stream",
     "text": [
      "cannot find: https://rickandmorty.fandom.com//wiki/Close_Rick-Counters_of_the_Rick_Kind/Gallery\n"
     ]
    },
    {
     "name": "stderr",
     "output_type": "stream",
     "text": [
      " 14%|█▍        | 389/2705 [13:47<1:07:12,  1.74s/it]"
     ]
    },
    {
     "name": "stdout",
     "output_type": "stream",
     "text": [
      "cannot find: https://rickandmorty.fandom.com//wiki/Close_Rick-Counters_of_the_Rick_Kind/Transcript\n"
     ]
    },
    {
     "name": "stderr",
     "output_type": "stream",
     "text": [
      " 14%|█▍        | 392/2705 [13:52<1:09:56,  1.81s/it]"
     ]
    },
    {
     "name": "stdout",
     "output_type": "stream",
     "text": [
      "cannot find: https://rickandmorty.fandom.com//wiki/Close_Rick-counters_of_the_Rick_Kind/Gallery\n"
     ]
    },
    {
     "name": "stderr",
     "output_type": "stream",
     "text": [
      " 15%|█▍        | 393/2705 [13:54<1:05:33,  1.70s/it]"
     ]
    },
    {
     "name": "stdout",
     "output_type": "stream",
     "text": [
      "cannot find: https://rickandmorty.fandom.com//wiki/Close_Rick-counters_of_the_Rick_Kind/Transcript\n"
     ]
    },
    {
     "name": "stderr",
     "output_type": "stream",
     "text": [
      " 16%|█▌        | 430/2705 [15:15<1:25:01,  2.24s/it]"
     ]
    },
    {
     "name": "stdout",
     "output_type": "stream",
     "text": [
      "https://rickandmorty.fandom.com//wiki/Courier_Flap article is empty\n"
     ]
    },
    {
     "name": "stderr",
     "output_type": "stream",
     "text": [
      " 17%|█▋        | 468/2705 [16:36<1:21:32,  2.19s/it]"
     ]
    },
    {
     "name": "stdout",
     "output_type": "stream",
     "text": [
      "https://rickandmorty.fandom.com//wiki/Crystallized_Xanthenite article is empty\n"
     ]
    },
    {
     "name": "stderr",
     "output_type": "stream",
     "text": [
      " 18%|█▊        | 486/2705 [17:14<1:09:44,  1.89s/it]"
     ]
    },
    {
     "name": "stdout",
     "output_type": "stream",
     "text": [
      "cannot find: https://rickandmorty.fandom.com//wiki/Dale%27s_Son\n"
     ]
    },
    {
     "name": "stderr",
     "output_type": "stream",
     "text": [
      " 18%|█▊        | 496/2705 [17:36<1:20:31,  2.19s/it]"
     ]
    },
    {
     "name": "stdout",
     "output_type": "stream",
     "text": [
      "https://rickandmorty.fandom.com//wiki/Dark_Energy_Ball article is empty\n"
     ]
    },
    {
     "name": "stderr",
     "output_type": "stream",
     "text": [
      " 18%|█▊        | 497/2705 [17:38<1:19:30,  2.16s/it]"
     ]
    },
    {
     "name": "stdout",
     "output_type": "stream",
     "text": [
      "https://rickandmorty.fandom.com//wiki/Dark_Energy_Ball_(Pocket_Mortys) article is empty\n"
     ]
    },
    {
     "name": "stderr",
     "output_type": "stream",
     "text": [
      " 18%|█▊        | 498/2705 [17:40<1:21:44,  2.22s/it]"
     ]
    },
    {
     "name": "stdout",
     "output_type": "stream",
     "text": [
      "https://rickandmorty.fandom.com//wiki/Dark_Matter_Ball article is empty\n"
     ]
    },
    {
     "name": "stderr",
     "output_type": "stream",
     "text": [
      " 18%|█▊        | 499/2705 [17:42<1:18:54,  2.15s/it]"
     ]
    },
    {
     "name": "stdout",
     "output_type": "stream",
     "text": [
      "https://rickandmorty.fandom.com//wiki/Dark_Matter_Ball_(Pocket_Mortys) article is empty\n"
     ]
    },
    {
     "name": "stderr",
     "output_type": "stream",
     "text": [
      " 19%|█▉        | 508/2705 [18:00<1:04:53,  1.77s/it]"
     ]
    },
    {
     "name": "stdout",
     "output_type": "stream",
     "text": [
      "cannot find: https://rickandmorty.fandom.com//wiki/Da%E2%80%99hou_Ungherstahnk\n"
     ]
    },
    {
     "name": "stderr",
     "output_type": "stream",
     "text": [
      " 19%|█▉        | 512/2705 [18:08<1:16:39,  2.10s/it]"
     ]
    },
    {
     "name": "stdout",
     "output_type": "stream",
     "text": [
      "https://rickandmorty.fandom.com//wiki/Defense_Mega_Seed article is empty\n"
     ]
    },
    {
     "name": "stderr",
     "output_type": "stream",
     "text": [
      " 19%|█▉        | 513/2705 [18:10<1:16:35,  2.10s/it]"
     ]
    },
    {
     "name": "stdout",
     "output_type": "stream",
     "text": [
      "https://rickandmorty.fandom.com//wiki/Defense_Mega_Seed_(Pocket_Mortys) article is empty\n"
     ]
    },
    {
     "name": "stderr",
     "output_type": "stream",
     "text": [
      " 20%|█▉        | 534/2705 [18:54<1:12:05,  1.99s/it]"
     ]
    },
    {
     "name": "stdout",
     "output_type": "stream",
     "text": [
      "cannot find: https://rickandmorty.fandom.com//wiki/Dimension_46%27%5C\n"
     ]
    },
    {
     "name": "stderr",
     "output_type": "stream",
     "text": [
      " 20%|██        | 543/2705 [19:11<1:01:40,  1.71s/it]"
     ]
    },
    {
     "name": "stdout",
     "output_type": "stream",
     "text": [
      "cannot find: https://rickandmorty.fandom.com//wiki/Dimension_J19%CE%B17\n"
     ]
    },
    {
     "name": "stderr",
     "output_type": "stream",
     "text": [
      " 20%|██        | 544/2705 [19:13<58:20,  1.62s/it]  "
     ]
    },
    {
     "name": "stdout",
     "output_type": "stream",
     "text": [
      "cannot find: https://rickandmorty.fandom.com//wiki/Dimension_J19%CE%B67\n"
     ]
    },
    {
     "name": "stderr",
     "output_type": "stream",
     "text": [
      " 20%|██        | 549/2705 [19:23<1:07:08,  1.87s/it]"
     ]
    },
    {
     "name": "stdout",
     "output_type": "stream",
     "text": [
      "cannot find: https://rickandmorty.fandom.com//wiki/Do_You_Feel_It%3F\n"
     ]
    },
    {
     "name": "stderr",
     "output_type": "stream",
     "text": [
      " 20%|██        | 552/2705 [19:29<1:11:57,  2.01s/it]"
     ]
    },
    {
     "name": "stdout",
     "output_type": "stream",
     "text": [
      "https://rickandmorty.fandom.com//wiki/Dog_Collar article is empty\n"
     ]
    },
    {
     "name": "stderr",
     "output_type": "stream",
     "text": [
      " 20%|██        | 553/2705 [19:31<1:13:34,  2.05s/it]"
     ]
    },
    {
     "name": "stdout",
     "output_type": "stream",
     "text": [
      "https://rickandmorty.fandom.com//wiki/Dog_Collar_(Pocket_Mortys) article is empty\n"
     ]
    },
    {
     "name": "stderr",
     "output_type": "stream",
     "text": [
      " 21%|██        | 558/2705 [19:41<1:07:54,  1.90s/it]"
     ]
    },
    {
     "name": "stdout",
     "output_type": "stream",
     "text": [
      "cannot find: https://rickandmorty.fandom.com//wiki/Don%27t_Look_Back\n"
     ]
    },
    {
     "name": "stderr",
     "output_type": "stream",
     "text": [
      " 21%|██        | 564/2705 [19:53<1:06:08,  1.85s/it]"
     ]
    },
    {
     "name": "stdout",
     "output_type": "stream",
     "text": [
      "cannot find: https://rickandmorty.fandom.com//wiki/Doofus_Rick_(J19%CE%B17)\n"
     ]
    },
    {
     "name": "stderr",
     "output_type": "stream",
     "text": [
      " 22%|██▏       | 598/2705 [21:03<1:04:41,  1.84s/it]"
     ]
    },
    {
     "name": "stdout",
     "output_type": "stream",
     "text": [
      "cannot find: https://rickandmorty.fandom.com//wiki/Dude,_Where%27s_My_Rick%3F\n"
     ]
    },
    {
     "name": "stderr",
     "output_type": "stream",
     "text": [
      " 22%|██▏       | 599/2705 [21:05<59:01,  1.68s/it]  "
     ]
    },
    {
     "name": "stdout",
     "output_type": "stream",
     "text": [
      "cannot find: https://rickandmorty.fandom.com//wiki/Dude,_Where%27s_My_Rick%3F_(Quest)\n"
     ]
    },
    {
     "name": "stderr",
     "output_type": "stream",
     "text": [
      " 23%|██▎       | 613/2705 [21:32<1:05:13,  1.87s/it]"
     ]
    },
    {
     "name": "stdout",
     "output_type": "stream",
     "text": [
      "cannot find: https://rickandmorty.fandom.com//wiki/Edge_of_Tomorty:_Rick_Die_Rickpeat/Gallery\n"
     ]
    },
    {
     "name": "stderr",
     "output_type": "stream",
     "text": [
      " 23%|██▎       | 614/2705 [21:34<1:00:18,  1.73s/it]"
     ]
    },
    {
     "name": "stdout",
     "output_type": "stream",
     "text": [
      "cannot find: https://rickandmorty.fandom.com//wiki/Edge_of_Tomorty:_Rick_Die_Rickpeat/Transcript\n"
     ]
    },
    {
     "name": "stderr",
     "output_type": "stream",
     "text": [
      " 23%|██▎       | 619/2705 [21:44<1:04:11,  1.85s/it]"
     ]
    },
    {
     "name": "stdout",
     "output_type": "stream",
     "text": [
      "cannot find: https://rickandmorty.fandom.com//wiki/Elai%27s_Girlfriend\n"
     ]
    },
    {
     "name": "stderr",
     "output_type": "stream",
     "text": [
      " 23%|██▎       | 623/2705 [21:51<1:00:48,  1.75s/it]"
     ]
    },
    {
     "name": "stdout",
     "output_type": "stream",
     "text": [
      "cannot find: https://rickandmorty.fandom.com//wiki/Eli%27s_Girlfriend\n"
     ]
    },
    {
     "name": "stderr",
     "output_type": "stream",
     "text": [
      " 24%|██▎       | 636/2705 [22:19<1:13:45,  2.14s/it]"
     ]
    },
    {
     "name": "stdout",
     "output_type": "stream",
     "text": [
      "unexpected error has occurred.\n"
     ]
    },
    {
     "name": "stderr",
     "output_type": "stream",
     "text": [
      " 24%|██▎       | 642/2705 [22:31<1:03:55,  1.86s/it]"
     ]
    },
    {
     "name": "stdout",
     "output_type": "stream",
     "text": [
      "cannot find: https://rickandmorty.fandom.com//wiki/Evil_Morty%27s_Portal_Gun\n"
     ]
    },
    {
     "name": "stderr",
     "output_type": "stream",
     "text": [
      " 24%|██▍       | 643/2705 [22:33<1:00:32,  1.76s/it]"
     ]
    },
    {
     "name": "stdout",
     "output_type": "stream",
     "text": [
      "cannot find: https://rickandmorty.fandom.com//wiki/Evil_Morty/Theories\n"
     ]
    },
    {
     "name": "stderr",
     "output_type": "stream",
     "text": [
      " 24%|██▍       | 647/2705 [22:40<1:00:29,  1.76s/it]"
     ]
    },
    {
     "name": "stdout",
     "output_type": "stream",
     "text": [
      "cannot find: https://rickandmorty.fandom.com//wiki/Evil_Rick%27s_Target_Dimension\n"
     ]
    },
    {
     "name": "stderr",
     "output_type": "stream",
     "text": [
      " 25%|██▍       | 668/2705 [23:24<1:02:52,  1.85s/it]"
     ]
    },
    {
     "name": "stdout",
     "output_type": "stream",
     "text": [
      "cannot find: https://rickandmorty.fandom.com//wiki/Farmer_Rick%27s_Dog\n"
     ]
    },
    {
     "name": "stderr",
     "output_type": "stream",
     "text": [
      " 25%|██▌       | 686/2705 [24:03<1:18:27,  2.33s/it]"
     ]
    },
    {
     "name": "stdout",
     "output_type": "stream",
     "text": [
      "https://rickandmorty.fandom.com//wiki/Feeling_Rickcharged article is empty\n"
     ]
    },
    {
     "name": "stderr",
     "output_type": "stream",
     "text": [
      " 25%|██▌       | 687/2705 [24:05<1:14:25,  2.21s/it]"
     ]
    },
    {
     "name": "stdout",
     "output_type": "stream",
     "text": [
      "https://rickandmorty.fandom.com//wiki/Feeling_Rickcharged_(Quest) article is empty\n"
     ]
    },
    {
     "name": "stderr",
     "output_type": "stream",
     "text": [
      " 26%|██▌       | 707/2705 [24:48<1:17:26,  2.33s/it]"
     ]
    },
    {
     "name": "stdout",
     "output_type": "stream",
     "text": [
      "https://rickandmorty.fandom.com//wiki/Fleeb_(Pocket_Mortys) article is empty\n"
     ]
    },
    {
     "name": "stderr",
     "output_type": "stream",
     "text": [
      " 26%|██▋       | 716/2705 [25:08<1:04:34,  1.95s/it]"
     ]
    },
    {
     "name": "stdout",
     "output_type": "stream",
     "text": [
      "cannot find: https://rickandmorty.fandom.com//wiki/Flu_Hatin%27_Rap\n"
     ]
    },
    {
     "name": "stderr",
     "output_type": "stream",
     "text": [
      " 27%|██▋       | 735/2705 [25:48<1:02:17,  1.90s/it]"
     ]
    },
    {
     "name": "stdout",
     "output_type": "stream",
     "text": [
      "cannot find: https://rickandmorty.fandom.com//wiki/Frankenstein%27s_Monster\n"
     ]
    },
    {
     "name": "stderr",
     "output_type": "stream",
     "text": [
      " 28%|██▊       | 767/2705 [26:57<1:07:51,  2.10s/it]"
     ]
    },
    {
     "name": "stdout",
     "output_type": "stream",
     "text": [
      "cannot find: https://rickandmorty.fandom.com//wiki/Gar%27s_Mytholog\n"
     ]
    },
    {
     "name": "stderr",
     "output_type": "stream",
     "text": [
      " 29%|██▉       | 793/2705 [27:52<59:50,  1.88s/it]  "
     ]
    },
    {
     "name": "stdout",
     "output_type": "stream",
     "text": [
      "cannot find: https://rickandmorty.fandom.com//wiki/Get_Schwifty/Gallery\n"
     ]
    },
    {
     "name": "stderr",
     "output_type": "stream",
     "text": [
      " 29%|██▉       | 794/2705 [27:53<55:24,  1.74s/it]"
     ]
    },
    {
     "name": "stdout",
     "output_type": "stream",
     "text": [
      "cannot find: https://rickandmorty.fandom.com//wiki/Get_Schwifty/Transcript\n"
     ]
    },
    {
     "name": "stderr",
     "output_type": "stream",
     "text": [
      " 31%|███       | 833/2705 [29:18<1:05:58,  2.11s/it]"
     ]
    },
    {
     "name": "stdout",
     "output_type": "stream",
     "text": [
      "unexpected error has occurred.\n"
     ]
    },
    {
     "name": "stderr",
     "output_type": "stream",
     "text": [
      " 31%|███       | 836/2705 [29:24<1:06:35,  2.14s/it]"
     ]
    },
    {
     "name": "stdout",
     "output_type": "stream",
     "text": [
      "unexpected error has occurred.\n"
     ]
    },
    {
     "name": "stderr",
     "output_type": "stream",
     "text": [
      " 31%|███▏      | 849/2705 [29:52<57:47,  1.87s/it]  "
     ]
    },
    {
     "name": "stdout",
     "output_type": "stream",
     "text": [
      "cannot find: https://rickandmorty.fandom.com//wiki/Gotron_Jerrysis_Rickvangelion/Transcript\n"
     ]
    },
    {
     "name": "stderr",
     "output_type": "stream",
     "text": [
      " 32%|███▏      | 865/2705 [30:27<1:08:11,  2.22s/it]"
     ]
    },
    {
     "name": "stdout",
     "output_type": "stream",
     "text": [
      "https://rickandmorty.fandom.com//wiki/Great_Serum article is empty\n"
     ]
    },
    {
     "name": "stderr",
     "output_type": "stream",
     "text": [
      " 33%|███▎      | 883/2705 [31:06<1:06:48,  2.20s/it]"
     ]
    },
    {
     "name": "stdout",
     "output_type": "stream",
     "text": [
      "https://rickandmorty.fandom.com//wiki/Gwendolyn article is empty\n"
     ]
    },
    {
     "name": "stderr",
     "output_type": "stream",
     "text": [
      " 33%|███▎      | 884/2705 [31:08<1:06:58,  2.21s/it]"
     ]
    },
    {
     "name": "stdout",
     "output_type": "stream",
     "text": [
      "https://rickandmorty.fandom.com//wiki/Gwendolyn_Doll article is empty\n"
     ]
    },
    {
     "name": "stderr",
     "output_type": "stream",
     "text": [
      " 33%|███▎      | 886/2705 [31:12<59:17,  1.96s/it]  "
     ]
    },
    {
     "name": "stdout",
     "output_type": "stream",
     "text": [
      "cannot find: https://rickandmorty.fandom.com//wiki/Haas_%26_Milan\n"
     ]
    },
    {
     "name": "stderr",
     "output_type": "stream",
     "text": [
      " 33%|███▎      | 888/2705 [31:16<1:02:10,  2.05s/it]"
     ]
    },
    {
     "name": "stdout",
     "output_type": "stream",
     "text": [
      "https://rickandmorty.fandom.com//wiki/Halzinger article is empty\n"
     ]
    },
    {
     "name": "stderr",
     "output_type": "stream",
     "text": [
      " 35%|███▌      | 951/2705 [33:31<57:31,  1.97s/it]  "
     ]
    },
    {
     "name": "stdout",
     "output_type": "stream",
     "text": [
      "cannot find: https://rickandmorty.fandom.com//wiki/How_Did_I_Get_Here%3F\n"
     ]
    },
    {
     "name": "stderr",
     "output_type": "stream",
     "text": [
      " 35%|███▌      | 956/2705 [33:42<58:59,  2.02s/it]  "
     ]
    },
    {
     "name": "stdout",
     "output_type": "stream",
     "text": [
      "cannot find: https://rickandmorty.fandom.com//wiki/Hunter%27s_Dad\n"
     ]
    },
    {
     "name": "stderr",
     "output_type": "stream",
     "text": [
      " 35%|███▌      | 957/2705 [33:43<52:55,  1.82s/it]"
     ]
    },
    {
     "name": "stdout",
     "output_type": "stream",
     "text": [
      "cannot find: https://rickandmorty.fandom.com//wiki/Hunter%27s_Father\n"
     ]
    },
    {
     "name": "stderr",
     "output_type": "stream",
     "text": [
      " 36%|███▌      | 963/2705 [33:55<53:19,  1.84s/it]"
     ]
    },
    {
     "name": "stdout",
     "output_type": "stream",
     "text": [
      "cannot find: https://rickandmorty.fandom.com//wiki/I%27m_a_Tax_Attorney\n"
     ]
    },
    {
     "name": "stderr",
     "output_type": "stream",
     "text": [
      " 36%|███▌      | 964/2705 [33:57<58:35,  2.02s/it]"
     ]
    },
    {
     "name": "stdout",
     "output_type": "stream",
     "text": [
      "https://rickandmorty.fandom.com//wiki/IQ_Enhancing_Helmet article is empty\n"
     ]
    },
    {
     "name": "stderr",
     "output_type": "stream",
     "text": [
      " 36%|███▌      | 979/2705 [34:30<1:03:02,  2.19s/it]"
     ]
    },
    {
     "name": "stdout",
     "output_type": "stream",
     "text": [
      "https://rickandmorty.fandom.com//wiki/Inter-Dimensional_Goggles article is empty\n"
     ]
    },
    {
     "name": "stderr",
     "output_type": "stream",
     "text": [
      " 36%|███▌      | 980/2705 [34:32<1:01:51,  2.15s/it]"
     ]
    },
    {
     "name": "stdout",
     "output_type": "stream",
     "text": [
      "https://rickandmorty.fandom.com//wiki/Interdimensional_Cable article is empty\n"
     ]
    },
    {
     "name": "stderr",
     "output_type": "stream",
     "text": [
      " 36%|███▋      | 982/2705 [34:36<56:48,  1.98s/it]  "
     ]
    },
    {
     "name": "stdout",
     "output_type": "stream",
     "text": [
      "cannot find: https://rickandmorty.fandom.com//wiki/Interdimensional_Cable_2:_Tempting_Fate/Gallery\n"
     ]
    },
    {
     "name": "stderr",
     "output_type": "stream",
     "text": [
      " 36%|███▋      | 983/2705 [34:38<53:20,  1.86s/it]"
     ]
    },
    {
     "name": "stdout",
     "output_type": "stream",
     "text": [
      "cannot find: https://rickandmorty.fandom.com//wiki/Interdimensional_Cable_2:_Tempting_Fate/Transcript\n"
     ]
    },
    {
     "name": "stderr",
     "output_type": "stream",
     "text": [
      " 36%|███▋      | 984/2705 [34:40<55:15,  1.93s/it]"
     ]
    },
    {
     "name": "stdout",
     "output_type": "stream",
     "text": [
      "https://rickandmorty.fandom.com//wiki/Interdimensional_Cable_Box article is empty\n"
     ]
    },
    {
     "name": "stderr",
     "output_type": "stream",
     "text": [
      " 36%|███▋      | 986/2705 [34:44<57:00,  1.99s/it]"
     ]
    },
    {
     "name": "stdout",
     "output_type": "stream",
     "text": [
      "https://rickandmorty.fandom.com//wiki/Interdimensional_Goggles article is empty\n"
     ]
    },
    {
     "name": "stderr",
     "output_type": "stream",
     "text": [
      " 37%|███▋      | 997/2705 [35:06<52:14,  1.84s/it]  "
     ]
    },
    {
     "name": "stdout",
     "output_type": "stream",
     "text": [
      "cannot find: https://rickandmorty.fandom.com//wiki/It%27s_a_Small,_Small_Intestine\n"
     ]
    },
    {
     "name": "stderr",
     "output_type": "stream",
     "text": [
      " 38%|███▊      | 1020/2705 [35:57<1:03:26,  2.26s/it]"
     ]
    },
    {
     "name": "stdout",
     "output_type": "stream",
     "text": [
      "unexpected error has occurred.\n"
     ]
    },
    {
     "name": "stderr",
     "output_type": "stream",
     "text": [
      " 38%|███▊      | 1022/2705 [36:00<54:37,  1.95s/it]  "
     ]
    },
    {
     "name": "stdout",
     "output_type": "stream",
     "text": [
      "cannot find: https://rickandmorty.fandom.com//wiki/Jerry%27s_Apartment\n"
     ]
    },
    {
     "name": "stderr",
     "output_type": "stream",
     "text": [
      " 38%|███▊      | 1023/2705 [36:02<52:06,  1.86s/it]"
     ]
    },
    {
     "name": "stdout",
     "output_type": "stream",
     "text": [
      "cannot find: https://rickandmorty.fandom.com//wiki/Jerry%27s_Game\n"
     ]
    },
    {
     "name": "stderr",
     "output_type": "stream",
     "text": [
      " 38%|███▊      | 1024/2705 [36:03<49:04,  1.75s/it]"
     ]
    },
    {
     "name": "stdout",
     "output_type": "stream",
     "text": [
      "cannot find: https://rickandmorty.fandom.com//wiki/Jerry%27s_Game_Morty\n"
     ]
    },
    {
     "name": "stderr",
     "output_type": "stream",
     "text": [
      " 38%|███▊      | 1025/2705 [36:05<46:39,  1.67s/it]"
     ]
    },
    {
     "name": "stdout",
     "output_type": "stream",
     "text": [
      "cannot find: https://rickandmorty.fandom.com//wiki/Jerry%27s_Mind_Blowers\n"
     ]
    },
    {
     "name": "stderr",
     "output_type": "stream",
     "text": [
      " 38%|███▊      | 1026/2705 [36:06<44:56,  1.61s/it]"
     ]
    },
    {
     "name": "stdout",
     "output_type": "stream",
     "text": [
      "cannot find: https://rickandmorty.fandom.com//wiki/Jerry%27s_Mytholog\n"
     ]
    },
    {
     "name": "stderr",
     "output_type": "stream",
     "text": [
      " 38%|███▊      | 1027/2705 [36:08<44:24,  1.59s/it]"
     ]
    },
    {
     "name": "stdout",
     "output_type": "stream",
     "text": [
      "cannot find: https://rickandmorty.fandom.com//wiki/Jerry%27s_Rick\n"
     ]
    },
    {
     "name": "stderr",
     "output_type": "stream",
     "text": [
      " 38%|███▊      | 1028/2705 [36:09<43:11,  1.55s/it]"
     ]
    },
    {
     "name": "stdout",
     "output_type": "stream",
     "text": [
      "cannot find: https://rickandmorty.fandom.com//wiki/Jerry%27s_original_dimension\n"
     ]
    },
    {
     "name": "stderr",
     "output_type": "stream",
     "text": [
      " 39%|███▊      | 1044/2705 [36:43<51:51,  1.87s/it]  "
     ]
    },
    {
     "name": "stdout",
     "output_type": "stream",
     "text": [
      "cannot find: https://rickandmorty.fandom.com//wiki/Jerry_Smith_(Evil_Rick%27s_Target_Dimension)\n"
     ]
    },
    {
     "name": "stderr",
     "output_type": "stream",
     "text": [
      " 39%|███▉      | 1049/2705 [36:52<49:49,  1.81s/it]"
     ]
    },
    {
     "name": "stdout",
     "output_type": "stream",
     "text": [
      "cannot find: https://rickandmorty.fandom.com//wiki/Jerry_and_Beth%27s_Room\n"
     ]
    },
    {
     "name": "stderr",
     "output_type": "stream",
     "text": [
      " 39%|███▉      | 1056/2705 [37:07<55:01,  2.00s/it]"
     ]
    },
    {
     "name": "stdout",
     "output_type": "stream",
     "text": [
      "unexpected error has occurred.\n"
     ]
    },
    {
     "name": "stderr",
     "output_type": "stream",
     "text": [
      " 39%|███▉      | 1058/2705 [37:11<51:50,  1.89s/it]"
     ]
    },
    {
     "name": "stdout",
     "output_type": "stream",
     "text": [
      "cannot find: https://rickandmorty.fandom.com//wiki/Jessica%27s_Friend\n"
     ]
    },
    {
     "name": "stderr",
     "output_type": "stream",
     "text": [
      " 39%|███▉      | 1059/2705 [37:12<47:47,  1.74s/it]"
     ]
    },
    {
     "name": "stdout",
     "output_type": "stream",
     "text": [
      "cannot find: https://rickandmorty.fandom.com//wiki/Jessica%27s_Friend_(2)\n"
     ]
    },
    {
     "name": "stderr",
     "output_type": "stream",
     "text": [
      " 39%|███▉      | 1060/2705 [37:13<44:14,  1.61s/it]"
     ]
    },
    {
     "name": "stdout",
     "output_type": "stream",
     "text": [
      "cannot find: https://rickandmorty.fandom.com//wiki/Jessica%27s_Grandma\n"
     ]
    },
    {
     "name": "stderr",
     "output_type": "stream",
     "text": [
      " 40%|████      | 1082/2705 [38:00<50:35,  1.87s/it]  "
     ]
    },
    {
     "name": "stdout",
     "output_type": "stream",
     "text": [
      "cannot find: https://rickandmorty.fandom.com//wiki/Juan_Meza-Le%C3%B3n\n"
     ]
    },
    {
     "name": "stderr",
     "output_type": "stream",
     "text": [
      " 40%|████      | 1090/2705 [38:18<57:36,  2.14s/it]  "
     ]
    },
    {
     "name": "stdout",
     "output_type": "stream",
     "text": [
      "https://rickandmorty.fandom.com//wiki/Just_in_the_Rick_of_Time article is empty\n"
     ]
    },
    {
     "name": "stderr",
     "output_type": "stream",
     "text": [
      " 41%|████▏     | 1118/2705 [39:19<50:31,  1.91s/it]  "
     ]
    },
    {
     "name": "stdout",
     "output_type": "stream",
     "text": [
      "cannot find: https://rickandmorty.fandom.com//wiki/Klthakkkath%E2%80%99pft%E2%80%99torp_Mind_Collective\n"
     ]
    },
    {
     "name": "stderr",
     "output_type": "stream",
     "text": [
      " 41%|████▏     | 1119/2705 [39:20<46:55,  1.78s/it]"
     ]
    },
    {
     "name": "stdout",
     "output_type": "stream",
     "text": [
      "cannot find: https://rickandmorty.fandom.com//wiki/Kl%E2%80%99iiik_Mijupsrit\n"
     ]
    },
    {
     "name": "stderr",
     "output_type": "stream",
     "text": [
      " 42%|████▏     | 1140/2705 [40:04<49:23,  1.89s/it]"
     ]
    },
    {
     "name": "stdout",
     "output_type": "stream",
     "text": [
      "cannot find: https://rickandmorty.fandom.com//wiki/Larva_Mr_Goldenfold%27s_Grubs\n"
     ]
    },
    {
     "name": "stderr",
     "output_type": "stream",
     "text": [
      " 42%|████▏     | 1146/2705 [40:17<49:58,  1.92s/it]"
     ]
    },
    {
     "name": "stdout",
     "output_type": "stream",
     "text": [
      "cannot find: https://rickandmorty.fandom.com//wiki/Last_Will_and_Testimeow:_Weekend_at_Dead_Cat_Lady%27s_House_II\n"
     ]
    },
    {
     "name": "stderr",
     "output_type": "stream",
     "text": [
      " 43%|████▎     | 1150/2705 [40:25<49:08,  1.90s/it]"
     ]
    },
    {
     "name": "stdout",
     "output_type": "stream",
     "text": [
      "cannot find: https://rickandmorty.fandom.com//wiki/Lawnmower_Dog/Gallery\n"
     ]
    },
    {
     "name": "stderr",
     "output_type": "stream",
     "text": [
      " 43%|████▎     | 1151/2705 [40:27<47:04,  1.82s/it]"
     ]
    },
    {
     "name": "stdout",
     "output_type": "stream",
     "text": [
      "cannot find: https://rickandmorty.fandom.com//wiki/Lawnmower_Dog/Transcript\n"
     ]
    },
    {
     "name": "stderr",
     "output_type": "stream",
     "text": [
      " 43%|████▎     | 1159/2705 [40:44<54:46,  2.13s/it]"
     ]
    },
    {
     "name": "stdout",
     "output_type": "stream",
     "text": [
      "https://rickandmorty.fandom.com//wiki/Level_Up_Mega_Seed article is empty\n"
     ]
    },
    {
     "name": "stderr",
     "output_type": "stream",
     "text": [
      " 43%|████▎     | 1165/2705 [40:56<49:45,  1.94s/it]"
     ]
    },
    {
     "name": "stdout",
     "output_type": "stream",
     "text": [
      "cannot find: https://rickandmorty.fandom.com//wiki/Lil%27_Bits\n"
     ]
    },
    {
     "name": "stderr",
     "output_type": "stream",
     "text": [
      " 43%|████▎     | 1166/2705 [40:57<44:33,  1.74s/it]"
     ]
    },
    {
     "name": "stdout",
     "output_type": "stream",
     "text": [
      "cannot find: https://rickandmorty.fandom.com//wiki/Lil%27_Bits_Morty\n"
     ]
    },
    {
     "name": "stderr",
     "output_type": "stream",
     "text": [
      " 43%|████▎     | 1167/2705 [40:59<42:48,  1.67s/it]"
     ]
    },
    {
     "name": "stdout",
     "output_type": "stream",
     "text": [
      "cannot find: https://rickandmorty.fandom.com//wiki/Lil%27_Poopy_Superstar\n"
     ]
    },
    {
     "name": "stderr",
     "output_type": "stream",
     "text": [
      " 43%|████▎     | 1170/2705 [41:05<47:31,  1.86s/it]"
     ]
    },
    {
     "name": "stdout",
     "output_type": "stream",
     "text": [
      "cannot find: https://rickandmorty.fandom.com//wiki/Lil%E2%80%99_Poopy_Superstar_1\n"
     ]
    },
    {
     "name": "stderr",
     "output_type": "stream",
     "text": [
      " 43%|████▎     | 1171/2705 [41:06<43:09,  1.69s/it]"
     ]
    },
    {
     "name": "stdout",
     "output_type": "stream",
     "text": [
      "cannot find: https://rickandmorty.fandom.com//wiki/Lil%E2%80%99_Poopy_Superstar_2\n"
     ]
    },
    {
     "name": "stderr",
     "output_type": "stream",
     "text": [
      " 43%|████▎     | 1172/2705 [41:08<41:15,  1.61s/it]"
     ]
    },
    {
     "name": "stdout",
     "output_type": "stream",
     "text": [
      "cannot find: https://rickandmorty.fandom.com//wiki/Lil%E2%80%99_Poopy_Superstar_3\n"
     ]
    },
    {
     "name": "stderr",
     "output_type": "stream",
     "text": [
      " 43%|████▎     | 1173/2705 [41:09<39:42,  1.56s/it]"
     ]
    },
    {
     "name": "stdout",
     "output_type": "stream",
     "text": [
      "cannot find: https://rickandmorty.fandom.com//wiki/Lil%E2%80%99_Poopy_Superstar_4\n"
     ]
    },
    {
     "name": "stderr",
     "output_type": "stream",
     "text": [
      " 43%|████▎     | 1174/2705 [41:11<40:12,  1.58s/it]"
     ]
    },
    {
     "name": "stdout",
     "output_type": "stream",
     "text": [
      "cannot find: https://rickandmorty.fandom.com//wiki/Lil%E2%80%99_Poopy_Superstar_5\n"
     ]
    },
    {
     "name": "stderr",
     "output_type": "stream",
     "text": [
      " 44%|████▎     | 1182/2705 [41:28<50:35,  1.99s/it]"
     ]
    },
    {
     "name": "stdout",
     "output_type": "stream",
     "text": [
      "cannot find: https://rickandmorty.fandom.com//wiki/List_of_Rick%27s_inventions\n"
     ]
    },
    {
     "name": "stderr",
     "output_type": "stream",
     "text": [
      " 44%|████▍     | 1200/2705 [42:08<50:58,  2.03s/it]"
     ]
    },
    {
     "name": "stdout",
     "output_type": "stream",
     "text": [
      "cannot find: https://rickandmorty.fandom.com//wiki/Look_Who%27s_Purging_Now\n"
     ]
    },
    {
     "name": "stderr",
     "output_type": "stream",
     "text": [
      " 44%|████▍     | 1201/2705 [42:09<47:04,  1.88s/it]"
     ]
    },
    {
     "name": "stdout",
     "output_type": "stream",
     "text": [
      "cannot find: https://rickandmorty.fandom.com//wiki/Look_Who%27s_Purging_Now/Gallery\n"
     ]
    },
    {
     "name": "stderr",
     "output_type": "stream",
     "text": [
      " 44%|████▍     | 1202/2705 [42:10<43:49,  1.75s/it]"
     ]
    },
    {
     "name": "stdout",
     "output_type": "stream",
     "text": [
      "cannot find: https://rickandmorty.fandom.com//wiki/Look_Who%27s_Purging_Now/Transcript\n"
     ]
    },
    {
     "name": "stderr",
     "output_type": "stream",
     "text": [
      " 44%|████▍     | 1203/2705 [42:12<40:54,  1.63s/it]"
     ]
    },
    {
     "name": "stdout",
     "output_type": "stream",
     "text": [
      "cannot find: https://rickandmorty.fandom.com//wiki/Look_Who%27s_Purging_Now_(Game)\n"
     ]
    },
    {
     "name": "stderr",
     "output_type": "stream",
     "text": [
      " 45%|████▍     | 1208/2705 [42:23<51:22,  2.06s/it]"
     ]
    },
    {
     "name": "stdout",
     "output_type": "stream",
     "text": [
      "https://rickandmorty.fandom.com//wiki/Love_Potion article is empty\n"
     ]
    },
    {
     "name": "stderr",
     "output_type": "stream",
     "text": [
      " 45%|████▍     | 1216/2705 [42:40<49:50,  2.01s/it]"
     ]
    },
    {
     "name": "stdout",
     "output_type": "stream",
     "text": [
      "cannot find: https://rickandmorty.fandom.com//wiki/M._Night_Shaym-Aliens!/Gallery\n"
     ]
    },
    {
     "name": "stderr",
     "output_type": "stream",
     "text": [
      " 45%|████▍     | 1217/2705 [42:41<46:01,  1.86s/it]"
     ]
    },
    {
     "name": "stdout",
     "output_type": "stream",
     "text": [
      "cannot find: https://rickandmorty.fandom.com//wiki/M._Night_Shaym-Aliens!/Transcript\n"
     ]
    },
    {
     "name": "stderr",
     "output_type": "stream",
     "text": [
      " 45%|████▌     | 1219/2705 [42:45<43:40,  1.76s/it]"
     ]
    },
    {
     "name": "stdout",
     "output_type": "stream",
     "text": [
      "cannot find: https://rickandmorty.fandom.com//wiki/M_Shave%27s_Aftershave\n"
     ]
    },
    {
     "name": "stderr",
     "output_type": "stream",
     "text": [
      " 45%|████▌     | 1221/2705 [42:48<43:26,  1.76s/it]"
     ]
    },
    {
     "name": "stdout",
     "output_type": "stream",
     "text": [
      "cannot find: https://rickandmorty.fandom.com//wiki/Maa%27lgamia_Screnshun\n"
     ]
    },
    {
     "name": "stderr",
     "output_type": "stream",
     "text": [
      " 46%|████▌     | 1239/2705 [43:27<46:56,  1.92s/it]"
     ]
    },
    {
     "name": "stdout",
     "output_type": "stream",
     "text": [
      "cannot find: https://rickandmorty.fandom.com//wiki/Marta%27s_Dad\n"
     ]
    },
    {
     "name": "stderr",
     "output_type": "stream",
     "text": [
      " 46%|████▌     | 1240/2705 [43:28<42:10,  1.73s/it]"
     ]
    },
    {
     "name": "stdout",
     "output_type": "stream",
     "text": [
      "cannot find: https://rickandmorty.fandom.com//wiki/Marta%27s_dad\n"
     ]
    },
    {
     "name": "stderr",
     "output_type": "stream",
     "text": [
      " 46%|████▌     | 1250/2705 [43:50<47:43,  1.97s/it]"
     ]
    },
    {
     "name": "stdout",
     "output_type": "stream",
     "text": [
      "cannot find: https://rickandmorty.fandom.com//wiki/Mc_Shave%27s_Aftershave\n"
     ]
    },
    {
     "name": "stderr",
     "output_type": "stream",
     "text": [
      " 47%|████▋     | 1259/2705 [44:08<46:50,  1.94s/it]"
     ]
    },
    {
     "name": "stdout",
     "output_type": "stream",
     "text": [
      "cannot find: https://rickandmorty.fandom.com//wiki/Meeseeks_and_Destroy/Gallery\n"
     ]
    },
    {
     "name": "stderr",
     "output_type": "stream",
     "text": [
      " 47%|████▋     | 1260/2705 [44:10<43:21,  1.80s/it]"
     ]
    },
    {
     "name": "stdout",
     "output_type": "stream",
     "text": [
      "cannot find: https://rickandmorty.fandom.com//wiki/Meeseeks_and_Destroy/Transcript\n"
     ]
    },
    {
     "name": "stderr",
     "output_type": "stream",
     "text": [
      " 47%|████▋     | 1279/2705 [44:52<46:56,  1.98s/it]"
     ]
    },
    {
     "name": "stdout",
     "output_type": "stream",
     "text": [
      "cannot find: https://rickandmorty.fandom.com//wiki/Michael_(The_ABC%27s_of_Beth)\n"
     ]
    },
    {
     "name": "stderr",
     "output_type": "stream",
     "text": [
      " 48%|████▊     | 1285/2705 [45:04<50:20,  2.13s/it]"
     ]
    },
    {
     "name": "stdout",
     "output_type": "stream",
     "text": [
      "https://rickandmorty.fandom.com//wiki/Microverse_Battery article is empty\n"
     ]
    },
    {
     "name": "stderr",
     "output_type": "stream",
     "text": [
      " 48%|████▊     | 1286/2705 [45:06<49:27,  2.09s/it]"
     ]
    },
    {
     "name": "stdout",
     "output_type": "stream",
     "text": [
      "https://rickandmorty.fandom.com//wiki/Microverse_Battery_(Pocket_Mortys) article is empty\n"
     ]
    },
    {
     "name": "stderr",
     "output_type": "stream",
     "text": [
      " 48%|████▊     | 1309/2705 [45:57<44:36,  1.92s/it]"
     ]
    },
    {
     "name": "stdout",
     "output_type": "stream",
     "text": [
      "cannot find: https://rickandmorty.fandom.com//wiki/Mort_Dinner_Rick_Andre/Transcript\n"
     ]
    },
    {
     "name": "stderr",
     "output_type": "stream",
     "text": [
      " 49%|████▊     | 1315/2705 [46:09<44:00,  1.90s/it]"
     ]
    },
    {
     "name": "stdout",
     "output_type": "stream",
     "text": [
      "cannot find: https://rickandmorty.fandom.com//wiki/Morty%27s\n"
     ]
    },
    {
     "name": "stderr",
     "output_type": "stream",
     "text": [
      " 49%|████▊     | 1316/2705 [46:10<40:55,  1.77s/it]"
     ]
    },
    {
     "name": "stdout",
     "output_type": "stream",
     "text": [
      "cannot find: https://rickandmorty.fandom.com//wiki/Morty%27s_Backpack\n"
     ]
    },
    {
     "name": "stderr",
     "output_type": "stream",
     "text": [
      " 49%|████▊     | 1317/2705 [46:12<38:29,  1.66s/it]"
     ]
    },
    {
     "name": "stdout",
     "output_type": "stream",
     "text": [
      "cannot find: https://rickandmorty.fandom.com//wiki/Morty%27s_Girlfriend\n"
     ]
    },
    {
     "name": "stderr",
     "output_type": "stream",
     "text": [
      " 49%|████▊     | 1318/2705 [46:13<36:34,  1.58s/it]"
     ]
    },
    {
     "name": "stdout",
     "output_type": "stream",
     "text": [
      "cannot find: https://rickandmorty.fandom.com//wiki/Morty%27s_Mind_Blowers\n"
     ]
    },
    {
     "name": "stderr",
     "output_type": "stream",
     "text": [
      " 49%|████▉     | 1319/2705 [46:15<36:14,  1.57s/it]"
     ]
    },
    {
     "name": "stdout",
     "output_type": "stream",
     "text": [
      "cannot find: https://rickandmorty.fandom.com//wiki/Morty%27s_Mind_Blowers/Gallery\n"
     ]
    },
    {
     "name": "stderr",
     "output_type": "stream",
     "text": [
      " 49%|████▉     | 1320/2705 [46:16<35:43,  1.55s/it]"
     ]
    },
    {
     "name": "stdout",
     "output_type": "stream",
     "text": [
      "cannot find: https://rickandmorty.fandom.com//wiki/Morty%27s_Mind_Blowers/Transcript\n"
     ]
    },
    {
     "name": "stderr",
     "output_type": "stream",
     "text": [
      " 49%|████▉     | 1321/2705 [46:18<35:02,  1.52s/it]"
     ]
    },
    {
     "name": "stdout",
     "output_type": "stream",
     "text": [
      "cannot find: https://rickandmorty.fandom.com//wiki/Morty%27s_Room\n"
     ]
    },
    {
     "name": "stderr",
     "output_type": "stream",
     "text": [
      " 49%|████▉     | 1333/2705 [46:46<54:18,  2.38s/it]"
     ]
    },
    {
     "name": "stdout",
     "output_type": "stream",
     "text": [
      "https://rickandmorty.fandom.com//wiki/Morty_Manipulator_Chip article is empty\n"
     ]
    },
    {
     "name": "stderr",
     "output_type": "stream",
     "text": [
      " 50%|████▉     | 1346/2705 [47:14<43:07,  1.90s/it]"
     ]
    },
    {
     "name": "stdout",
     "output_type": "stream",
     "text": [
      "cannot find: https://rickandmorty.fandom.com//wiki/Morty_Smith_(Evil_Rick%27s_Target_Dimension)\n"
     ]
    },
    {
     "name": "stderr",
     "output_type": "stream",
     "text": [
      " 50%|████▉     | 1348/2705 [47:18<41:09,  1.82s/it]"
     ]
    },
    {
     "name": "stdout",
     "output_type": "stream",
     "text": [
      "cannot find: https://rickandmorty.fandom.com//wiki/Morty_Smith_(Jerry%27s_original_dimension)\n"
     ]
    },
    {
     "name": "stderr",
     "output_type": "stream",
     "text": [
      " 50%|█████     | 1355/2705 [47:32<41:27,  1.84s/it]"
     ]
    },
    {
     "name": "stdout",
     "output_type": "stream",
     "text": [
      "cannot find: https://rickandmorty.fandom.com//wiki/Morty_and_Summer%27s_Incest_Baby\n"
     ]
    },
    {
     "name": "stderr",
     "output_type": "stream",
     "text": [
      " 50%|█████     | 1361/2705 [47:45<47:38,  2.13s/it]"
     ]
    },
    {
     "name": "stdout",
     "output_type": "stream",
     "text": [
      "cannot find: https://rickandmorty.fandom.com//wiki/Mortynight_Run/Gallery\n"
     ]
    },
    {
     "name": "stderr",
     "output_type": "stream",
     "text": [
      " 50%|█████     | 1362/2705 [47:46<43:31,  1.94s/it]"
     ]
    },
    {
     "name": "stdout",
     "output_type": "stream",
     "text": [
      "cannot find: https://rickandmorty.fandom.com//wiki/Mortynight_Run/Transcript\n"
     ]
    },
    {
     "name": "stderr",
     "output_type": "stream",
     "text": [
      " 50%|█████     | 1364/2705 [47:50<40:30,  1.81s/it]"
     ]
    },
    {
     "name": "stdout",
     "output_type": "stream",
     "text": [
      "cannot find: https://rickandmorty.fandom.com//wiki/Mortyplicity/Transcript\n"
     ]
    },
    {
     "name": "stderr",
     "output_type": "stream",
     "text": [
      " 51%|█████     | 1368/2705 [47:58<48:04,  2.16s/it]"
     ]
    },
    {
     "name": "stdout",
     "output_type": "stream",
     "text": [
      "https://rickandmorty.fandom.com//wiki/Motherboard article is empty\n"
     ]
    },
    {
     "name": "stderr",
     "output_type": "stream",
     "text": [
      " 51%|█████     | 1380/2705 [48:23<42:18,  1.92s/it]"
     ]
    },
    {
     "name": "stdout",
     "output_type": "stream",
     "text": [
      "cannot find: https://rickandmorty.fandom.com//wiki/Mr._Goldenfold%27s_Larvae\n"
     ]
    },
    {
     "name": "stderr",
     "output_type": "stream",
     "text": [
      " 51%|█████▏    | 1388/2705 [48:39<41:52,  1.91s/it]"
     ]
    },
    {
     "name": "stdout",
     "output_type": "stream",
     "text": [
      "cannot find: https://rickandmorty.fandom.com//wiki/Mr._Meeseeks%27_Box_o%27_Fun\n"
     ]
    },
    {
     "name": "stderr",
     "output_type": "stream",
     "text": [
      " 52%|█████▏    | 1394/2705 [48:52<43:48,  2.00s/it]"
     ]
    },
    {
     "name": "stdout",
     "output_type": "stream",
     "text": [
      "cannot find: https://rickandmorty.fandom.com//wiki/Mr._Poopybutthole%27s_Cat\n"
     ]
    },
    {
     "name": "stderr",
     "output_type": "stream",
     "text": [
      " 52%|█████▏    | 1395/2705 [48:53<39:11,  1.80s/it]"
     ]
    },
    {
     "name": "stdout",
     "output_type": "stream",
     "text": [
      "cannot find: https://rickandmorty.fandom.com//wiki/Mr._Poopybutthole%27s_Dog\n"
     ]
    },
    {
     "name": "stderr",
     "output_type": "stream",
     "text": [
      " 52%|█████▏    | 1396/2705 [48:55<36:23,  1.67s/it]"
     ]
    },
    {
     "name": "stdout",
     "output_type": "stream",
     "text": [
      "cannot find: https://rickandmorty.fandom.com//wiki/Mr._Poopybutthole%27s_species\n"
     ]
    },
    {
     "name": "stderr",
     "output_type": "stream",
     "text": [
      " 52%|█████▏    | 1397/2705 [48:56<35:22,  1.62s/it]"
     ]
    },
    {
     "name": "stdout",
     "output_type": "stream",
     "text": [
      "cannot find: https://rickandmorty.fandom.com//wiki/Mr._Poopybutthole/Gallery\n"
     ]
    },
    {
     "name": "stderr",
     "output_type": "stream",
     "text": [
      " 52%|█████▏    | 1413/2705 [49:29<40:53,  1.90s/it]"
     ]
    },
    {
     "name": "stdout",
     "output_type": "stream",
     "text": [
      "cannot find: https://rickandmorty.fandom.com//wiki/Mr_Meeseeks%27_Box_o%27_Fun\n"
     ]
    },
    {
     "name": "stderr",
     "output_type": "stream",
     "text": [
      " 52%|█████▏    | 1418/2705 [49:38<38:57,  1.82s/it]"
     ]
    },
    {
     "name": "stdout",
     "output_type": "stream",
     "text": [
      "cannot find: https://rickandmorty.fandom.com//wiki/Mr_Poopybutthole%27s_Cat\n"
     ]
    },
    {
     "name": "stderr",
     "output_type": "stream",
     "text": [
      " 52%|█████▏    | 1419/2705 [49:40<36:16,  1.69s/it]"
     ]
    },
    {
     "name": "stdout",
     "output_type": "stream",
     "text": [
      "cannot find: https://rickandmorty.fandom.com//wiki/Mr_Poopybutthole%27s_Dog\n"
     ]
    },
    {
     "name": "stderr",
     "output_type": "stream",
     "text": [
      " 52%|█████▏    | 1420/2705 [49:41<34:57,  1.63s/it]"
     ]
    },
    {
     "name": "stdout",
     "output_type": "stream",
     "text": [
      "cannot find: https://rickandmorty.fandom.com//wiki/Mr_Poopybutthole%27s_species\n"
     ]
    },
    {
     "name": "stderr",
     "output_type": "stream",
     "text": [
      " 53%|█████▎    | 1421/2705 [49:43<34:39,  1.62s/it]"
     ]
    },
    {
     "name": "stdout",
     "output_type": "stream",
     "text": [
      "cannot find: https://rickandmorty.fandom.com//wiki/Mr_Poopybutthole/Gallery\n"
     ]
    },
    {
     "name": "stderr",
     "output_type": "stream",
     "text": [
      " 54%|█████▎    | 1453/2705 [50:50<47:30,  2.28s/it]"
     ]
    },
    {
     "name": "stdout",
     "output_type": "stream",
     "text": [
      "https://rickandmorty.fandom.com//wiki/Mutant_Bacteria_Cell article is empty\n"
     ]
    },
    {
     "name": "stderr",
     "output_type": "stream",
     "text": [
      " 54%|█████▍    | 1458/2705 [51:00<42:49,  2.06s/it]"
     ]
    },
    {
     "name": "stdout",
     "output_type": "stream",
     "text": [
      "cannot find: https://rickandmorty.fandom.com//wiki/N/A\n"
     ]
    },
    {
     "name": "stderr",
     "output_type": "stream",
     "text": [
      " 54%|█████▍    | 1460/2705 [51:05<42:31,  2.05s/it]"
     ]
    },
    {
     "name": "stdout",
     "output_type": "stream",
     "text": [
      "unexpected error has occurred.\n"
     ]
    },
    {
     "name": "stderr",
     "output_type": "stream",
     "text": [
      " 54%|█████▍    | 1473/2705 [51:33<45:27,  2.21s/it]"
     ]
    },
    {
     "name": "stdout",
     "output_type": "stream",
     "text": [
      "https://rickandmorty.fandom.com//wiki/Neutrino_Bomb article is empty\n"
     ]
    },
    {
     "name": "stderr",
     "output_type": "stream",
     "text": [
      " 54%|█████▍    | 1474/2705 [51:35<44:34,  2.17s/it]"
     ]
    },
    {
     "name": "stdout",
     "output_type": "stream",
     "text": [
      "https://rickandmorty.fandom.com//wiki/Neutrino_bomb article is empty\n"
     ]
    },
    {
     "name": "stderr",
     "output_type": "stream",
     "text": [
      " 55%|█████▍    | 1478/2705 [51:43<41:28,  2.03s/it]"
     ]
    },
    {
     "name": "stdout",
     "output_type": "stream",
     "text": [
      "cannot find: https://rickandmorty.fandom.com//wiki/Never_Ricking_Morty/Gallery\n"
     ]
    },
    {
     "name": "stderr",
     "output_type": "stream",
     "text": [
      " 55%|█████▍    | 1479/2705 [51:44<36:56,  1.81s/it]"
     ]
    },
    {
     "name": "stdout",
     "output_type": "stream",
     "text": [
      "cannot find: https://rickandmorty.fandom.com//wiki/Never_Ricking_Morty/Transcript\n"
     ]
    },
    {
     "name": "stderr",
     "output_type": "stream",
     "text": [
      " 55%|█████▍    | 1482/2705 [51:51<41:19,  2.03s/it]"
     ]
    },
    {
     "name": "stdout",
     "output_type": "stream",
     "text": [
      "https://rickandmorty.fandom.com//wiki/New_Chef_in_the_Rickchen article is empty\n"
     ]
    },
    {
     "name": "stderr",
     "output_type": "stream",
     "text": [
      " 55%|█████▍    | 1483/2705 [51:53<40:40,  2.00s/it]"
     ]
    },
    {
     "name": "stdout",
     "output_type": "stream",
     "text": [
      "https://rickandmorty.fandom.com//wiki/New_Chef_in_the_Rickchen_(Quest) article is empty\n"
     ]
    },
    {
     "name": "stderr",
     "output_type": "stream",
     "text": [
      " 55%|█████▍    | 1484/2705 [51:54<36:44,  1.81s/it]"
     ]
    },
    {
     "name": "stdout",
     "output_type": "stream",
     "text": [
      "cannot find: https://rickandmorty.fandom.com//wiki/New_Year%27s_Morty\n"
     ]
    },
    {
     "name": "stderr",
     "output_type": "stream",
     "text": [
      " 56%|█████▌    | 1516/2705 [53:02<43:24,  2.19s/it]"
     ]
    },
    {
     "name": "stdout",
     "output_type": "stream",
     "text": [
      "cannot find: https://rickandmorty.fandom.com//wiki/One_Crew_Over_the_Crewcoo%27s_Morty\n"
     ]
    },
    {
     "name": "stderr",
     "output_type": "stream",
     "text": [
      " 56%|█████▌    | 1517/2705 [53:04<38:42,  1.96s/it]"
     ]
    },
    {
     "name": "stdout",
     "output_type": "stream",
     "text": [
      "cannot find: https://rickandmorty.fandom.com//wiki/One_Crew_Over_the_Crewcoo%27s_Morty/Gallery\n"
     ]
    },
    {
     "name": "stderr",
     "output_type": "stream",
     "text": [
      " 56%|█████▌    | 1518/2705 [53:05<35:09,  1.78s/it]"
     ]
    },
    {
     "name": "stdout",
     "output_type": "stream",
     "text": [
      "cannot find: https://rickandmorty.fandom.com//wiki/One_Crew_over_the_Crewcoo%27s_Morty\n"
     ]
    },
    {
     "name": "stderr",
     "output_type": "stream",
     "text": [
      " 56%|█████▌    | 1519/2705 [53:07<34:15,  1.73s/it]"
     ]
    },
    {
     "name": "stdout",
     "output_type": "stream",
     "text": [
      "cannot find: https://rickandmorty.fandom.com//wiki/One_Crew_over_the_Crewcoo%27s_Morty/Gallery\n"
     ]
    },
    {
     "name": "stderr",
     "output_type": "stream",
     "text": [
      " 56%|█████▋    | 1522/2705 [53:13<38:59,  1.98s/it]"
     ]
    },
    {
     "name": "stdout",
     "output_type": "stream",
     "text": [
      "unexpected error has occurred.\n"
     ]
    },
    {
     "name": "stderr",
     "output_type": "stream",
     "text": [
      " 57%|█████▋    | 1538/2705 [53:48<42:24,  2.18s/it]"
     ]
    },
    {
     "name": "stdout",
     "output_type": "stream",
     "text": [
      "https://rickandmorty.fandom.com//wiki/Paralyze_Cure article is empty\n"
     ]
    },
    {
     "name": "stderr",
     "output_type": "stream",
     "text": [
      " 58%|█████▊    | 1575/2705 [55:09<38:13,  2.03s/it]"
     ]
    },
    {
     "name": "stdout",
     "output_type": "stream",
     "text": [
      "cannot find: https://rickandmorty.fandom.com//wiki/Pickle_Rick/Gallery\n"
     ]
    },
    {
     "name": "stderr",
     "output_type": "stream",
     "text": [
      " 58%|█████▊    | 1576/2705 [55:10<34:16,  1.82s/it]"
     ]
    },
    {
     "name": "stdout",
     "output_type": "stream",
     "text": [
      "cannot find: https://rickandmorty.fandom.com//wiki/Pickle_Rick/Transcript\n"
     ]
    },
    {
     "name": "stderr",
     "output_type": "stream",
     "text": [
      " 58%|█████▊    | 1579/2705 [55:16<34:01,  1.81s/it]"
     ]
    },
    {
     "name": "stdout",
     "output_type": "stream",
     "text": [
      "cannot find: https://rickandmorty.fandom.com//wiki/Pickle_Rick_(Episode)/Gallery\n"
     ]
    },
    {
     "name": "stderr",
     "output_type": "stream",
     "text": [
      " 58%|█████▊    | 1582/2705 [55:22<35:40,  1.91s/it]"
     ]
    },
    {
     "name": "stdout",
     "output_type": "stream",
     "text": [
      "cannot find: https://rickandmorty.fandom.com//wiki/Pickle_Rick_(episode)/Gallery\n"
     ]
    },
    {
     "name": "stderr",
     "output_type": "stream",
     "text": [
      " 59%|█████▉    | 1590/2705 [55:39<36:28,  1.96s/it]"
     ]
    },
    {
     "name": "stdout",
     "output_type": "stream",
     "text": [
      "cannot find: https://rickandmorty.fandom.com//wiki/Pilot/Gallery\n"
     ]
    },
    {
     "name": "stderr",
     "output_type": "stream",
     "text": [
      " 59%|█████▉    | 1591/2705 [55:41<33:44,  1.82s/it]"
     ]
    },
    {
     "name": "stdout",
     "output_type": "stream",
     "text": [
      "cannot find: https://rickandmorty.fandom.com//wiki/Pilot/Transcript\n"
     ]
    },
    {
     "name": "stderr",
     "output_type": "stream",
     "text": [
      " 59%|█████▉    | 1594/2705 [55:47<39:45,  2.15s/it]"
     ]
    },
    {
     "name": "stdout",
     "output_type": "stream",
     "text": [
      "unexpected error has occurred.\n"
     ]
    },
    {
     "name": "stderr",
     "output_type": "stream",
     "text": [
      " 59%|█████▉    | 1601/2705 [56:02<37:52,  2.06s/it]"
     ]
    },
    {
     "name": "stdout",
     "output_type": "stream",
     "text": [
      "unexpected error has occurred.\n"
     ]
    },
    {
     "name": "stderr",
     "output_type": "stream",
     "text": [
      " 60%|█████▉    | 1618/2705 [56:39<39:24,  2.18s/it]"
     ]
    },
    {
     "name": "stdout",
     "output_type": "stream",
     "text": [
      "https://rickandmorty.fandom.com//wiki/Plutonic_Rock article is empty\n"
     ]
    },
    {
     "name": "stderr",
     "output_type": "stream",
     "text": [
      " 60%|██████    | 1624/2705 [56:52<37:13,  2.07s/it]"
     ]
    },
    {
     "name": "stdout",
     "output_type": "stream",
     "text": [
      "cannot find: https://rickandmorty.fandom.com//wiki/Pocket_Morty%27s_Morty\n"
     ]
    },
    {
     "name": "stderr",
     "output_type": "stream",
     "text": [
      " 60%|██████    | 1634/2705 [57:14<38:46,  2.17s/it]"
     ]
    },
    {
     "name": "stdout",
     "output_type": "stream",
     "text": [
      "https://rickandmorty.fandom.com//wiki/Pocket_Mortys:Tin_Can article is empty\n"
     ]
    },
    {
     "name": "stderr",
     "output_type": "stream",
     "text": [
      " 60%|██████    | 1636/2705 [57:18<39:06,  2.20s/it]"
     ]
    },
    {
     "name": "stdout",
     "output_type": "stream",
     "text": [
      "https://rickandmorty.fandom.com//wiki/Poison_Cure article is empty\n"
     ]
    },
    {
     "name": "stderr",
     "output_type": "stream",
     "text": [
      " 61%|██████    | 1637/2705 [57:20<40:03,  2.25s/it]"
     ]
    },
    {
     "name": "stdout",
     "output_type": "stream",
     "text": [
      "unexpected error has occurred.\n"
     ]
    },
    {
     "name": "stderr",
     "output_type": "stream",
     "text": [
      " 61%|██████    | 1648/2705 [57:44<37:54,  2.15s/it]"
     ]
    },
    {
     "name": "stdout",
     "output_type": "stream",
     "text": [
      "unexpected error has occurred.\n"
     ]
    },
    {
     "name": "stderr",
     "output_type": "stream",
     "text": [
      " 61%|██████    | 1650/2705 [57:48<37:10,  2.11s/it]"
     ]
    },
    {
     "name": "stdout",
     "output_type": "stream",
     "text": [
      "unexpected error has occurred.\n"
     ]
    },
    {
     "name": "stderr",
     "output_type": "stream",
     "text": [
      " 61%|██████    | 1651/2705 [57:50<37:26,  2.13s/it]"
     ]
    },
    {
     "name": "stdout",
     "output_type": "stream",
     "text": [
      "unexpected error has occurred.\n"
     ]
    },
    {
     "name": "stderr",
     "output_type": "stream",
     "text": [
      " 61%|██████▏   | 1657/2705 [58:03<34:16,  1.96s/it]"
     ]
    },
    {
     "name": "stdout",
     "output_type": "stream",
     "text": [
      "cannot find: https://rickandmorty.fandom.com//wiki/Po%C3%B1eta\n"
     ]
    },
    {
     "name": "stderr",
     "output_type": "stream",
     "text": [
      " 62%|██████▏   | 1665/2705 [58:19<33:53,  1.95s/it]"
     ]
    },
    {
     "name": "stdout",
     "output_type": "stream",
     "text": [
      "cannot find: https://rickandmorty.fandom.com//wiki/President_Morty%27s_Portal_Gun\n"
     ]
    },
    {
     "name": "stderr",
     "output_type": "stream",
     "text": [
      " 62%|██████▏   | 1666/2705 [58:21<30:53,  1.78s/it]"
     ]
    },
    {
     "name": "stdout",
     "output_type": "stream",
     "text": [
      "cannot find: https://rickandmorty.fandom.com//wiki/President_Morty/Theories\n"
     ]
    },
    {
     "name": "stderr",
     "output_type": "stream",
     "text": [
      " 63%|██████▎   | 1696/2705 [59:26<34:09,  2.03s/it]"
     ]
    },
    {
     "name": "stdout",
     "output_type": "stream",
     "text": [
      "https://rickandmorty.fandom.com//wiki/Pure_Curum article is empty\n"
     ]
    },
    {
     "name": "stderr",
     "output_type": "stream",
     "text": [
      " 63%|██████▎   | 1697/2705 [59:28<35:36,  2.12s/it]"
     ]
    },
    {
     "name": "stdout",
     "output_type": "stream",
     "text": [
      "https://rickandmorty.fandom.com//wiki/Pure_Halzinger article is empty\n"
     ]
    },
    {
     "name": "stderr",
     "output_type": "stream",
     "text": [
      " 63%|██████▎   | 1698/2705 [59:30<36:39,  2.18s/it]"
     ]
    },
    {
     "name": "stdout",
     "output_type": "stream",
     "text": [
      "https://rickandmorty.fandom.com//wiki/Pure_Plutonic_Rock article is empty\n"
     ]
    },
    {
     "name": "stderr",
     "output_type": "stream",
     "text": [
      " 63%|██████▎   | 1699/2705 [59:33<38:10,  2.28s/it]"
     ]
    },
    {
     "name": "stdout",
     "output_type": "stream",
     "text": [
      "https://rickandmorty.fandom.com//wiki/Pure_Serum article is empty\n"
     ]
    },
    {
     "name": "stderr",
     "output_type": "stream",
     "text": [
      " 63%|██████▎   | 1705/2705 [59:46<37:15,  2.24s/it]"
     ]
    },
    {
     "name": "stdout",
     "output_type": "stream",
     "text": [
      "https://rickandmorty.fandom.com//wiki/Purified_Fleeb article is empty\n"
     ]
    },
    {
     "name": "stderr",
     "output_type": "stream",
     "text": [
      " 63%|██████▎   | 1709/2705 [59:55<36:14,  2.18s/it]"
     ]
    },
    {
     "name": "stdout",
     "output_type": "stream",
     "text": [
      "https://rickandmorty.fandom.com//wiki/Purpose_Robot article is empty\n"
     ]
    },
    {
     "name": "stderr",
     "output_type": "stream",
     "text": [
      " 63%|██████▎   | 1714/2705 [1:00:06<37:55,  2.30s/it]"
     ]
    },
    {
     "name": "stdout",
     "output_type": "stream",
     "text": [
      "unexpected error has occurred.\n"
     ]
    },
    {
     "name": "stderr",
     "output_type": "stream",
     "text": [
      " 64%|██████▍   | 1730/2705 [1:00:40<32:14,  1.98s/it]"
     ]
    },
    {
     "name": "stdout",
     "output_type": "stream",
     "text": [
      "cannot find: https://rickandmorty.fandom.com//wiki/Raising_Gazorpazorp/Gallery\n"
     ]
    },
    {
     "name": "stderr",
     "output_type": "stream",
     "text": [
      " 64%|██████▍   | 1731/2705 [1:00:42<29:34,  1.82s/it]"
     ]
    },
    {
     "name": "stdout",
     "output_type": "stream",
     "text": [
      "cannot find: https://rickandmorty.fandom.com//wiki/Raising_Gazorpazorp/Transcript\n"
     ]
    },
    {
     "name": "stderr",
     "output_type": "stream",
     "text": [
      " 64%|██████▍   | 1738/2705 [1:00:56<32:21,  2.01s/it]"
     ]
    },
    {
     "name": "stdout",
     "output_type": "stream",
     "text": [
      "cannot find: https://rickandmorty.fandom.com//wiki/Rattlestar_Ricklactica/Gallery\n"
     ]
    },
    {
     "name": "stderr",
     "output_type": "stream",
     "text": [
      " 64%|██████▍   | 1739/2705 [1:00:58<29:25,  1.83s/it]"
     ]
    },
    {
     "name": "stdout",
     "output_type": "stream",
     "text": [
      "cannot find: https://rickandmorty.fandom.com//wiki/Rattlestar_Ricklactica/Transcript\n"
     ]
    },
    {
     "name": "stderr",
     "output_type": "stream",
     "text": [
      " 65%|██████▌   | 1759/2705 [1:01:40<32:10,  2.04s/it]"
     ]
    },
    {
     "name": "stdout",
     "output_type": "stream",
     "text": [
      "cannot find: https://rickandmorty.fandom.com//wiki/Rest_and_Ricklaxation/Gallery\n"
     ]
    },
    {
     "name": "stderr",
     "output_type": "stream",
     "text": [
      " 65%|██████▌   | 1760/2705 [1:01:42<29:56,  1.90s/it]"
     ]
    },
    {
     "name": "stdout",
     "output_type": "stream",
     "text": [
      "cannot find: https://rickandmorty.fandom.com//wiki/Rest_and_Ricklaxation/Transcript\n"
     ]
    },
    {
     "name": "stderr",
     "output_type": "stream",
     "text": [
      " 66%|██████▌   | 1775/2705 [1:02:13<29:19,  1.89s/it]"
     ]
    },
    {
     "name": "stdout",
     "output_type": "stream",
     "text": [
      "cannot find: https://rickandmorty.fandom.com//wiki/Rick%27s_Basement_in_3D\n"
     ]
    },
    {
     "name": "stderr",
     "output_type": "stream",
     "text": [
      " 66%|██████▌   | 1776/2705 [1:02:14<26:57,  1.74s/it]"
     ]
    },
    {
     "name": "stdout",
     "output_type": "stream",
     "text": [
      "cannot find: https://rickandmorty.fandom.com//wiki/Rick%27s_Car\n"
     ]
    },
    {
     "name": "stderr",
     "output_type": "stream",
     "text": [
      " 66%|██████▌   | 1777/2705 [1:02:15<25:19,  1.64s/it]"
     ]
    },
    {
     "name": "stdout",
     "output_type": "stream",
     "text": [
      "cannot find: https://rickandmorty.fandom.com//wiki/Rick%27s_Enemies\n"
     ]
    },
    {
     "name": "stderr",
     "output_type": "stream",
     "text": [
      " 66%|██████▌   | 1778/2705 [1:02:17<24:50,  1.61s/it]"
     ]
    },
    {
     "name": "stdout",
     "output_type": "stream",
     "text": [
      "cannot find: https://rickandmorty.fandom.com//wiki/Rick%27s_Father\n"
     ]
    },
    {
     "name": "stderr",
     "output_type": "stream",
     "text": [
      " 66%|██████▌   | 1779/2705 [1:02:18<23:54,  1.55s/it]"
     ]
    },
    {
     "name": "stdout",
     "output_type": "stream",
     "text": [
      "cannot find: https://rickandmorty.fandom.com//wiki/Rick%27s_Foal\n"
     ]
    },
    {
     "name": "stderr",
     "output_type": "stream",
     "text": [
      " 66%|██████▌   | 1780/2705 [1:02:20<22:42,  1.47s/it]"
     ]
    },
    {
     "name": "stdout",
     "output_type": "stream",
     "text": [
      "cannot find: https://rickandmorty.fandom.com//wiki/Rick%27s_Pet_Morty\n"
     ]
    },
    {
     "name": "stderr",
     "output_type": "stream",
     "text": [
      " 66%|██████▌   | 1781/2705 [1:02:21<22:07,  1.44s/it]"
     ]
    },
    {
     "name": "stdout",
     "output_type": "stream",
     "text": [
      "cannot find: https://rickandmorty.fandom.com//wiki/Rick%27s_Room\n"
     ]
    },
    {
     "name": "stderr",
     "output_type": "stream",
     "text": [
      " 66%|██████▌   | 1782/2705 [1:02:22<21:50,  1.42s/it]"
     ]
    },
    {
     "name": "stdout",
     "output_type": "stream",
     "text": [
      "cannot find: https://rickandmorty.fandom.com//wiki/Rick%27s_UFO_Cruiser\n"
     ]
    },
    {
     "name": "stderr",
     "output_type": "stream",
     "text": [
      " 66%|██████▌   | 1783/2705 [1:02:24<21:53,  1.43s/it]"
     ]
    },
    {
     "name": "stdout",
     "output_type": "stream",
     "text": [
      "cannot find: https://rickandmorty.fandom.com//wiki/Rick%27s_ship\n"
     ]
    },
    {
     "name": "stderr",
     "output_type": "stream",
     "text": [
      " 66%|██████▌   | 1784/2705 [1:02:25<22:22,  1.46s/it]"
     ]
    },
    {
     "name": "stdout",
     "output_type": "stream",
     "text": [
      "cannot find: https://rickandmorty.fandom.com//wiki/Rick%27s_wife\n"
     ]
    },
    {
     "name": "stderr",
     "output_type": "stream",
     "text": [
      " 66%|██████▌   | 1788/2705 [1:02:33<27:26,  1.80s/it]"
     ]
    },
    {
     "name": "stdout",
     "output_type": "stream",
     "text": [
      "cannot find: https://rickandmorty.fandom.com//wiki/Rick_%26_Morty%27s_Thanksploitation_Spectactular\n"
     ]
    },
    {
     "name": "stderr",
     "output_type": "stream",
     "text": [
      " 66%|██████▌   | 1789/2705 [1:02:35<25:32,  1.67s/it]"
     ]
    },
    {
     "name": "stdout",
     "output_type": "stream",
     "text": [
      "cannot find: https://rickandmorty.fandom.com//wiki/Rick_%26_Morty%27s_Thanksploitation_Spectacular\n"
     ]
    },
    {
     "name": "stderr",
     "output_type": "stream",
     "text": [
      " 66%|██████▌   | 1790/2705 [1:02:36<24:25,  1.60s/it]"
     ]
    },
    {
     "name": "stdout",
     "output_type": "stream",
     "text": [
      "cannot find: https://rickandmorty.fandom.com//wiki/Rick_%26_Morty%27s_Thanksploitation_Spectacular/Transcript\n"
     ]
    },
    {
     "name": "stderr",
     "output_type": "stream",
     "text": [
      " 66%|██████▌   | 1791/2705 [1:02:38<23:37,  1.55s/it]"
     ]
    },
    {
     "name": "stdout",
     "output_type": "stream",
     "text": [
      "cannot find: https://rickandmorty.fandom.com//wiki/Rick_%26_Morty_DVDs\n"
     ]
    },
    {
     "name": "stderr",
     "output_type": "stream",
     "text": [
      " 66%|██████▌   | 1792/2705 [1:02:39<22:54,  1.51s/it]"
     ]
    },
    {
     "name": "stdout",
     "output_type": "stream",
     "text": [
      "cannot find: https://rickandmorty.fandom.com//wiki/Rick_%26_Morty_Deleted_Scenes\n"
     ]
    },
    {
     "name": "stderr",
     "output_type": "stream",
     "text": [
      " 66%|██████▋   | 1794/2705 [1:02:44<28:25,  1.87s/it]"
     ]
    },
    {
     "name": "stdout",
     "output_type": "stream",
     "text": [
      "unexpected error has occurred.\n"
     ]
    },
    {
     "name": "stderr",
     "output_type": "stream",
     "text": [
      " 66%|██████▋   | 1797/2705 [1:02:50<31:57,  2.11s/it]"
     ]
    },
    {
     "name": "stdout",
     "output_type": "stream",
     "text": [
      "https://rickandmorty.fandom.com//wiki/Rick_Around_the_Clock article is empty\n"
     ]
    },
    {
     "name": "stderr",
     "output_type": "stream",
     "text": [
      " 67%|██████▋   | 1804/2705 [1:03:06<33:11,  2.21s/it]"
     ]
    },
    {
     "name": "stdout",
     "output_type": "stream",
     "text": [
      "https://rickandmorty.fandom.com//wiki/Rick_Potion article is empty\n"
     ]
    },
    {
     "name": "stderr",
     "output_type": "stream",
     "text": [
      " 67%|██████▋   | 1805/2705 [1:03:08<32:20,  2.16s/it]"
     ]
    },
    {
     "name": "stdout",
     "output_type": "stream",
     "text": [
      "https://rickandmorty.fandom.com//wiki/Rick_Potion_9 article is empty\n"
     ]
    },
    {
     "name": "stderr",
     "output_type": "stream",
     "text": [
      " 67%|██████▋   | 1806/2705 [1:03:09<28:23,  1.89s/it]"
     ]
    },
    {
     "name": "stdout",
     "output_type": "stream",
     "text": [
      "cannot find: https://rickandmorty.fandom.com//wiki/Rick_Potion_9/Gallery\n"
     ]
    },
    {
     "name": "stderr",
     "output_type": "stream",
     "text": [
      " 67%|██████▋   | 1807/2705 [1:03:11<27:01,  1.81s/it]"
     ]
    },
    {
     "name": "stdout",
     "output_type": "stream",
     "text": [
      "cannot find: https://rickandmorty.fandom.com//wiki/Rick_Potion_9/Transcript\n"
     ]
    },
    {
     "name": "stderr",
     "output_type": "stream",
     "text": [
      " 67%|██████▋   | 1808/2705 [1:03:13<27:46,  1.86s/it]"
     ]
    },
    {
     "name": "stdout",
     "output_type": "stream",
     "text": [
      "https://rickandmorty.fandom.com//wiki/Rick_Potion_No._9 article is empty\n"
     ]
    },
    {
     "name": "stderr",
     "output_type": "stream",
     "text": [
      " 67%|██████▋   | 1809/2705 [1:03:14<26:17,  1.76s/it]"
     ]
    },
    {
     "name": "stdout",
     "output_type": "stream",
     "text": [
      "cannot find: https://rickandmorty.fandom.com//wiki/Rick_Potion_No._9/Gallery\n"
     ]
    },
    {
     "name": "stderr",
     "output_type": "stream",
     "text": [
      " 67%|██████▋   | 1810/2705 [1:03:16<24:48,  1.66s/it]"
     ]
    },
    {
     "name": "stdout",
     "output_type": "stream",
     "text": [
      "cannot find: https://rickandmorty.fandom.com//wiki/Rick_Potion_No._9/Transcript\n"
     ]
    },
    {
     "name": "stderr",
     "output_type": "stream",
     "text": [
      " 68%|██████▊   | 1827/2705 [1:03:52<27:54,  1.91s/it]"
     ]
    },
    {
     "name": "stdout",
     "output_type": "stream",
     "text": [
      "cannot find: https://rickandmorty.fandom.com//wiki/Rick_Sanchez_(Evil_Rick%27s_Target_Dimension)\n"
     ]
    },
    {
     "name": "stderr",
     "output_type": "stream",
     "text": [
      " 68%|██████▊   | 1831/2705 [1:04:00<27:31,  1.89s/it]"
     ]
    },
    {
     "name": "stdout",
     "output_type": "stream",
     "text": [
      "cannot find: https://rickandmorty.fandom.com//wiki/Rick_Sanchez_(J19%CE%B17)\n"
     ]
    },
    {
     "name": "stderr",
     "output_type": "stream",
     "text": [
      " 68%|██████▊   | 1832/2705 [1:04:03<31:03,  2.13s/it]"
     ]
    },
    {
     "name": "stdout",
     "output_type": "stream",
     "text": [
      "cannot find: https://rickandmorty.fandom.com//wiki/Rick_Sanchez_(Jerry%27s_original_dimension)\n"
     ]
    },
    {
     "name": "stderr",
     "output_type": "stream",
     "text": [
      " 68%|██████▊   | 1841/2705 [1:04:21<27:13,  1.89s/it]"
     ]
    },
    {
     "name": "stdout",
     "output_type": "stream",
     "text": [
      "cannot find: https://rickandmorty.fandom.com//wiki/Rick_and_Morty%27s_Rushed_Licensed_Adventure\n"
     ]
    },
    {
     "name": "stderr",
     "output_type": "stream",
     "text": [
      " 68%|██████▊   | 1844/2705 [1:04:27<29:10,  2.03s/it]"
     ]
    },
    {
     "name": "stdout",
     "output_type": "stream",
     "text": [
      "cannot find: https://rickandmorty.fandom.com//wiki/Rick_and_Morty:_Lil%27_Poopy_Superstar\n"
     ]
    },
    {
     "name": "stderr",
     "output_type": "stream",
     "text": [
      " 68%|██████▊   | 1845/2705 [1:04:29<26:33,  1.85s/it]"
     ]
    },
    {
     "name": "stdout",
     "output_type": "stream",
     "text": [
      "cannot find: https://rickandmorty.fandom.com//wiki/Rick_and_Morty:_Lil%E2%80%99_Poopy_Superstar\n"
     ]
    },
    {
     "name": "stderr",
     "output_type": "stream",
     "text": [
      " 71%|███████▏  | 1930/2705 [1:07:48<28:06,  2.18s/it]"
     ]
    },
    {
     "name": "stdout",
     "output_type": "stream",
     "text": [
      "cannot find: https://rickandmorty.fandom.com//wiki/Rick_and_Morty_Lil%E2%80%99_Poopy_Superstar_Volume_1\n"
     ]
    },
    {
     "name": "stderr",
     "output_type": "stream",
     "text": [
      " 72%|███████▏  | 1955/2705 [1:08:45<24:32,  1.96s/it]"
     ]
    },
    {
     "name": "stdout",
     "output_type": "stream",
     "text": [
      "cannot find: https://rickandmorty.fandom.com//wiki/Rick_and_Morty_Theme_Song/Gallery\n"
     ]
    },
    {
     "name": "stderr",
     "output_type": "stream",
     "text": [
      " 73%|███████▎  | 1988/2705 [1:09:58<26:22,  2.21s/it]"
     ]
    },
    {
     "name": "stdout",
     "output_type": "stream",
     "text": [
      "https://rickandmorty.fandom.com//wiki/Rickbooting_a_New_Life article is empty\n"
     ]
    },
    {
     "name": "stderr",
     "output_type": "stream",
     "text": [
      " 74%|███████▎  | 1990/2705 [1:10:01<22:34,  1.89s/it]"
     ]
    },
    {
     "name": "stdout",
     "output_type": "stream",
     "text": [
      "cannot find: https://rickandmorty.fandom.com//wiki/Rickdependence_Spray/Transcript\n"
     ]
    },
    {
     "name": "stderr",
     "output_type": "stream",
     "text": [
      " 74%|███████▍  | 1995/2705 [1:10:11<22:21,  1.89s/it]"
     ]
    },
    {
     "name": "stdout",
     "output_type": "stream",
     "text": [
      "cannot find: https://rickandmorty.fandom.com//wiki/Rickmancing_the_Stone/Gallery\n"
     ]
    },
    {
     "name": "stderr",
     "output_type": "stream",
     "text": [
      " 74%|███████▍  | 1996/2705 [1:10:12<20:40,  1.75s/it]"
     ]
    },
    {
     "name": "stdout",
     "output_type": "stream",
     "text": [
      "cannot find: https://rickandmorty.fandom.com//wiki/Rickmancing_the_Stone/Transcript\n"
     ]
    },
    {
     "name": "stderr",
     "output_type": "stream",
     "text": [
      " 74%|███████▍  | 1999/2705 [1:10:18<22:06,  1.88s/it]"
     ]
    },
    {
     "name": "stdout",
     "output_type": "stream",
     "text": [
      "cannot find: https://rickandmorty.fandom.com//wiki/Rickmurai_Jack/Transcript\n"
     ]
    },
    {
     "name": "stderr",
     "output_type": "stream",
     "text": [
      " 74%|███████▍  | 2013/2705 [1:10:50<26:28,  2.30s/it]"
     ]
    },
    {
     "name": "stdout",
     "output_type": "stream",
     "text": [
      "https://rickandmorty.fandom.com//wiki/Rickstoring_the_Balance article is empty\n"
     ]
    },
    {
     "name": "stderr",
     "output_type": "stream",
     "text": [
      " 74%|███████▍  | 2014/2705 [1:10:52<25:27,  2.21s/it]"
     ]
    },
    {
     "name": "stdout",
     "output_type": "stream",
     "text": [
      "https://rickandmorty.fandom.com//wiki/Rickstoring_the_Balance_(Quest) article is empty\n"
     ]
    },
    {
     "name": "stderr",
     "output_type": "stream",
     "text": [
      " 75%|███████▍  | 2016/2705 [1:10:56<23:46,  2.07s/it]"
     ]
    },
    {
     "name": "stdout",
     "output_type": "stream",
     "text": [
      "cannot find: https://rickandmorty.fandom.com//wiki/Ricksy_Business/Gallery\n"
     ]
    },
    {
     "name": "stderr",
     "output_type": "stream",
     "text": [
      " 75%|███████▍  | 2017/2705 [1:10:57<22:01,  1.92s/it]"
     ]
    },
    {
     "name": "stdout",
     "output_type": "stream",
     "text": [
      "cannot find: https://rickandmorty.fandom.com//wiki/Ricksy_Business/Transcript\n"
     ]
    },
    {
     "name": "stderr",
     "output_type": "stream",
     "text": [
      " 75%|███████▍  | 2018/2705 [1:11:00<22:51,  2.00s/it]"
     ]
    },
    {
     "name": "stdout",
     "output_type": "stream",
     "text": [
      "https://rickandmorty.fandom.com//wiki/Ricktastrophe_of_the_4th_Kind article is empty\n"
     ]
    },
    {
     "name": "stderr",
     "output_type": "stream",
     "text": [
      " 75%|███████▍  | 2021/2705 [1:11:05<21:46,  1.91s/it]"
     ]
    },
    {
     "name": "stdout",
     "output_type": "stream",
     "text": [
      "cannot find: https://rickandmorty.fandom.com//wiki/Rickternal_Friendshine_of_the_Spotless_Mort/Transcript\n"
     ]
    },
    {
     "name": "stderr",
     "output_type": "stream",
     "text": [
      " 75%|███████▍  | 2023/2705 [1:11:09<20:34,  1.81s/it]"
     ]
    },
    {
     "name": "stdout",
     "output_type": "stream",
     "text": [
      "cannot find: https://rickandmorty.fandom.com//wiki/Ricktional_Mortpoon%27s_Rickmas_Mortcation\n"
     ]
    },
    {
     "name": "stderr",
     "output_type": "stream",
     "text": [
      " 75%|███████▍  | 2026/2705 [1:11:16<23:11,  2.05s/it]"
     ]
    },
    {
     "name": "stdout",
     "output_type": "stream",
     "text": [
      "unexpected error has occurred.\n"
     ]
    },
    {
     "name": "stderr",
     "output_type": "stream",
     "text": [
      " 75%|███████▍  | 2027/2705 [1:11:17<21:17,  1.88s/it]"
     ]
    },
    {
     "name": "stdout",
     "output_type": "stream",
     "text": [
      "cannot find: https://rickandmorty.fandom.com//wiki/Risotto%27s_Tentacled_Henchman\n"
     ]
    },
    {
     "name": "stderr",
     "output_type": "stream",
     "text": [
      " 75%|███████▌  | 2030/2705 [1:11:23<21:14,  1.89s/it]"
     ]
    },
    {
     "name": "stdout",
     "output_type": "stream",
     "text": [
      "cannot find: https://rickandmorty.fandom.com//wiki/Rixty_Minutes/Gallery\n"
     ]
    },
    {
     "name": "stderr",
     "output_type": "stream",
     "text": [
      " 75%|███████▌  | 2031/2705 [1:11:24<19:48,  1.76s/it]"
     ]
    },
    {
     "name": "stdout",
     "output_type": "stream",
     "text": [
      "cannot find: https://rickandmorty.fandom.com//wiki/Rixty_Minutes/Transcript\n"
     ]
    },
    {
     "name": "stderr",
     "output_type": "stream",
     "text": [
      " 75%|███████▌  | 2036/2705 [1:11:35<22:37,  2.03s/it]"
     ]
    },
    {
     "name": "stdout",
     "output_type": "stream",
     "text": [
      "https://rickandmorty.fandom.com//wiki/Robot article is empty\n"
     ]
    },
    {
     "name": "stderr",
     "output_type": "stream",
     "text": [
      " 76%|███████▌  | 2056/2705 [1:12:20<24:25,  2.26s/it]"
     ]
    },
    {
     "name": "stdout",
     "output_type": "stream",
     "text": [
      "https://rickandmorty.fandom.com//wiki/Roy_VR_Headset article is empty\n"
     ]
    },
    {
     "name": "stderr",
     "output_type": "stream",
     "text": [
      " 77%|███████▋  | 2072/2705 [1:12:56<20:39,  1.96s/it]"
     ]
    },
    {
     "name": "stdout",
     "output_type": "stream",
     "text": [
      "cannot find: https://rickandmorty.fandom.com//wiki/Samurai_%26_Shogun\n"
     ]
    },
    {
     "name": "stderr",
     "output_type": "stream",
     "text": [
      " 77%|███████▋  | 2083/2705 [1:13:21<23:12,  2.24s/it]"
     ]
    },
    {
     "name": "stdout",
     "output_type": "stream",
     "text": [
      "unexpected error has occurred.\n"
     ]
    },
    {
     "name": "stderr",
     "output_type": "stream",
     "text": [
      " 78%|███████▊  | 2109/2705 [1:14:17<18:52,  1.90s/it]"
     ]
    },
    {
     "name": "stdout",
     "output_type": "stream",
     "text": [
      "cannot find: https://rickandmorty.fandom.com//wiki/Season_1/Gallery\n"
     ]
    },
    {
     "name": "stderr",
     "output_type": "stream",
     "text": [
      " 78%|███████▊  | 2111/2705 [1:14:21<18:25,  1.86s/it]"
     ]
    },
    {
     "name": "stdout",
     "output_type": "stream",
     "text": [
      "cannot find: https://rickandmorty.fandom.com//wiki/Season_2/Gallery\n"
     ]
    },
    {
     "name": "stderr",
     "output_type": "stream",
     "text": [
      " 78%|███████▊  | 2113/2705 [1:14:25<18:40,  1.89s/it]"
     ]
    },
    {
     "name": "stdout",
     "output_type": "stream",
     "text": [
      "cannot find: https://rickandmorty.fandom.com//wiki/Season_3/Gallery\n"
     ]
    },
    {
     "name": "stderr",
     "output_type": "stream",
     "text": [
      " 79%|███████▊  | 2126/2705 [1:14:54<21:55,  2.27s/it]"
     ]
    },
    {
     "name": "stdout",
     "output_type": "stream",
     "text": [
      "https://rickandmorty.fandom.com//wiki/Sensational_Serum article is empty\n"
     ]
    },
    {
     "name": "stderr",
     "output_type": "stream",
     "text": [
      " 79%|███████▉  | 2131/2705 [1:15:05<20:49,  2.18s/it]"
     ]
    },
    {
     "name": "stdout",
     "output_type": "stream",
     "text": [
      "https://rickandmorty.fandom.com//wiki/Serum article is empty\n"
     ]
    },
    {
     "name": "stderr",
     "output_type": "stream",
     "text": [
      " 79%|███████▉  | 2141/2705 [1:15:27<20:38,  2.20s/it]"
     ]
    },
    {
     "name": "stdout",
     "output_type": "stream",
     "text": [
      "unexpected error has occurred.\n"
     ]
    },
    {
     "name": "stderr",
     "output_type": "stream",
     "text": [
      " 80%|███████▉  | 2152/2705 [1:15:49<18:03,  1.96s/it]"
     ]
    },
    {
     "name": "stdout",
     "output_type": "stream",
     "text": [
      "cannot find: https://rickandmorty.fandom.com//wiki/Shmlo%27s_the_Shmloss%3F\n"
     ]
    },
    {
     "name": "stderr",
     "output_type": "stream",
     "text": [
      " 80%|███████▉  | 2161/2705 [1:16:10<20:09,  2.22s/it]"
     ]
    },
    {
     "name": "stdout",
     "output_type": "stream",
     "text": [
      "cannot find: https://rickandmorty.fandom.com//wiki/Shoney%27s\n"
     ]
    },
    {
     "name": "stderr",
     "output_type": "stream",
     "text": [
      " 80%|████████  | 2173/2705 [1:16:36<17:48,  2.01s/it]"
     ]
    },
    {
     "name": "stdout",
     "output_type": "stream",
     "text": [
      "cannot find: https://rickandmorty.fandom.com//wiki/Simple_Rick%E2%80%99s_Wafer_Cookie_factory\n"
     ]
    },
    {
     "name": "stderr",
     "output_type": "stream",
     "text": [
      " 80%|████████  | 2174/2705 [1:16:38<18:26,  2.08s/it]"
     ]
    },
    {
     "name": "stdout",
     "output_type": "stream",
     "text": [
      "https://rickandmorty.fandom.com//wiki/Simplified_Ruleset article is empty\n"
     ]
    },
    {
     "name": "stderr",
     "output_type": "stream",
     "text": [
      " 82%|████████▏ | 2214/2705 [1:18:08<16:44,  2.05s/it]"
     ]
    },
    {
     "name": "stdout",
     "output_type": "stream",
     "text": [
      "cannot find: https://rickandmorty.fandom.com//wiki/Solaricks/Transcript\n"
     ]
    },
    {
     "name": "stderr",
     "output_type": "stream",
     "text": [
      " 82%|████████▏ | 2215/2705 [1:18:09<15:48,  1.94s/it]"
     ]
    },
    {
     "name": "stdout",
     "output_type": "stream",
     "text": [
      "cannot find: https://rickandmorty.fandom.com//wiki/Solaricks_/Transcript\n"
     ]
    },
    {
     "name": "stderr",
     "output_type": "stream",
     "text": [
      " 82%|████████▏ | 2217/2705 [1:18:13<15:26,  1.90s/it]"
     ]
    },
    {
     "name": "stdout",
     "output_type": "stream",
     "text": [
      "cannot find: https://rickandmorty.fandom.com//wiki/Solen%27ya\n"
     ]
    },
    {
     "name": "stderr",
     "output_type": "stream",
     "text": [
      " 82%|████████▏ | 2222/2705 [1:18:23<15:45,  1.96s/it]"
     ]
    },
    {
     "name": "stdout",
     "output_type": "stream",
     "text": [
      "cannot find: https://rickandmorty.fandom.com//wiki/Something_Ricked_This_Way_Comes/Gallery\n"
     ]
    },
    {
     "name": "stderr",
     "output_type": "stream",
     "text": [
      " 82%|████████▏ | 2223/2705 [1:18:25<14:24,  1.79s/it]"
     ]
    },
    {
     "name": "stdout",
     "output_type": "stream",
     "text": [
      "cannot find: https://rickandmorty.fandom.com//wiki/Something_Ricked_This_Way_Comes/Transcript\n"
     ]
    },
    {
     "name": "stderr",
     "output_type": "stream",
     "text": [
      " 83%|████████▎ | 2234/2705 [1:18:51<19:09,  2.44s/it]"
     ]
    },
    {
     "name": "stdout",
     "output_type": "stream",
     "text": [
      "https://rickandmorty.fandom.com//wiki/Speed_Mega_Seed article is empty\n"
     ]
    },
    {
     "name": "stderr",
     "output_type": "stream",
     "text": [
      " 84%|████████▎ | 2261/2705 [1:19:50<14:32,  1.96s/it]"
     ]
    },
    {
     "name": "stdout",
     "output_type": "stream",
     "text": [
      "cannot find: https://rickandmorty.fandom.com//wiki/Star_Mort_Rickturn_of_the_Jerri/Gallery\n"
     ]
    },
    {
     "name": "stderr",
     "output_type": "stream",
     "text": [
      " 84%|████████▎ | 2262/2705 [1:19:51<13:32,  1.83s/it]"
     ]
    },
    {
     "name": "stdout",
     "output_type": "stream",
     "text": [
      "cannot find: https://rickandmorty.fandom.com//wiki/Star_Mort_Rickturn_of_the_Jerri/Transcript\n"
     ]
    },
    {
     "name": "stderr",
     "output_type": "stream",
     "text": [
      " 85%|████████▍ | 2293/2705 [1:21:02<13:52,  2.02s/it]"
     ]
    },
    {
     "name": "stdout",
     "output_type": "stream",
     "text": [
      "cannot find: https://rickandmorty.fandom.com//wiki/Summer%27s_Boyfriend\n"
     ]
    },
    {
     "name": "stderr",
     "output_type": "stream",
     "text": [
      " 85%|████████▍ | 2294/2705 [1:21:03<12:33,  1.83s/it]"
     ]
    },
    {
     "name": "stdout",
     "output_type": "stream",
     "text": [
      "cannot find: https://rickandmorty.fandom.com//wiki/Summer%27s_Future\n"
     ]
    },
    {
     "name": "stderr",
     "output_type": "stream",
     "text": [
      " 85%|████████▍ | 2295/2705 [1:21:05<11:52,  1.74s/it]"
     ]
    },
    {
     "name": "stdout",
     "output_type": "stream",
     "text": [
      "cannot find: https://rickandmorty.fandom.com//wiki/Summer%27s_Girlfriend\n"
     ]
    },
    {
     "name": "stderr",
     "output_type": "stream",
     "text": [
      " 85%|████████▍ | 2296/2705 [1:21:06<11:12,  1.64s/it]"
     ]
    },
    {
     "name": "stdout",
     "output_type": "stream",
     "text": [
      "cannot find: https://rickandmorty.fandom.com//wiki/Summer%27s_Room\n"
     ]
    },
    {
     "name": "stderr",
     "output_type": "stream",
     "text": [
      " 85%|████████▍ | 2297/2705 [1:21:08<10:52,  1.60s/it]"
     ]
    },
    {
     "name": "stdout",
     "output_type": "stream",
     "text": [
      "cannot find: https://rickandmorty.fandom.com//wiki/Summer_%26_Tinkles_Song\n"
     ]
    },
    {
     "name": "stderr",
     "output_type": "stream",
     "text": [
      " 85%|████████▌ | 2311/2705 [1:21:38<12:27,  1.90s/it]"
     ]
    },
    {
     "name": "stdout",
     "output_type": "stream",
     "text": [
      "cannot find: https://rickandmorty.fandom.com//wiki/Summer_Smith_(Evil_Rick%27s_Target_Dimension)\n"
     ]
    },
    {
     "name": "stderr",
     "output_type": "stream",
     "text": [
      " 85%|████████▌ | 2312/2705 [1:21:39<11:41,  1.79s/it]"
     ]
    },
    {
     "name": "stdout",
     "output_type": "stream",
     "text": [
      "cannot find: https://rickandmorty.fandom.com//wiki/Summer_Smith_(Goldenfold%27s_Dream)\n"
     ]
    },
    {
     "name": "stderr",
     "output_type": "stream",
     "text": [
      " 86%|████████▌ | 2313/2705 [1:21:41<10:53,  1.67s/it]"
     ]
    },
    {
     "name": "stdout",
     "output_type": "stream",
     "text": [
      "cannot find: https://rickandmorty.fandom.com//wiki/Summer_Smith_(Jerry%27s_original_dimension)\n"
     ]
    },
    {
     "name": "stderr",
     "output_type": "stream",
     "text": [
      " 86%|████████▌ | 2328/2705 [1:22:15<14:01,  2.23s/it]"
     ]
    },
    {
     "name": "stdout",
     "output_type": "stream",
     "text": [
      "https://rickandmorty.fandom.com//wiki/Supercharged_Battery article is empty\n"
     ]
    },
    {
     "name": "stderr",
     "output_type": "stream",
     "text": [
      " 87%|████████▋ | 2345/2705 [1:22:53<12:00,  2.00s/it]"
     ]
    },
    {
     "name": "stdout",
     "output_type": "stream",
     "text": [
      "cannot find: https://rickandmorty.fandom.com//wiki/Tales_From_the_Citadel/Gallery\n"
     ]
    },
    {
     "name": "stderr",
     "output_type": "stream",
     "text": [
      " 87%|████████▋ | 2346/2705 [1:22:55<11:19,  1.89s/it]"
     ]
    },
    {
     "name": "stdout",
     "output_type": "stream",
     "text": [
      "cannot find: https://rickandmorty.fandom.com//wiki/Tales_From_the_Citadel/Transcript\n"
     ]
    },
    {
     "name": "stderr",
     "output_type": "stream",
     "text": [
      " 87%|████████▋ | 2348/2705 [1:22:58<10:20,  1.74s/it]"
     ]
    },
    {
     "name": "stdout",
     "output_type": "stream",
     "text": [
      "cannot find: https://rickandmorty.fandom.com//wiki/Tales_from_the_Citadel/Gallery\n"
     ]
    },
    {
     "name": "stderr",
     "output_type": "stream",
     "text": [
      " 88%|████████▊ | 2379/2705 [1:24:07<11:01,  2.03s/it]"
     ]
    },
    {
     "name": "stdout",
     "output_type": "stream",
     "text": [
      "cannot find: https://rickandmorty.fandom.com//wiki/The_ABC%27s_of_Beth\n"
     ]
    },
    {
     "name": "stderr",
     "output_type": "stream",
     "text": [
      " 88%|████████▊ | 2380/2705 [1:24:08<10:05,  1.86s/it]"
     ]
    },
    {
     "name": "stdout",
     "output_type": "stream",
     "text": [
      "cannot find: https://rickandmorty.fandom.com//wiki/The_ABC%27s_of_Beth/Gallery\n"
     ]
    },
    {
     "name": "stderr",
     "output_type": "stream",
     "text": [
      " 88%|████████▊ | 2381/2705 [1:24:10<09:30,  1.76s/it]"
     ]
    },
    {
     "name": "stdout",
     "output_type": "stream",
     "text": [
      "cannot find: https://rickandmorty.fandom.com//wiki/The_ABC%27s_of_Beth/Transcript\n"
     ]
    },
    {
     "name": "stderr",
     "output_type": "stream",
     "text": [
      " 88%|████████▊ | 2387/2705 [1:24:23<11:11,  2.11s/it]"
     ]
    },
    {
     "name": "stdout",
     "output_type": "stream",
     "text": [
      "https://rickandmorty.fandom.com//wiki/The_Broken_Rickmote article is empty\n"
     ]
    },
    {
     "name": "stderr",
     "output_type": "stream",
     "text": [
      " 88%|████████▊ | 2388/2705 [1:24:25<11:31,  2.18s/it]"
     ]
    },
    {
     "name": "stdout",
     "output_type": "stream",
     "text": [
      "https://rickandmorty.fandom.com//wiki/The_Broken_Rickmote_(Quest) article is empty\n"
     ]
    },
    {
     "name": "stderr",
     "output_type": "stream",
     "text": [
      " 89%|████████▉ | 2408/2705 [1:25:07<09:45,  1.97s/it]"
     ]
    },
    {
     "name": "stdout",
     "output_type": "stream",
     "text": [
      "cannot find: https://rickandmorty.fandom.com//wiki/The_Look_Who%27s_Purging_Now_(Game)\n"
     ]
    },
    {
     "name": "stderr",
     "output_type": "stream",
     "text": [
      " 89%|████████▉ | 2409/2705 [1:25:09<10:19,  2.09s/it]"
     ]
    },
    {
     "name": "stdout",
     "output_type": "stream",
     "text": [
      "https://rickandmorty.fandom.com//wiki/The_Love_Ricktor article is empty\n"
     ]
    },
    {
     "name": "stderr",
     "output_type": "stream",
     "text": [
      " 89%|████████▉ | 2418/2705 [1:25:29<09:38,  2.02s/it]"
     ]
    },
    {
     "name": "stdout",
     "output_type": "stream",
     "text": [
      "cannot find: https://rickandmorty.fandom.com//wiki/The_Old_Man_and_the_Seat/Gallery\n"
     ]
    },
    {
     "name": "stderr",
     "output_type": "stream",
     "text": [
      " 90%|████████▉ | 2429/2705 [1:25:52<08:54,  1.94s/it]"
     ]
    },
    {
     "name": "stdout",
     "output_type": "stream",
     "text": [
      "cannot find: https://rickandmorty.fandom.com//wiki/The_Real_Animated_Adventures_of_Doc_and_Mharti/Transcript\n"
     ]
    },
    {
     "name": "stderr",
     "output_type": "stream",
     "text": [
      " 90%|████████▉ | 2432/2705 [1:25:59<09:51,  2.16s/it]"
     ]
    },
    {
     "name": "stdout",
     "output_type": "stream",
     "text": [
      "https://rickandmorty.fandom.com//wiki/The_Rick_In_Me_is_a_Rick_In_You article is empty\n"
     ]
    },
    {
     "name": "stderr",
     "output_type": "stream",
     "text": [
      " 90%|████████▉ | 2433/2705 [1:26:01<09:47,  2.16s/it]"
     ]
    },
    {
     "name": "stdout",
     "output_type": "stream",
     "text": [
      "https://rickandmorty.fandom.com//wiki/The_Rick_In_Me_is_a_Rick_In_You_(Quest) article is empty\n"
     ]
    },
    {
     "name": "stderr",
     "output_type": "stream",
     "text": [
      " 90%|█████████ | 2436/2705 [1:26:07<08:45,  1.95s/it]"
     ]
    },
    {
     "name": "stdout",
     "output_type": "stream",
     "text": [
      "cannot find: https://rickandmorty.fandom.com//wiki/The_Rickchurian_Mortydate/Gallery\n"
     ]
    },
    {
     "name": "stderr",
     "output_type": "stream",
     "text": [
      " 90%|█████████ | 2437/2705 [1:26:09<08:07,  1.82s/it]"
     ]
    },
    {
     "name": "stdout",
     "output_type": "stream",
     "text": [
      "cannot find: https://rickandmorty.fandom.com//wiki/The_Rickchurian_Mortydate/Transcript\n"
     ]
    },
    {
     "name": "stderr",
     "output_type": "stream",
     "text": [
      " 90%|█████████ | 2439/2705 [1:26:12<07:59,  1.80s/it]"
     ]
    },
    {
     "name": "stdout",
     "output_type": "stream",
     "text": [
      "cannot find: https://rickandmorty.fandom.com//wiki/The_Ricklantis_Mixup/Gallery\n"
     ]
    },
    {
     "name": "stderr",
     "output_type": "stream",
     "text": [
      " 90%|█████████ | 2440/2705 [1:26:14<07:35,  1.72s/it]"
     ]
    },
    {
     "name": "stdout",
     "output_type": "stream",
     "text": [
      "cannot find: https://rickandmorty.fandom.com//wiki/The_Ricklantis_Mixup/Transcript\n"
     ]
    },
    {
     "name": "stderr",
     "output_type": "stream",
     "text": [
      " 90%|█████████ | 2442/2705 [1:26:17<07:44,  1.77s/it]"
     ]
    },
    {
     "name": "stdout",
     "output_type": "stream",
     "text": [
      "cannot find: https://rickandmorty.fandom.com//wiki/The_Ricks_Must_Be_Crazy/Gallery\n"
     ]
    },
    {
     "name": "stderr",
     "output_type": "stream",
     "text": [
      " 90%|█████████ | 2443/2705 [1:26:19<07:15,  1.66s/it]"
     ]
    },
    {
     "name": "stdout",
     "output_type": "stream",
     "text": [
      "cannot find: https://rickandmorty.fandom.com//wiki/The_Ricks_Must_Be_Crazy/Transcript\n"
     ]
    },
    {
     "name": "stderr",
     "output_type": "stream",
     "text": [
      " 90%|█████████ | 2447/2705 [1:26:27<07:43,  1.79s/it]"
     ]
    },
    {
     "name": "stdout",
     "output_type": "stream",
     "text": [
      "cannot find: https://rickandmorty.fandom.com//wiki/The_Rickshank_Rickdemption/Gallery\n"
     ]
    },
    {
     "name": "stderr",
     "output_type": "stream",
     "text": [
      " 90%|█████████ | 2448/2705 [1:26:28<07:07,  1.66s/it]"
     ]
    },
    {
     "name": "stdout",
     "output_type": "stream",
     "text": [
      "cannot find: https://rickandmorty.fandom.com//wiki/The_Rickshank_Rickdemption/Transcript\n"
     ]
    },
    {
     "name": "stderr",
     "output_type": "stream",
     "text": [
      " 91%|█████████ | 2449/2705 [1:26:30<07:48,  1.83s/it]"
     ]
    },
    {
     "name": "stdout",
     "output_type": "stream",
     "text": [
      "https://rickandmorty.fandom.com//wiki/The_Ricktatorship article is empty\n"
     ]
    },
    {
     "name": "stderr",
     "output_type": "stream",
     "text": [
      " 91%|█████████ | 2461/2705 [1:26:57<08:11,  2.02s/it]"
     ]
    },
    {
     "name": "stdout",
     "output_type": "stream",
     "text": [
      "cannot find: https://rickandmorty.fandom.com//wiki/The_Vat_of_Acid_Episode/Gallery\n"
     ]
    },
    {
     "name": "stderr",
     "output_type": "stream",
     "text": [
      " 91%|█████████ | 2462/2705 [1:26:58<07:19,  1.81s/it]"
     ]
    },
    {
     "name": "stdout",
     "output_type": "stream",
     "text": [
      "cannot find: https://rickandmorty.fandom.com//wiki/The_Vat_of_Acid_Episode/Transcript\n"
     ]
    },
    {
     "name": "stderr",
     "output_type": "stream",
     "text": [
      " 91%|█████████ | 2466/2705 [1:27:07<08:06,  2.04s/it]"
     ]
    },
    {
     "name": "stdout",
     "output_type": "stream",
     "text": [
      "cannot find: https://rickandmorty.fandom.com//wiki/The_Wedding_Squanchers/Gallery\n"
     ]
    },
    {
     "name": "stderr",
     "output_type": "stream",
     "text": [
      " 91%|█████████ | 2467/2705 [1:27:08<07:20,  1.85s/it]"
     ]
    },
    {
     "name": "stdout",
     "output_type": "stream",
     "text": [
      "cannot find: https://rickandmorty.fandom.com//wiki/The_Wedding_Squanchers/Transcript\n"
     ]
    },
    {
     "name": "stderr",
     "output_type": "stream",
     "text": [
      " 91%|█████████ | 2468/2705 [1:27:10<07:32,  1.91s/it]"
     ]
    },
    {
     "name": "stdout",
     "output_type": "stream",
     "text": [
      "https://rickandmorty.fandom.com//wiki/The_Whirly_Dirly_Conspiracy article is empty\n"
     ]
    },
    {
     "name": "stderr",
     "output_type": "stream",
     "text": [
      " 91%|█████████▏| 2469/2705 [1:27:12<06:58,  1.77s/it]"
     ]
    },
    {
     "name": "stdout",
     "output_type": "stream",
     "text": [
      "cannot find: https://rickandmorty.fandom.com//wiki/The_Whirly_Dirly_Conspiracy/Gallery\n"
     ]
    },
    {
     "name": "stderr",
     "output_type": "stream",
     "text": [
      " 91%|█████████▏| 2470/2705 [1:27:13<06:32,  1.67s/it]"
     ]
    },
    {
     "name": "stdout",
     "output_type": "stream",
     "text": [
      "cannot find: https://rickandmorty.fandom.com//wiki/The_Whirly_Dirly_Conspiracy/Transcript\n"
     ]
    },
    {
     "name": "stderr",
     "output_type": "stream",
     "text": [
      " 92%|█████████▏| 2477/2705 [1:27:28<08:07,  2.14s/it]"
     ]
    },
    {
     "name": "stdout",
     "output_type": "stream",
     "text": [
      "https://rickandmorty.fandom.com//wiki/This_Rick_Must_Fly article is empty\n"
     ]
    },
    {
     "name": "stderr",
     "output_type": "stream",
     "text": [
      " 92%|█████████▏| 2488/2705 [1:27:52<08:14,  2.28s/it]"
     ]
    },
    {
     "name": "stdout",
     "output_type": "stream",
     "text": [
      "https://rickandmorty.fandom.com//wiki/Time-Stabilizing_Collar article is empty\n"
     ]
    },
    {
     "name": "stderr",
     "output_type": "stream",
     "text": [
      " 92%|█████████▏| 2489/2705 [1:27:54<07:51,  2.18s/it]"
     ]
    },
    {
     "name": "stdout",
     "output_type": "stream",
     "text": [
      "unexpected error has occurred.\n"
     ]
    },
    {
     "name": "stderr",
     "output_type": "stream",
     "text": [
      " 92%|█████████▏| 2492/2705 [1:28:00<07:43,  2.18s/it]"
     ]
    },
    {
     "name": "stdout",
     "output_type": "stream",
     "text": [
      "https://rickandmorty.fandom.com//wiki/Time_Crystal article is empty\n"
     ]
    },
    {
     "name": "stderr",
     "output_type": "stream",
     "text": [
      " 92%|█████████▏| 2493/2705 [1:28:03<07:41,  2.18s/it]"
     ]
    },
    {
     "name": "stdout",
     "output_type": "stream",
     "text": [
      "https://rickandmorty.fandom.com//wiki/Time_Crystal_(Crystallized_Xanthenite) article is empty\n"
     ]
    },
    {
     "name": "stderr",
     "output_type": "stream",
     "text": [
      " 92%|█████████▏| 2495/2705 [1:28:07<07:31,  2.15s/it]"
     ]
    },
    {
     "name": "stdout",
     "output_type": "stream",
     "text": [
      "https://rickandmorty.fandom.com//wiki/Time_Stabilizing_Collar article is empty\n"
     ]
    },
    {
     "name": "stderr",
     "output_type": "stream",
     "text": [
      " 92%|█████████▏| 2499/2705 [1:28:15<07:02,  2.05s/it]"
     ]
    },
    {
     "name": "stdout",
     "output_type": "stream",
     "text": [
      "https://rickandmorty.fandom.com//wiki/Tin_Can article is empty\n"
     ]
    },
    {
     "name": "stderr",
     "output_type": "stream",
     "text": [
      " 93%|█████████▎| 2520/2705 [1:29:01<06:07,  1.99s/it]"
     ]
    },
    {
     "name": "stdout",
     "output_type": "stream",
     "text": [
      "cannot find: https://rickandmorty.fandom.com//wiki/Tommy%27s_Clone\n"
     ]
    },
    {
     "name": "stderr",
     "output_type": "stream",
     "text": [
      " 93%|█████████▎| 2524/2705 [1:29:09<05:58,  1.98s/it]"
     ]
    },
    {
     "name": "stdout",
     "output_type": "stream",
     "text": [
      "cannot find: https://rickandmorty.fandom.com//wiki/Tony%27s_Wife\n"
     ]
    },
    {
     "name": "stderr",
     "output_type": "stream",
     "text": [
      " 94%|█████████▎| 2531/2705 [1:29:23<05:43,  1.98s/it]"
     ]
    },
    {
     "name": "stdout",
     "output_type": "stream",
     "text": [
      "cannot find: https://rickandmorty.fandom.com//wiki/Total_Rickall/Gallery\n"
     ]
    },
    {
     "name": "stderr",
     "output_type": "stream",
     "text": [
      " 94%|█████████▎| 2532/2705 [1:29:25<05:11,  1.80s/it]"
     ]
    },
    {
     "name": "stdout",
     "output_type": "stream",
     "text": [
      "cannot find: https://rickandmorty.fandom.com//wiki/Total_Rickall/Transcript\n"
     ]
    },
    {
     "name": "stderr",
     "output_type": "stream",
     "text": [
      " 94%|█████████▎| 2533/2705 [1:29:27<05:48,  2.03s/it]"
     ]
    },
    {
     "name": "stdout",
     "output_type": "stream",
     "text": [
      "unexpected error has occurred.\n"
     ]
    },
    {
     "name": "stderr",
     "output_type": "stream",
     "text": [
      " 95%|█████████▍| 2566/2705 [1:30:39<05:03,  2.18s/it]"
     ]
    },
    {
     "name": "stdout",
     "output_type": "stream",
     "text": [
      "https://rickandmorty.fandom.com//wiki/Turbulent_Juice article is empty\n"
     ]
    },
    {
     "name": "stderr",
     "output_type": "stream",
     "text": [
      " 95%|█████████▍| 2568/2705 [1:30:43<04:47,  2.10s/it]"
     ]
    },
    {
     "name": "stdout",
     "output_type": "stream",
     "text": [
      "https://rickandmorty.fandom.com//wiki/Turbulent_Juice_Tube article is empty\n"
     ]
    },
    {
     "name": "stderr",
     "output_type": "stream",
     "text": [
      " 95%|█████████▌| 2570/2705 [1:30:47<04:25,  1.97s/it]"
     ]
    },
    {
     "name": "stdout",
     "output_type": "stream",
     "text": [
      "cannot find: https://rickandmorty.fandom.com//wiki/Turnin%27_Turkey\n"
     ]
    },
    {
     "name": "stderr",
     "output_type": "stream",
     "text": [
      " 95%|█████████▌| 2582/2705 [1:31:11<03:49,  1.86s/it]"
     ]
    },
    {
     "name": "stdout",
     "output_type": "stream",
     "text": [
      "cannot find: https://rickandmorty.fandom.com//wiki/T%C3%A9l%C3%A9toon\n"
     ]
    },
    {
     "name": "stderr",
     "output_type": "stream",
     "text": [
      " 96%|█████████▌| 2590/2705 [1:31:28<03:51,  2.01s/it]"
     ]
    },
    {
     "name": "stdout",
     "output_type": "stream",
     "text": [
      "cannot find: https://rickandmorty.fandom.com//wiki/Unity%27s_Planet\n"
     ]
    },
    {
     "name": "stderr",
     "output_type": "stream",
     "text": [
      " 96%|█████████▌| 2598/2705 [1:31:44<03:20,  1.88s/it]"
     ]
    },
    {
     "name": "stdout",
     "output_type": "stream",
     "text": [
      "cannot find: https://rickandmorty.fandom.com//wiki/User_blog:YazzyDream/Things_to_do\n"
     ]
    },
    {
     "name": "stderr",
     "output_type": "stream",
     "text": [
      " 97%|█████████▋| 2622/2705 [1:32:37<02:49,  2.04s/it]"
     ]
    },
    {
     "name": "stdout",
     "output_type": "stream",
     "text": [
      "cannot find: https://rickandmorty.fandom.com//wiki/Vindicators_3:_The_Return_of_Worldender/Gallery\n"
     ]
    },
    {
     "name": "stderr",
     "output_type": "stream",
     "text": [
      " 97%|█████████▋| 2623/2705 [1:32:38<02:31,  1.84s/it]"
     ]
    },
    {
     "name": "stdout",
     "output_type": "stream",
     "text": [
      "cannot find: https://rickandmorty.fandom.com//wiki/Vindicators_3:_The_Return_of_Worldender/Transcript\n"
     ]
    },
    {
     "name": "stderr",
     "output_type": "stream",
     "text": [
      " 97%|█████████▋| 2625/2705 [1:32:43<02:46,  2.08s/it]"
     ]
    },
    {
     "name": "stdout",
     "output_type": "stream",
     "text": [
      "https://rickandmorty.fandom.com//wiki/Virtual_Rickality article is empty\n"
     ]
    },
    {
     "name": "stderr",
     "output_type": "stream",
     "text": [
      " 98%|█████████▊| 2651/2705 [1:33:41<01:44,  1.94s/it]"
     ]
    },
    {
     "name": "stdout",
     "output_type": "stream",
     "text": [
      "cannot find: https://rickandmorty.fandom.com//wiki/Weekend_at_Dead_Cat_Lady%27s_House_III\n"
     ]
    },
    {
     "name": "stderr",
     "output_type": "stream",
     "text": [
      " 99%|█████████▉| 2676/2705 [1:34:36<00:56,  1.95s/it]"
     ]
    },
    {
     "name": "stdout",
     "output_type": "stream",
     "text": [
      "cannot find: https://rickandmorty.fandom.com//wiki/X_Gon%27_Give_it_to_Ya\n"
     ]
    },
    {
     "name": "stderr",
     "output_type": "stream",
     "text": [
      " 99%|█████████▉| 2682/2705 [1:34:49<00:50,  2.21s/it]"
     ]
    },
    {
     "name": "stdout",
     "output_type": "stream",
     "text": [
      "unexpected error has occurred.\n"
     ]
    },
    {
     "name": "stderr",
     "output_type": "stream",
     "text": [
      " 99%|█████████▉| 2690/2705 [1:35:07<00:29,  1.99s/it]"
     ]
    },
    {
     "name": "stdout",
     "output_type": "stream",
     "text": [
      "cannot find: https://rickandmorty.fandom.com//wiki/Yummy%27_Yums\n"
     ]
    },
    {
     "name": "stderr",
     "output_type": "stream",
     "text": [
      "100%|█████████▉| 2692/2705 [1:35:10<00:24,  1.87s/it]"
     ]
    },
    {
     "name": "stdout",
     "output_type": "stream",
     "text": [
      "cannot find: https://rickandmorty.fandom.com//wiki/Zarbadar%27s_Mytholog\n"
     ]
    },
    {
     "name": "stderr",
     "output_type": "stream",
     "text": [
      "100%|██████████| 2705/2705 [1:35:38<00:00,  2.12s/it]\n"
     ]
    }
   ],
   "source": [
    "articles = []\n",
    "for page_link in tqdm(list_of_pages):\n",
    "    try:\n",
    "        try:\n",
    "            try:\n",
    "                time.sleep(random.randrange(50, 300)/1000)\n",
    "                content = get_text_from_page(page_link)\n",
    "                articles.append((page_link, content))\n",
    "            except ValueError as ve:\n",
    "                print(f'{page_link} article is empty')\n",
    "        except fandom.error.PageError as pe:\n",
    "            print(f'cannot find: {page_link}')\n",
    "    except Exception as e:\n",
    "        print('unexpected error has occurred.')\n"
   ]
  },
  {
   "cell_type": "markdown",
   "metadata": {},
   "source": [
    "- remove site navigation \n",
    "- remove non alphanumeric characters"
   ]
  },
  {
   "cell_type": "code",
   "execution_count": 13,
   "metadata": {},
   "outputs": [],
   "source": [
    "df_articles = pd.DataFrame(articles, columns=['link', 'content'])\n"
   ]
  },
  {
   "cell_type": "code",
   "execution_count": 15,
   "metadata": {},
   "outputs": [],
   "source": [
    "if SAVE:\n",
    "    df_articles.to_csv('df_articles.csv')"
   ]
  },
  {
   "cell_type": "code",
   "execution_count": 16,
   "metadata": {},
   "outputs": [
    {
     "data": {
      "text/plain": [
       "'1950s Guy\\n1950s Guy is a minor character from The Real Animated Adventures of Doc and Mharti\\nAppearance\\n1950s Guy wears a white t-shirt with the year \"1955\" written on it, with a black vest worn over it. He wears blue jeans and a black belt.\\nHe is seen carrying a bag of tree seeds.\\nHistory\\n1950s guy was a character who appeared in The Real Animated Adventures of Doc and Mharti. In one of the shorts, Mharti McDonhalds is flying a kite, but it unfortunately gets stuck in a tree.\\nDoc and Mharti travel back in time to the 1950s to prevent the tree from ever being planted. When the 1950s Guy arrives to plant the seed of the tree, Mharti licks Doc\\'s balls. Once 1950s Guy sees this, he starts screaming in pain and eventually fades from the timeline, and is unable to plant the tree seed.\\nLater, Mharti starts fading from the timeline in the present day, revealing that 1950\\'s guy must be Mharti\\'s great-great-great-great-great grandfather.\\nv • e Rick and Morty Characters \\nMain characters\\nCurrent cast\\nRick Sanchez • Morty Smith • Summer Smith • Jerry Smith • Beth Smith • Space Beth\\nMinor characters\\nHumans\\nAbrodolph Lincoler • Agency Director • Alan Rails • Albert Einstein • Alexander • Angie Flint • Annie • Ants in my Eyes Johnson • Armothy • Baby Legs • Blazen • Bobby Moynihan • Brad • Bruce Chutback • Bullies • Chang • Colossus • Coop • Creepy Little Girl • Danny Publitz • David Letterman • Davin • Diane Sanchez • Doom-Nomitron • Dwayne • Dr. Wong • Eddie • Eli • Eli\\'s Girlfriend • Eric McMan • Ethan • Father Bob • Frank Palicky • Gene • Gene Vagina • General Nathan • Gordon Lunis • Grace Smith • Hemorrhage • Hephaestus • Holly Hooks • Hunter • Hunter\\'s Dad • Jacob Philip • Jacqueline • Jaguar • Jamey • Jan Michael Vincent • Jeff • Jessica • Jesus Christ • Jim • Jodie • Joseph Lipnip • Josiah • Joyce Smith • Judge • Kathy Ireland • Larry • Leonard Smith • Logic • Lord Henderfinger • Lucy • Maggie • Marta • Morty\\'s Girlfriend • Lucius Needful • Lucy • MC Haps • Mr. Goldenfold • Mr. Goldmanbachmajorian • Mr. Marklovitz • Mrs. Pancakes • Mrs. Spencer • Mrs. Sullivan • Nancy • Naruto • Nick • Paul Fleishman • Poncho • President Leland • Priest Witherspoon • Professor Shabooboo • Professor Tock • Real Fake Doors Salesman •Regular Legs • Richard • Roger • Roy • Ruben • Running Bird • Samantha • Stacy • Steve • Story Lord • Simon • Taddy Mason • Tammy • Terry • The President of the United States • The Wizard • Tickets Please Guy • Toby Matthews • Tom Randolph • Tommy Lipkip • Tommy\\'s Clone • Tricia Lange • Vance Maximus • Xander • Xing Ho\\nAliens / Monsters\\nAdam • Alien Googah • Alien Parasites • Alyson Hannigan • Amy • Armagheadon • Arthricia • Baby Poopybutthole • Beebo • Benjamin • Beta-Seven • Birdperson • Blamphs • Blim Blam • Bova • Chachi • Chris • Class-2 Clonerbeast • Coach Feratu • Concept of Time • Concerto • Cornvelious Daniel • Cromulons • Crowscare • Crystal Poachers • Cynthia • Dale • Dale\\'s Son • Daphne • Darth Poopybutthole • Diablo Verde • Diseases • Dr. Xenon Bloom • Eyehole Man • Fart • Fleeb • Franklin Roosevelt • Fungo • Gaia • Galactic Federation President • Gar Gloonch • Garmanarnar • Gazorpazorpfield • Geardude • Gearhead • General Store Owner • Glar • Glenn • Glexo Slim Slom • Glootie • Gobo • Goomby • Harold The Garbage Goober • Helium-Q • Hoovy • Hydrogen-F • Ice-T • Jagoff • Japheth • Jon • Keara • Kendra • Kevin • Kyle • King Flippy Nips • King Jellybean • Kirkland Meeseeks • Krombopulos Michael • Kyle • Lighthouse Keeper • Lil B • Little Dipper • Ma-Sha • Magnesium-J • Melissa • Miles Knightly • Mr. Always Wants To Be Hunted • Mr. Booby Buyer • Mr. Frundles • Mr. Jellybean • Mr. Meeseeks • Mr. Nimbus • Mr. Poopybutthole • Mrs. Poopybutthole • Noob-Noob • Pawnshop Clerk • Peacock Jones • Planetina • Presidentress of The Mega Gargantuans • Prince Nebulon • Purge Planet Ruler • Rebel Doctor • Reggie • Risotto Groupon • Rose • Scary Brandon • Scary Glenn • Scary Olderson • Scary Terry • Scroopy Noopers • Scropon • Shlaammi • Shleemypants • Shmooglite Runner • Shnoopy Bloopers • Slippery Stair • Slow Mobius • Shrimply Pibbles • Sperm Queen • Squanchy • Stealy • Sticky • Stu • Sulfur-P • Supernova • Testicle Monster • The President of the Miniverse • Tony • Tony\\'s Wife • Tophat Jones • Trandor • Tree People • Triple Trunks • Truckula • Trunk People • Unity • Ventriloquiver • Vermigurber • Voltematron • Worldender • Yaarb • Zarbadar Gloonch • Zeep Xanflorp • Zick Zack\\nHuman hybrids\\nBirdperson\\'s Daughter • Calypso • Centaur • Elon Tusk • Florflok • Morty Jr. • Octopus Man • Rick\\'s Foal • Squeeb • Ticktock\\nAnimals\\nBalthromaw • Bill • Chud King • Crocubot • Diesel Weasel • Giant Telepathic Spiders • Gibble Snake • Izzy • Lizard People • Million Ants • Poneta • Pussifer • Slippy • Snuffles • Squirrels • Talking Cat • Time Bird • Truth Tortoise • Tough Rat • Two Crows\\nRobots\\nPurpose Robot • Conroy • Delivery Drone • Donna Guterman • Gwendolyn • Heistotron • Lady Katana • Pat Guterman • Space Cruiser • The Garage\\nAlternate versions of the main characters\\nRicks\\nAdjudicator Rick • Afro Rick • Alien Rick • Antenna Rick • Aqua Rick • Bald Rick • Big Fat Rick • Bootleg Portal Chemist Rick • C-131 • C-132 • Cat Rick • Commander Rick • Cop Rick • Cowboy Rick • Cronenberg Rick • Curly-haired Rick • Cyclops Rick • D-99 • D716 • D716-B • D716-C • Dumb Rick • Evil Rick • Evil Rick\\'s Target Dimension • Fancy Rick • Fascist Rick • Female Doofus Rick • Garment District Rick • Giant butt-eating Rick • Goo Monster Target • Guard Rick • Hologram Rick • Hothead Rick • Insurance Rick • Investigator Rick • J-22 • J19α7 • J19ζ7 • Josuke Rick • Juggling Rick • K-22 • K-83 • Little Ricky Wrap-it-up • Lizard Rick • Maximums Rickimus • Mechanical Rick • Mega Fruit Farmer Rick • Memory Rick • Morty Rick • Plumber Rick • Private Sector Rick • Quantum Rick • Radar Rick • Regional Manager Rick • Retired General Rick • Reverse Rick Outrage • Ricardo Montoya • Rick D. Sanchez III • Rick Guilt Rick • Rick Prime • Rick Prime (Council of Ricks) • Ricktiminus Sancheziminius • Riq IV • Robot Rick • S-223 • Salesman Rick • Simple Rick • Shrimp Rick • Slow Jamz Rick • Slow Rick • Solicitor Rick • Supreme Guard Ricks • Barber Rick • Teacher Rick • Teddy Rick • The Scientist Formerly Known as Rick • Toxic Rick • Wasp Rick • Woman Rick • Yellow Shirt Rick • Yo-Yo Rick • Zeta Alpha Rick\\nMortys\\n304-X • 9-2184C • Alien Morty • Antenna Morty • Aqua Morty • Artist Morty • Bald Morty • Bartender Morty • Big Head Morty • Big Morty • Blue Shirt Morty • C-131 • C-132 • Campaign Manager Morty • Cat Morty • Construction Dancer Morty • Cop Morty • Cowboy Dancer Morty • Cowboy Morty • Cronenberg Morty • Crop Top Morty • Cult Leader Morty • Cyclops Morty • Dipper Morty • Eric Stoltz Mask Morty • Evil Morty • Evil Rick\\'s Target Dimension • Fascism-fighting Morty • Fascist Morty • Flower Morty • Freckled Morty • Genius Morty • Giant butt-eating Morty • Glasses Morty • Goo Monster Target • Hammerhead Morty • K-22 • Lawyer Morty • Left-Handed Morty • Lizard Morty • Long Sleeved Morty • Mabel Morty • Mechanical Morty • Morty Mart Manager Morty • Mortytown Locos • Purple Morty • Robot Morty • Rodent Morty • Simulation Morty • Shrimp Morty • Slick Morty • Tortured Mortys • Toxic Morty • Toy Morty • Trunk Morty • Waiter Morty • Wasp Morty\\nSummers\\n304-X • C-1239 • C-132 • Summer (Cronenberged dimension) • Evil Rick\\'s Target Dimension • Evil Summer Clone • Mechanical Summer • Night Summer • S-223 • Wasp Summer\\nJerrys\\n304-X • Abandoned Jerrys • C-132 • Jerry (Cronenberged dimension) • C-500A • D-324 • Evil Jerry Clone • Evil Rick\\'s Target Dimension • Female Jerry • Ideal Jerry • J19α7 • Mytholog • President Jerry • Self-Congratulatory Jerry • Wasp Jerry\\nBeths\\n304-X • Beauty Mark Beth • C-1239 • C-132 • Beth (Cronenberged dimension) • C-137 • C-500A • Cat Beth • Cowgirl Beth • Evil Beth Clone • Evil Rick\\'s Target Dimension • Goddess Beth • Mytholog • Wasp Beth'"
      ]
     },
     "execution_count": 16,
     "metadata": {},
     "output_type": "execute_result"
    }
   ],
   "source": [
    "df_articles.content.iloc[0]"
   ]
  },
  {
   "cell_type": "markdown",
   "metadata": {},
   "source": [
    "Now, as dataframe is clean, we perform NLP processing"
   ]
  },
  {
   "cell_type": "code",
   "execution_count": 17,
   "metadata": {},
   "outputs": [],
   "source": [
    "from nltk.stem import WordNetLemmatizer\n",
    "from nltk.corpus import stopwords\n",
    "from nltk.tokenize import word_tokenize\n"
   ]
  },
  {
   "cell_type": "code",
   "execution_count": 18,
   "metadata": {},
   "outputs": [],
   "source": [
    "def preprocess(raw_text:str):\n",
    "    text = raw_text.lower()\n",
    "\n",
    "    text = re.sub('\\\\nv(.|\\n)*', ' ', text)\n",
    "    text = re.sub('\\\\n', ' ', text)\n",
    "    text = re.sub('[^\\w\\s]', ' ', text)\n",
    "    # text = re.sub('site navigation.*', '', text)\n",
    "    text = re.sub(' s ', '', text)\n",
    "\n",
    "    # tokenize\n",
    "    tokens = word_tokenize(text)\n",
    "\n",
    "    # lemmatize\n",
    "    lemmatizer = WordNetLemmatizer()\n",
    "    tokens = [lemmatizer.lemmatize(token) for token in tokens]\n",
    "\n",
    "    # drop stopwords\n",
    "    # english_stopwords = stopwords.words('english')\n",
    "    \n",
    "    return ' '.join(tokens)"
   ]
  },
  {
   "cell_type": "code",
   "execution_count": 19,
   "metadata": {},
   "outputs": [],
   "source": [
    "df_articles.content = df_articles.content.apply(preprocess)"
   ]
  },
  {
   "cell_type": "code",
   "execution_count": 20,
   "metadata": {},
   "outputs": [],
   "source": [
    "if SAVE:\n",
    "    df_articles.to_csv('df_articles_processed.csv')"
   ]
  },
  {
   "cell_type": "markdown",
   "metadata": {},
   "source": [
    "Now the dataframe is ready to be processed by TfIdf"
   ]
  },
  {
   "cell_type": "code",
   "execution_count": 21,
   "metadata": {},
   "outputs": [],
   "source": [
    "from sklearn.feature_extraction.text import TfidfVectorizer\n",
    "\n",
    "vectorizer = TfidfVectorizer(stop_words='english', ngram_range=(1,2))\n",
    "X = vectorizer.fit_transform(df_articles.content)"
   ]
  },
  {
   "cell_type": "code",
   "execution_count": 22,
   "metadata": {},
   "outputs": [
    {
     "data": {
      "text/plain": [
       "(2332, 184307)"
      ]
     },
     "execution_count": 22,
     "metadata": {},
     "output_type": "execute_result"
    }
   ],
   "source": [
    "X.toarray().shape"
   ]
  },
  {
   "cell_type": "code",
   "execution_count": 30,
   "metadata": {},
   "outputs": [],
   "source": [
    "df = pd.DataFrame(X.toarray(),\n",
    "    columns = vectorizer.get_feature_names_out())"
   ]
  },
  {
   "cell_type": "code",
   "execution_count": 31,
   "metadata": {},
   "outputs": [
    {
     "data": {
      "text/html": [
       "<div>\n",
       "<style scoped>\n",
       "    .dataframe tbody tr th:only-of-type {\n",
       "        vertical-align: middle;\n",
       "    }\n",
       "\n",
       "    .dataframe tbody tr th {\n",
       "        vertical-align: top;\n",
       "    }\n",
       "\n",
       "    .dataframe thead th {\n",
       "        text-align: right;\n",
       "    }\n",
       "</style>\n",
       "<table border=\"1\" class=\"dataframe\">\n",
       "  <thead>\n",
       "    <tr style=\"text-align: right;\">\n",
       "      <th></th>\n",
       "      <th>00</th>\n",
       "      <th>00 10</th>\n",
       "      <th>00 12</th>\n",
       "      <th>00 50</th>\n",
       "      <th>00 clock</th>\n",
       "      <th>00 einstienoffice</th>\n",
       "      <th>00 garage</th>\n",
       "      <th>00 hand</th>\n",
       "      <th>00 hawaii</th>\n",
       "      <th>00 hospital</th>\n",
       "      <th>...</th>\n",
       "      <th>zoo prostate</th>\n",
       "      <th>zoo wa</th>\n",
       "      <th>zookeeper</th>\n",
       "      <th>zookeeper annie</th>\n",
       "      <th>zoom</th>\n",
       "      <th>zoom surrounded</th>\n",
       "      <th>zooming</th>\n",
       "      <th>zooming rick</th>\n",
       "      <th>árboles</th>\n",
       "      <th>árboles mentirosos</th>\n",
       "    </tr>\n",
       "  </thead>\n",
       "  <tbody>\n",
       "    <tr>\n",
       "      <th>0</th>\n",
       "      <td>0.0</td>\n",
       "      <td>0.0</td>\n",
       "      <td>0.0</td>\n",
       "      <td>0.0</td>\n",
       "      <td>0.0</td>\n",
       "      <td>0.0</td>\n",
       "      <td>0.0</td>\n",
       "      <td>0.0</td>\n",
       "      <td>0.0</td>\n",
       "      <td>0.0</td>\n",
       "      <td>...</td>\n",
       "      <td>0.0</td>\n",
       "      <td>0.0</td>\n",
       "      <td>0.0</td>\n",
       "      <td>0.0</td>\n",
       "      <td>0.000000</td>\n",
       "      <td>0.000000</td>\n",
       "      <td>0.0</td>\n",
       "      <td>0.0</td>\n",
       "      <td>0.0</td>\n",
       "      <td>0.0</td>\n",
       "    </tr>\n",
       "    <tr>\n",
       "      <th>1</th>\n",
       "      <td>0.0</td>\n",
       "      <td>0.0</td>\n",
       "      <td>0.0</td>\n",
       "      <td>0.0</td>\n",
       "      <td>0.0</td>\n",
       "      <td>0.0</td>\n",
       "      <td>0.0</td>\n",
       "      <td>0.0</td>\n",
       "      <td>0.0</td>\n",
       "      <td>0.0</td>\n",
       "      <td>...</td>\n",
       "      <td>0.0</td>\n",
       "      <td>0.0</td>\n",
       "      <td>0.0</td>\n",
       "      <td>0.0</td>\n",
       "      <td>0.000000</td>\n",
       "      <td>0.000000</td>\n",
       "      <td>0.0</td>\n",
       "      <td>0.0</td>\n",
       "      <td>0.0</td>\n",
       "      <td>0.0</td>\n",
       "    </tr>\n",
       "    <tr>\n",
       "      <th>2</th>\n",
       "      <td>0.0</td>\n",
       "      <td>0.0</td>\n",
       "      <td>0.0</td>\n",
       "      <td>0.0</td>\n",
       "      <td>0.0</td>\n",
       "      <td>0.0</td>\n",
       "      <td>0.0</td>\n",
       "      <td>0.0</td>\n",
       "      <td>0.0</td>\n",
       "      <td>0.0</td>\n",
       "      <td>...</td>\n",
       "      <td>0.0</td>\n",
       "      <td>0.0</td>\n",
       "      <td>0.0</td>\n",
       "      <td>0.0</td>\n",
       "      <td>0.000000</td>\n",
       "      <td>0.000000</td>\n",
       "      <td>0.0</td>\n",
       "      <td>0.0</td>\n",
       "      <td>0.0</td>\n",
       "      <td>0.0</td>\n",
       "    </tr>\n",
       "    <tr>\n",
       "      <th>3</th>\n",
       "      <td>0.0</td>\n",
       "      <td>0.0</td>\n",
       "      <td>0.0</td>\n",
       "      <td>0.0</td>\n",
       "      <td>0.0</td>\n",
       "      <td>0.0</td>\n",
       "      <td>0.0</td>\n",
       "      <td>0.0</td>\n",
       "      <td>0.0</td>\n",
       "      <td>0.0</td>\n",
       "      <td>...</td>\n",
       "      <td>0.0</td>\n",
       "      <td>0.0</td>\n",
       "      <td>0.0</td>\n",
       "      <td>0.0</td>\n",
       "      <td>0.000000</td>\n",
       "      <td>0.000000</td>\n",
       "      <td>0.0</td>\n",
       "      <td>0.0</td>\n",
       "      <td>0.0</td>\n",
       "      <td>0.0</td>\n",
       "    </tr>\n",
       "    <tr>\n",
       "      <th>4</th>\n",
       "      <td>0.0</td>\n",
       "      <td>0.0</td>\n",
       "      <td>0.0</td>\n",
       "      <td>0.0</td>\n",
       "      <td>0.0</td>\n",
       "      <td>0.0</td>\n",
       "      <td>0.0</td>\n",
       "      <td>0.0</td>\n",
       "      <td>0.0</td>\n",
       "      <td>0.0</td>\n",
       "      <td>...</td>\n",
       "      <td>0.0</td>\n",
       "      <td>0.0</td>\n",
       "      <td>0.0</td>\n",
       "      <td>0.0</td>\n",
       "      <td>0.095932</td>\n",
       "      <td>0.095932</td>\n",
       "      <td>0.0</td>\n",
       "      <td>0.0</td>\n",
       "      <td>0.0</td>\n",
       "      <td>0.0</td>\n",
       "    </tr>\n",
       "  </tbody>\n",
       "</table>\n",
       "<p>5 rows × 55318 columns</p>\n",
       "</div>"
      ],
      "text/plain": [
       "    00  00 10  00 12  00 50  00 clock  00 einstienoffice  00 garage  00 hand  \\\n",
       "0  0.0    0.0    0.0    0.0       0.0                0.0        0.0      0.0   \n",
       "1  0.0    0.0    0.0    0.0       0.0                0.0        0.0      0.0   \n",
       "2  0.0    0.0    0.0    0.0       0.0                0.0        0.0      0.0   \n",
       "3  0.0    0.0    0.0    0.0       0.0                0.0        0.0      0.0   \n",
       "4  0.0    0.0    0.0    0.0       0.0                0.0        0.0      0.0   \n",
       "\n",
       "   00 hawaii  00 hospital  ...  zoo prostate  zoo wa  zookeeper  \\\n",
       "0        0.0          0.0  ...           0.0     0.0        0.0   \n",
       "1        0.0          0.0  ...           0.0     0.0        0.0   \n",
       "2        0.0          0.0  ...           0.0     0.0        0.0   \n",
       "3        0.0          0.0  ...           0.0     0.0        0.0   \n",
       "4        0.0          0.0  ...           0.0     0.0        0.0   \n",
       "\n",
       "   zookeeper annie      zoom  zoom surrounded  zooming  zooming rick  árboles  \\\n",
       "0              0.0  0.000000         0.000000      0.0           0.0      0.0   \n",
       "1              0.0  0.000000         0.000000      0.0           0.0      0.0   \n",
       "2              0.0  0.000000         0.000000      0.0           0.0      0.0   \n",
       "3              0.0  0.000000         0.000000      0.0           0.0      0.0   \n",
       "4              0.0  0.095932         0.095932      0.0           0.0      0.0   \n",
       "\n",
       "   árboles mentirosos  \n",
       "0                 0.0  \n",
       "1                 0.0  \n",
       "2                 0.0  \n",
       "3                 0.0  \n",
       "4                 0.0  \n",
       "\n",
       "[5 rows x 55318 columns]"
      ]
     },
     "execution_count": 31,
     "metadata": {},
     "output_type": "execute_result"
    }
   ],
   "source": [
    "df.head()"
   ]
  },
  {
   "cell_type": "markdown",
   "metadata": {},
   "source": [
    "We can sort the idf vectors by frequency, to see which terms are the least informative.\n",
    "\n",
    "- TODO: present the following using `wordcloud`?\n"
   ]
  },
  {
   "cell_type": "code",
   "execution_count": 23,
   "metadata": {},
   "outputs": [
    {
     "data": {
      "text/html": [
       "<div>\n",
       "<style scoped>\n",
       "    .dataframe tbody tr th:only-of-type {\n",
       "        vertical-align: middle;\n",
       "    }\n",
       "\n",
       "    .dataframe tbody tr th {\n",
       "        vertical-align: top;\n",
       "    }\n",
       "\n",
       "    .dataframe thead th {\n",
       "        text-align: right;\n",
       "    }\n",
       "</style>\n",
       "<table border=\"1\" class=\"dataframe\">\n",
       "  <thead>\n",
       "    <tr style=\"text-align: right;\">\n",
       "      <th></th>\n",
       "      <th>idf_weights</th>\n",
       "    </tr>\n",
       "  </thead>\n",
       "  <tbody>\n",
       "    <tr>\n",
       "      <th>morty</th>\n",
       "      <td>1.274482</td>\n",
       "    </tr>\n",
       "    <tr>\n",
       "      <th>rick</th>\n",
       "      <td>1.354901</td>\n",
       "    </tr>\n",
       "    <tr>\n",
       "      <th>wa</th>\n",
       "      <td>1.573318</td>\n",
       "    </tr>\n",
       "    <tr>\n",
       "      <th>navigation</th>\n",
       "      <td>1.779496</td>\n",
       "    </tr>\n",
       "    <tr>\n",
       "      <th>site</th>\n",
       "      <td>1.790775</td>\n",
       "    </tr>\n",
       "    <tr>\n",
       "      <th>site navigation</th>\n",
       "      <td>1.805054</td>\n",
       "    </tr>\n",
       "    <tr>\n",
       "      <th>rick morty</th>\n",
       "      <td>1.864301</td>\n",
       "    </tr>\n",
       "    <tr>\n",
       "      <th>episode</th>\n",
       "      <td>1.969323</td>\n",
       "    </tr>\n",
       "    <tr>\n",
       "      <th>trivia</th>\n",
       "      <td>2.034690</td>\n",
       "    </tr>\n",
       "    <tr>\n",
       "      <th>ha</th>\n",
       "      <td>2.070299</td>\n",
       "    </tr>\n",
       "    <tr>\n",
       "      <th>appearance</th>\n",
       "      <td>2.126869</td>\n",
       "    </tr>\n",
       "    <tr>\n",
       "      <th>mortys</th>\n",
       "      <td>2.172885</td>\n",
       "    </tr>\n",
       "    <tr>\n",
       "      <th>game</th>\n",
       "      <td>2.185429</td>\n",
       "    </tr>\n",
       "    <tr>\n",
       "      <th>sanchez</th>\n",
       "      <td>2.224033</td>\n",
       "    </tr>\n",
       "    <tr>\n",
       "      <th>smith</th>\n",
       "      <td>2.234289</td>\n",
       "    </tr>\n",
       "    <tr>\n",
       "      <th>character</th>\n",
       "      <td>2.244652</td>\n",
       "    </tr>\n",
       "    <tr>\n",
       "      <th>like</th>\n",
       "      <td>2.247633</td>\n",
       "    </tr>\n",
       "    <tr>\n",
       "      <th>pocket</th>\n",
       "      <td>2.276401</td>\n",
       "    </tr>\n",
       "    <tr>\n",
       "      <th>appears</th>\n",
       "      <td>2.306021</td>\n",
       "    </tr>\n",
       "    <tr>\n",
       "      <th>dimension</th>\n",
       "      <td>2.317159</td>\n",
       "    </tr>\n",
       "  </tbody>\n",
       "</table>\n",
       "</div>"
      ],
      "text/plain": [
       "                 idf_weights\n",
       "morty               1.274482\n",
       "rick                1.354901\n",
       "wa                  1.573318\n",
       "navigation          1.779496\n",
       "site                1.790775\n",
       "site navigation     1.805054\n",
       "rick morty          1.864301\n",
       "episode             1.969323\n",
       "trivia              2.034690\n",
       "ha                  2.070299\n",
       "appearance          2.126869\n",
       "mortys              2.172885\n",
       "game                2.185429\n",
       "sanchez             2.224033\n",
       "smith               2.234289\n",
       "character           2.244652\n",
       "like                2.247633\n",
       "pocket              2.276401\n",
       "appears             2.306021\n",
       "dimension           2.317159"
      ]
     },
     "execution_count": 23,
     "metadata": {},
     "output_type": "execute_result"
    }
   ],
   "source": [
    "idf_df = pd.DataFrame(\n",
    "    vectorizer.idf_,\n",
    "    index=vectorizer.get_feature_names_out(),\n",
    "    columns=['idf_weights']\n",
    ")\n",
    "\n",
    "idf_df.sort_values(by=['idf_weights']).head(20)\n"
   ]
  },
  {
   "cell_type": "code",
   "execution_count": 24,
   "metadata": {},
   "outputs": [],
   "source": [
    "# compute cosine similarities  of each cluster]\n",
    "from sklearn.metrics.pairwise import cosine_similarity\n",
    "\n",
    "query = 'birdperson'\n",
    "\n",
    "query_clean = preprocess(query)\n",
    "\n",
    "query_vector = vectorizer.transform([query_clean])"
   ]
  },
  {
   "cell_type": "code",
   "execution_count": 25,
   "metadata": {},
   "outputs": [
    {
     "data": {
      "text/plain": [
       "(1, 184307)"
      ]
     },
     "execution_count": 25,
     "metadata": {},
     "output_type": "execute_result"
    }
   ],
   "source": [
    "query_vector.toarray().shape"
   ]
  },
  {
   "cell_type": "code",
   "execution_count": 26,
   "metadata": {},
   "outputs": [],
   "source": [
    "cosine= cosine_similarity(query_vector, X)\n",
    "similarities = pd.DataFrame({'link': df_articles.link.iloc[:], \"cosine\": cosine.flatten()})\n",
    "similarities = similarities.sort_values(by='cosine',ascending=False)"
   ]
  },
  {
   "cell_type": "code",
   "execution_count": 46,
   "metadata": {},
   "outputs": [],
   "source": []
  },
  {
   "cell_type": "code",
   "execution_count": 27,
   "metadata": {},
   "outputs": [
    {
     "data": {
      "text/html": [
       "<div>\n",
       "<style scoped>\n",
       "    .dataframe tbody tr th:only-of-type {\n",
       "        vertical-align: middle;\n",
       "    }\n",
       "\n",
       "    .dataframe tbody tr th {\n",
       "        vertical-align: top;\n",
       "    }\n",
       "\n",
       "    .dataframe thead th {\n",
       "        text-align: right;\n",
       "    }\n",
       "</style>\n",
       "<table border=\"1\" class=\"dataframe\">\n",
       "  <thead>\n",
       "    <tr style=\"text-align: right;\">\n",
       "      <th></th>\n",
       "      <th>link</th>\n",
       "      <th>cosine</th>\n",
       "    </tr>\n",
       "  </thead>\n",
       "  <tbody>\n",
       "    <tr>\n",
       "      <th>171</th>\n",
       "      <td>https://rickandmorty.fandom.com//wiki/Bird_Person</td>\n",
       "      <td>0.499120</td>\n",
       "    </tr>\n",
       "    <tr>\n",
       "      <th>175</th>\n",
       "      <td>https://rickandmorty.fandom.com//wiki/Birdperson</td>\n",
       "      <td>0.499120</td>\n",
       "    </tr>\n",
       "    <tr>\n",
       "      <th>1357</th>\n",
       "      <td>https://rickandmorty.fandom.com//wiki/Phoenixp...</td>\n",
       "      <td>0.499120</td>\n",
       "    </tr>\n",
       "    <tr>\n",
       "      <th>1739</th>\n",
       "      <td>https://rickandmorty.fandom.com//wiki/Ricktern...</td>\n",
       "      <td>0.394130</td>\n",
       "    </tr>\n",
       "    <tr>\n",
       "      <th>646</th>\n",
       "      <td>https://rickandmorty.fandom.com//wiki/Freedom_...</td>\n",
       "      <td>0.245990</td>\n",
       "    </tr>\n",
       "    <tr>\n",
       "      <th>1665</th>\n",
       "      <td>https://rickandmorty.fandom.com//wiki/Rick_and...</td>\n",
       "      <td>0.211692</td>\n",
       "    </tr>\n",
       "    <tr>\n",
       "      <th>2031</th>\n",
       "      <td>https://rickandmorty.fandom.com//wiki/Tammy</td>\n",
       "      <td>0.188464</td>\n",
       "    </tr>\n",
       "    <tr>\n",
       "      <th>2034</th>\n",
       "      <td>https://rickandmorty.fandom.com//wiki/Tammy_Gu...</td>\n",
       "      <td>0.188464</td>\n",
       "    </tr>\n",
       "    <tr>\n",
       "      <th>2033</th>\n",
       "      <td>https://rickandmorty.fandom.com//wiki/Tammy_Gu...</td>\n",
       "      <td>0.188464</td>\n",
       "    </tr>\n",
       "    <tr>\n",
       "      <th>2032</th>\n",
       "      <td>https://rickandmorty.fandom.com//wiki/Tammy_Gu...</td>\n",
       "      <td>0.188464</td>\n",
       "    </tr>\n",
       "  </tbody>\n",
       "</table>\n",
       "</div>"
      ],
      "text/plain": [
       "                                                   link    cosine\n",
       "171   https://rickandmorty.fandom.com//wiki/Bird_Person  0.499120\n",
       "175    https://rickandmorty.fandom.com//wiki/Birdperson  0.499120\n",
       "1357  https://rickandmorty.fandom.com//wiki/Phoenixp...  0.499120\n",
       "1739  https://rickandmorty.fandom.com//wiki/Ricktern...  0.394130\n",
       "646   https://rickandmorty.fandom.com//wiki/Freedom_...  0.245990\n",
       "1665  https://rickandmorty.fandom.com//wiki/Rick_and...  0.211692\n",
       "2031        https://rickandmorty.fandom.com//wiki/Tammy  0.188464\n",
       "2034  https://rickandmorty.fandom.com//wiki/Tammy_Gu...  0.188464\n",
       "2033  https://rickandmorty.fandom.com//wiki/Tammy_Gu...  0.188464\n",
       "2032  https://rickandmorty.fandom.com//wiki/Tammy_Gu...  0.188464"
      ]
     },
     "execution_count": 27,
     "metadata": {},
     "output_type": "execute_result"
    }
   ],
   "source": [
    "similarities.head(10)"
   ]
  },
  {
   "cell_type": "markdown",
   "metadata": {},
   "source": [
    "### Dimensionality reduction\n",
    "\n",
    "we can also experiment with dimensionality reduction to retreieve key concepts present in the fandom.\n",
    "\n",
    "- SVD\n",
    "- NMF"
   ]
  },
  {
   "cell_type": "code",
   "execution_count": null,
   "metadata": {},
   "outputs": [],
   "source": []
  }
 ],
 "metadata": {
  "kernelspec": {
   "display_name": "Python 3.10.6 ('ir-1')",
   "language": "python",
   "name": "python3"
  },
  "language_info": {
   "codemirror_mode": {
    "name": "ipython",
    "version": 3
   },
   "file_extension": ".py",
   "mimetype": "text/x-python",
   "name": "python",
   "nbconvert_exporter": "python",
   "pygments_lexer": "ipython3",
   "version": "3.10.6"
  },
  "orig_nbformat": 4,
  "vscode": {
   "interpreter": {
    "hash": "243ee4934acc533e3f4f2172c14a9748c592e0f7da7fb5f44f964b5417915cb3"
   }
  }
 },
 "nbformat": 4,
 "nbformat_minor": 2
}
